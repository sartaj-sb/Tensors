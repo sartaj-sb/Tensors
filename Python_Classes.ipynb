{
  "nbformat": 4,
  "nbformat_minor": 0,
  "metadata": {
    "colab": {
      "provenance": [],
      "authorship_tag": "ABX9TyOfTtk+N/MYc6X/WG3tsYm4",
      "include_colab_link": true
    },
    "kernelspec": {
      "name": "python3",
      "display_name": "Python 3"
    },
    "language_info": {
      "name": "python"
    }
  },
  "cells": [
    {
      "cell_type": "markdown",
      "metadata": {
        "id": "view-in-github",
        "colab_type": "text"
      },
      "source": [
        "<a href=\"https://colab.research.google.com/github/sartaj-sb/Tensors/blob/main/Python_Classes.ipynb\" target=\"_parent\"><img src=\"https://colab.research.google.com/assets/colab-badge.svg\" alt=\"Open In Colab\"/></a>"
      ]
    },
    {
      "cell_type": "markdown",
      "source": [
        "## Class and instances"
      ],
      "metadata": {
        "id": "HMD-Dg4KGSaW"
      }
    },
    {
      "cell_type": "markdown",
      "source": [
        "Python classes are a fundamental feature of object-oriented programming (OOP) that allow you to define custom data types and structures. They serve as blueprints for creating objects, which are instances of a class."
      ],
      "metadata": {
        "id": "PwBcjTgHv5Hv"
      }
    },
    {
      "cell_type": "markdown",
      "source": [
        "method is a function that is associated with a class"
      ],
      "metadata": {
        "id": "mASRBExvwbkK"
      }
    },
    {
      "cell_type": "markdown",
      "source": [
        "a class is a bluprint for creating instances"
      ],
      "metadata": {
        "id": "y_2YAUpSxCr6"
      }
    },
    {
      "cell_type": "markdown",
      "source": [
        " While \"object\" is a more general term that encompasses all data structures and instances in Python, \"instance\" is often used to refer specifically to objects created from user-defined classes."
      ],
      "metadata": {
        "id": "VoEBA3t8yETQ"
      }
    },
    {
      "cell_type": "code",
      "execution_count": null,
      "metadata": {
        "id": "cH7i-23TvGTi"
      },
      "outputs": [],
      "source": [
        "class Employee:\n",
        "\n",
        "    def __init__(self, first, last, pay):\n",
        "        self.first = first\n",
        "        self.last = last\n",
        "        self.email = first + '.' + last + '@email.com'\n",
        "        self.pay = pay\n",
        "\n",
        "    def fullname(self):\n",
        "        return '{} {}'.format(self.first, self.last)\n",
        "\n",
        "emp_1 = Employee('Corey', 'Schafer', 50000) #instance\n",
        "emp_2 = Employee('Test', 'Employee', 60000) #instance"
      ]
    },
    {
      "cell_type": "code",
      "source": [
        "print(emp_1.first)\n"
      ],
      "metadata": {
        "colab": {
          "base_uri": "https://localhost:8080/"
        },
        "id": "EzzHLOEawrve",
        "outputId": "49052c8a-ec91-41cb-9e13-17c00bea0be6"
      },
      "execution_count": null,
      "outputs": [
        {
          "output_type": "stream",
          "name": "stdout",
          "text": [
            "Corey\n"
          ]
        }
      ]
    },
    {
      "cell_type": "code",
      "source": [
        "print(emp_1.fullname())"
      ],
      "metadata": {
        "colab": {
          "base_uri": "https://localhost:8080/"
        },
        "id": "xTgcxYNX3ose",
        "outputId": "e9083761-bdcb-4868-d09a-c16ac641dc60"
      },
      "execution_count": null,
      "outputs": [
        {
          "output_type": "stream",
          "name": "stdout",
          "text": [
            "Corey Schafer\n"
          ]
        }
      ]
    },
    {
      "cell_type": "code",
      "source": [
        "Employee.fullname(emp_1)"
      ],
      "metadata": {
        "colab": {
          "base_uri": "https://localhost:8080/",
          "height": 35
        },
        "id": "DnJE3r8z_YnG",
        "outputId": "fbbac108-8a6f-45c9-c66c-69a4edd9b1ab"
      },
      "execution_count": null,
      "outputs": [
        {
          "output_type": "execute_result",
          "data": {
            "text/plain": [
              "'Corey Schafer'"
            ],
            "application/vnd.google.colaboratory.intrinsic+json": {
              "type": "string"
            }
          },
          "metadata": {},
          "execution_count": 13
        }
      ]
    },
    {
      "cell_type": "code",
      "source": [
        "print(emp_2.fullname())"
      ],
      "metadata": {
        "colab": {
          "base_uri": "https://localhost:8080/"
        },
        "id": "25HIcqMKFDWu",
        "outputId": "15cb308f-dc14-4130-d44d-4f02bbf1d3b2"
      },
      "execution_count": null,
      "outputs": [
        {
          "output_type": "stream",
          "name": "stdout",
          "text": [
            "Test Employee\n"
          ]
        }
      ]
    },
    {
      "cell_type": "markdown",
      "source": [
        "## Class Variables"
      ],
      "metadata": {
        "id": "Q50aljhJGXPg"
      }
    },
    {
      "cell_type": "markdown",
      "source": [
        "class varible are variables that are shared among all instances of a class. They are defined withim the class but outside of any methods."
      ],
      "metadata": {
        "id": "-oj-0zuypRfd"
      }
    },
    {
      "cell_type": "code",
      "source": [
        "class Employee:\n",
        "\n",
        "    num_of_emps = 0 #class variable\n",
        "    raise_amt = 1.04 #class variable\n",
        "\n",
        "    def __init__(self, first, last, pay):\n",
        "        self.first = first\n",
        "        self.last = last\n",
        "        self.email = first + '.' + last + '@email.com'\n",
        "        self.pay = pay\n",
        "\n",
        "        Employee.num_of_emps += 1\n",
        "\n",
        "    def fullname(self):\n",
        "        return '{} {}'.format(self.first, self.last)\n",
        "\n",
        "    def apply_raise(self):\n",
        "        self.pay = int(self.pay * self.raise_amt)"
      ],
      "metadata": {
        "id": "GIK63eFs0wxm"
      },
      "execution_count": 2,
      "outputs": []
    },
    {
      "cell_type": "code",
      "source": [
        "emp_1 = Employee('Corey', 'Schafer', 50000)\n",
        "emp_2 = Employee('Test', 'Employee', 60000)"
      ],
      "metadata": {
        "id": "KhQgykHQ0_Fi"
      },
      "execution_count": 3,
      "outputs": []
    },
    {
      "cell_type": "code",
      "source": [
        "print(Employee.raise_amt)\n",
        "print(emp_1.raise_amt)\n",
        "print(emp_2.raise_amt)"
      ],
      "metadata": {
        "colab": {
          "base_uri": "https://localhost:8080/"
        },
        "id": "M3I5byc-1MMo",
        "outputId": "7d06038c-5244-48c8-b1fa-dae54f1d1675"
      },
      "execution_count": 14,
      "outputs": [
        {
          "output_type": "stream",
          "name": "stdout",
          "text": [
            "1.04\n",
            "1.05\n",
            "1.04\n"
          ]
        }
      ]
    },
    {
      "cell_type": "code",
      "source": [
        "emp_1.raise_amt = 1.05\n",
        "print(emp_1.__dict__)"
      ],
      "metadata": {
        "colab": {
          "base_uri": "https://localhost:8080/"
        },
        "id": "VaGxdyvU140G",
        "outputId": "955e41ed-8cac-4e52-a520-97b6b12ac100"
      },
      "execution_count": 10,
      "outputs": [
        {
          "output_type": "stream",
          "name": "stdout",
          "text": [
            "{'first': 'Corey', 'last': 'Schafer', 'email': 'Corey.Schafer@email.com', 'pay': 50000, 'rasie_amount': 1.05, 'rasie_amt': 1.05, 'raise_amt': 1.05}\n"
          ]
        }
      ]
    },
    {
      "cell_type": "code",
      "source": [
        "print(Employee.num_of_emps)"
      ],
      "metadata": {
        "colab": {
          "base_uri": "https://localhost:8080/"
        },
        "id": "Jz60KLMCLz8C",
        "outputId": "8f98695c-9d19-474a-f4be-1c0025d98cfc"
      },
      "execution_count": 12,
      "outputs": [
        {
          "output_type": "stream",
          "name": "stdout",
          "text": [
            "2\n"
          ]
        }
      ]
    },
    {
      "cell_type": "code",
      "source": [
        "\n",
        "class Employee:\n",
        "\n",
        "    num_of_emps = 0\n",
        "    raise_amt = 1.04\n",
        "\n",
        "    def __init__(self, first, last, pay):\n",
        "        self.first = first\n",
        "        self.last = last\n",
        "        self.email = first + '.' + last + '@email.com'\n",
        "        self.pay = pay\n",
        "\n",
        "        Employee.num_of_emps += 1\n",
        "\n",
        "    def fullname(self):\n",
        "        return '{} {}'.format(self.first, self.last)\n",
        "\n",
        "    def apply_raise(self):\n",
        "        self.pay = int(self.pay * self.raise_amt)\n",
        "\n",
        "    @classmethod\n",
        "    def set_raise_amt(cls, amount):\n",
        "        cls.raise_amt = amount\n",
        "\n",
        "    @classmethod\n",
        "    def from_string(cls, emp_str):\n",
        "        first, last, pay = emp_str.split('-')\n",
        "        return cls(first, last, pay)\n",
        "\n",
        "    @staticmethod\n",
        "    def is_workday(day):\n",
        "        if day.weekday() == 5 or day.weekday() == 6:\n",
        "            return False\n",
        "        return True\n",
        "\n",
        "\n",
        "emp_1 = Employee('Corey', 'Schafer', 50000)\n",
        "emp_2 = Employee('Test', 'Employee', 60000)\n",
        "\n",
        "Employee.set_raise_amt(1.05)\n",
        "\n",
        "print(Employee.raise_amt)\n",
        "print(emp_1.raise_amt)\n",
        "print(emp_2.raise_amt)\n",
        "\n",
        "emp_str_1 = 'John-Doe-70000'\n",
        "emp_str_2 = 'Steve-Smith-30000'\n",
        "emp_str_3 = 'Jane-Doe-90000'\n",
        "\n",
        "first, last, pay = emp_str_1.split('-')\n",
        "\n",
        "#new_emp_1 = Employee(first, last, pay)\n",
        "new_emp_1 = Employee.from_string(emp_str_1)\n",
        "\n",
        "print(new_emp_1.email)\n",
        "print(new_emp_1.pay)\n",
        "\n",
        "import datetime\n",
        "my_date = datetime.date(2016, 7, 11)\n",
        "\n",
        "print(Employee.is_workday(my_date))"
      ],
      "metadata": {
        "id": "AJiUdQCkFMAi"
      },
      "execution_count": null,
      "outputs": []
    },
    {
      "cell_type": "markdown",
      "source": [
        "## Regular methods, Class methods and Static methods"
      ],
      "metadata": {
        "id": "ozHgX6aIU8iO"
      }
    },
    {
      "cell_type": "markdown",
      "source": [
        "regular methods: self <br>\n",
        "class method: cls <br>\n",
        "static methods"
      ],
      "metadata": {
        "id": "HwQgIFMhDI4b"
      }
    },
    {
      "cell_type": "code",
      "source": [
        "class Employee:\n",
        "\n",
        "    num_of_emps = 0\n",
        "    raise_amt = 1.04\n",
        "\n",
        "    def __init__(self, first, last, pay):\n",
        "        self.first = first\n",
        "        self.last = last\n",
        "        self.email = first + '.' + last + '@email.com'\n",
        "        self.pay = pay\n",
        "\n",
        "        Employee.num_of_emps += 1\n",
        "\n",
        "    def fullname(self):\n",
        "        return '{} {}'.format(self.first, self.last)\n",
        "\n",
        "    def apply_raise(self):\n",
        "        self.pay = int(self.pay * self.raise_amt)\n",
        "\n",
        "    @classmethod\n",
        "    def set_raise_amt(cls, amount):\n",
        "        cls.raise_amt = amount\n",
        "\n",
        "    @classmethod\n",
        "    def from_string(cls, emp_str):\n",
        "        first, last, pay = emp_str.split('-')\n",
        "        return cls(first, last, pay)\n",
        "\n",
        "    @staticmethod\n",
        "    def is_workday(day):\n",
        "        if day.weekday() == 5 or day.weekday() == 6:\n",
        "            return False\n",
        "        return True"
      ],
      "metadata": {
        "id": "E2BBQJjxVB6x"
      },
      "execution_count": 15,
      "outputs": []
    },
    {
      "cell_type": "code",
      "source": [
        "emp_1 = Employee('Corey', 'Schafer', 50000)\n",
        "emp_2 = Employee('Test', 'Employee', 60000)"
      ],
      "metadata": {
        "id": "W4D-zS2IaX1J"
      },
      "execution_count": 3,
      "outputs": []
    },
    {
      "cell_type": "code",
      "source": [
        "Employee.set_raise_amt(1.05) # class method"
      ],
      "metadata": {
        "id": "rUiEzCJEZdq_"
      },
      "execution_count": 4,
      "outputs": []
    },
    {
      "cell_type": "code",
      "source": [
        "print(Employee.raise_amt)\n",
        "print(emp_1.raise_amt)\n",
        "print(emp_2.raise_amt)"
      ],
      "metadata": {
        "colab": {
          "base_uri": "https://localhost:8080/"
        },
        "id": "4QmSaZDuZa3L",
        "outputId": "67b7fd57-b73f-44e1-c143-cfbd52fe8cf5"
      },
      "execution_count": 5,
      "outputs": [
        {
          "output_type": "stream",
          "name": "stdout",
          "text": [
            "1.05\n",
            "1.05\n",
            "1.05\n"
          ]
        }
      ]
    },
    {
      "cell_type": "code",
      "source": [
        "emp_str_1 = 'John-Doe-70000'\n",
        "emp_str_2 = 'Steve-Smith-30000'\n",
        "emp_str_3 = 'Jane-Doe-90000'"
      ],
      "metadata": {
        "id": "SljNw5bga6YI"
      },
      "execution_count": 6,
      "outputs": []
    },
    {
      "cell_type": "code",
      "source": [
        "first, last, pay = emp_str_1.split('-')\n",
        "new_emp_1 = Employee(first, last, pay)"
      ],
      "metadata": {
        "id": "xokj7ouLbEgk"
      },
      "execution_count": 7,
      "outputs": []
    },
    {
      "cell_type": "code",
      "source": [
        "print(new_emp_1.__dict__)"
      ],
      "metadata": {
        "colab": {
          "base_uri": "https://localhost:8080/"
        },
        "id": "v2560-yaodRz",
        "outputId": "bb2144c3-7a5b-4941-9fad-fe42fa56d776"
      },
      "execution_count": 8,
      "outputs": [
        {
          "output_type": "stream",
          "name": "stdout",
          "text": [
            "{'first': 'John', 'last': 'Doe', 'email': 'John.Doe@email.com', 'pay': '70000'}\n"
          ]
        }
      ]
    },
    {
      "cell_type": "code",
      "source": [
        "new_emp_1 = Employee.from_string(emp_str_1)"
      ],
      "metadata": {
        "id": "BnF_Wp7SojJh"
      },
      "execution_count": 9,
      "outputs": []
    },
    {
      "cell_type": "code",
      "source": [
        "import datetime\n",
        "my_date = datetime.date(2016,7,10)\n",
        "\n"
      ],
      "metadata": {
        "id": "r_zcRycjBCxw"
      },
      "execution_count": 10,
      "outputs": []
    },
    {
      "cell_type": "code",
      "source": [
        "print(Employee.is_workday(my_date))"
      ],
      "metadata": {
        "colab": {
          "base_uri": "https://localhost:8080/"
        },
        "id": "wEgRoUTMJVUL",
        "outputId": "a318c91e-0464-42ae-c829-8d8e9b7304ed"
      },
      "execution_count": 14,
      "outputs": [
        {
          "output_type": "stream",
          "name": "stdout",
          "text": [
            "False\n"
          ]
        }
      ]
    },
    {
      "cell_type": "markdown",
      "source": [
        "## Inheritance - Creating Subclasses"
      ],
      "metadata": {
        "id": "7_yUY2N9zIFw"
      }
    },
    {
      "cell_type": "code",
      "source": [
        "class Employee:\n",
        "\n",
        "    num_of_emps = 0\n",
        "    raise_amt = 1.04\n",
        "\n",
        "    def __init__(self, first, last, pay):\n",
        "        self.first = first\n",
        "        self.last = last\n",
        "        self.email = first + '.' + last + '@email.com'\n",
        "        self.pay = pay\n",
        "\n",
        "        Employee.num_of_emps += 1\n",
        "\n",
        "    def fullname(self):\n",
        "        return '{} {}'.format(self.first, self.last)\n",
        "\n",
        "    def apply_raise(self):\n",
        "        self.pay = int(self.pay * self.raise_amt)\n",
        "\n",
        "class Developer(Employee):\n",
        "    raise_amt = 1.10\n",
        "\n",
        "    def __init__(self, first, last, pay, prog_lang):\n",
        "        super().__init__(first, last, pay)\n",
        "        self.prog_lang = prog_lang\n",
        "\n",
        "class Manager(Employee):\n",
        "\n",
        "    def __init__(self, first, last, pay, employees=None):\n",
        "        super().__init__(first, last, pay)\n",
        "        if employees is None:\n",
        "            self.employees = []\n",
        "        else:\n",
        "            self.employees = employees\n",
        "\n",
        "    def add_emp(self, emp):\n",
        "        if emp not in self.employees:\n",
        "            self.employees.append(emp)\n",
        "\n",
        "    def remove_emp(self, emp):\n",
        "        if emp in self.employees:\n",
        "            self.employees.remove(emp)\n",
        "\n",
        "    def print_emps(self):\n",
        "        for emp in self.employees:\n",
        "            print('-->', emp.fullname())"
      ],
      "metadata": {
        "id": "WtZzJTo0Jurb"
      },
      "execution_count": 38,
      "outputs": []
    },
    {
      "cell_type": "code",
      "source": [
        "dev_1 = Developer('Corey', 'Schafer', 50000, 'Python')\n",
        "dev_2 = Developer('Test', 'Employee', 60000, 'Java')"
      ],
      "metadata": {
        "id": "eTr8rOo17eNS"
      },
      "execution_count": 35,
      "outputs": []
    },
    {
      "cell_type": "code",
      "source": [
        "#dev_1 = Employee('Corey', 'Schafer', 50000)#, 'Python')\n",
        "#dev_2 = Developer('Test', 'Employee', 60000, 'Java')"
      ],
      "metadata": {
        "id": "E174TPmKJIEB"
      },
      "execution_count": 33,
      "outputs": []
    },
    {
      "cell_type": "code",
      "source": [
        "print(dev_1.pay)\n",
        "dev_1.apply_raise()\n",
        "print(dev_1.pay)"
      ],
      "metadata": {
        "colab": {
          "base_uri": "https://localhost:8080/"
        },
        "id": "O5t6cYGYIeFA",
        "outputId": "f658f41a-6c80-4a7d-e2f1-a6ac28c14ec5"
      },
      "execution_count": 36,
      "outputs": [
        {
          "output_type": "stream",
          "name": "stdout",
          "text": [
            "50000\n",
            "55000\n"
          ]
        }
      ]
    },
    {
      "cell_type": "code",
      "source": [
        "print(dev_1.email)"
      ],
      "metadata": {
        "colab": {
          "base_uri": "https://localhost:8080/"
        },
        "id": "5clEhL5xMM6l",
        "outputId": "fabd52a1-c87c-4228-cffa-c20f1d081903"
      },
      "execution_count": 37,
      "outputs": [
        {
          "output_type": "stream",
          "name": "stdout",
          "text": [
            "Corey.Schafer@email.com\n"
          ]
        }
      ]
    },
    {
      "cell_type": "code",
      "source": [
        "print(help(Developer))"
      ],
      "metadata": {
        "id": "CXn7hNe9GCuz"
      },
      "execution_count": null,
      "outputs": []
    },
    {
      "cell_type": "code",
      "source": [
        "mgr_1 = Manager('Sue', 'Smith', 90000, [dev_1])"
      ],
      "metadata": {
        "id": "ZEA8TZciGRFi"
      },
      "execution_count": 47,
      "outputs": []
    },
    {
      "cell_type": "code",
      "source": [
        "print(mgr_1.email)"
      ],
      "metadata": {
        "colab": {
          "base_uri": "https://localhost:8080/"
        },
        "id": "NBmxvxUHSFLP",
        "outputId": "62e2175e-c54b-4c1a-8a9f-8818b58c672b"
      },
      "execution_count": 41,
      "outputs": [
        {
          "output_type": "stream",
          "name": "stdout",
          "text": [
            "Sue.Smith@email.com\n"
          ]
        }
      ]
    },
    {
      "cell_type": "code",
      "source": [
        "mgr_1.add_emp(dev_2)\n",
        "#mgr_1.remove_emp(dev_1)\n",
        "mgr_1.print_emps()"
      ],
      "metadata": {
        "colab": {
          "base_uri": "https://localhost:8080/"
        },
        "id": "3ULX1-QpSIV8",
        "outputId": "ad0d3dfa-dabc-4552-c85e-2326829266c4"
      },
      "execution_count": 48,
      "outputs": [
        {
          "output_type": "stream",
          "name": "stdout",
          "text": [
            "--> Corey Schafer\n",
            "--> Test Employee\n"
          ]
        }
      ]
    },
    {
      "cell_type": "code",
      "source": [
        "print(isinstance(mgr_1,Manager))"
      ],
      "metadata": {
        "colab": {
          "base_uri": "https://localhost:8080/"
        },
        "id": "G4K87NsdSOZ2",
        "outputId": "20d45b84-cdaf-45d1-efca-da5079d5b983"
      },
      "execution_count": 50,
      "outputs": [
        {
          "output_type": "stream",
          "name": "stdout",
          "text": [
            "True\n"
          ]
        }
      ]
    },
    {
      "cell_type": "code",
      "source": [
        "print(isinstance(mgr_1,Developer))"
      ],
      "metadata": {
        "colab": {
          "base_uri": "https://localhost:8080/"
        },
        "id": "DioWdW8bS7vx",
        "outputId": "ea505c25-518e-49cd-c263-a2afbe994013"
      },
      "execution_count": 53,
      "outputs": [
        {
          "output_type": "stream",
          "name": "stdout",
          "text": [
            "False\n"
          ]
        }
      ]
    },
    {
      "cell_type": "code",
      "source": [
        "print(issubclass(Manager,Employee))"
      ],
      "metadata": {
        "colab": {
          "base_uri": "https://localhost:8080/"
        },
        "id": "K5Rff_RYTGJf",
        "outputId": "a1d70d29-a055-446c-912e-9f819646ba39"
      },
      "execution_count": 55,
      "outputs": [
        {
          "output_type": "stream",
          "name": "stdout",
          "text": [
            "True\n"
          ]
        }
      ]
    },
    {
      "cell_type": "code",
      "source": [
        "print(issubclass(Manager,Developer))"
      ],
      "metadata": {
        "colab": {
          "base_uri": "https://localhost:8080/"
        },
        "id": "LGMsEOI5TZQF",
        "outputId": "38a16307-8fa7-4964-e3e8-3e90ff587163"
      },
      "execution_count": 56,
      "outputs": [
        {
          "output_type": "stream",
          "name": "stdout",
          "text": [
            "False\n"
          ]
        }
      ]
    },
    {
      "cell_type": "code",
      "source": [],
      "metadata": {
        "id": "1VU6F0ndTomI"
      },
      "execution_count": null,
      "outputs": []
    }
  ]
}