{
  "nbformat": 4,
  "nbformat_minor": 0,
  "metadata": {
    "colab": {
      "provenance": [],
      "authorship_tag": "ABX9TyO44K9NUBtuvObzPM2FNGeV",
      "include_colab_link": true
    },
    "kernelspec": {
      "name": "python3",
      "display_name": "Python 3"
    },
    "language_info": {
      "name": "python"
    }
  },
  "cells": [
    {
      "cell_type": "markdown",
      "metadata": {
        "id": "view-in-github",
        "colab_type": "text"
      },
      "source": [
        "<a href=\"https://colab.research.google.com/github/sartaj-sb/Tensors/blob/main/Python_Classes.ipynb\" target=\"_parent\"><img src=\"https://colab.research.google.com/assets/colab-badge.svg\" alt=\"Open In Colab\"/></a>"
      ]
    },
    {
      "cell_type": "markdown",
      "source": [
        "## Class and instances"
      ],
      "metadata": {
        "id": "HMD-Dg4KGSaW"
      }
    },
    {
      "cell_type": "markdown",
      "source": [
        "Python classes are a fundamental feature of object-oriented programming (OOP) that allow you to define custom data types and structures. They serve as blueprints for creating objects, which are instances of a class."
      ],
      "metadata": {
        "id": "PwBcjTgHv5Hv"
      }
    },
    {
      "cell_type": "markdown",
      "source": [
        "method is a function that is associated with a class"
      ],
      "metadata": {
        "id": "mASRBExvwbkK"
      }
    },
    {
      "cell_type": "markdown",
      "source": [
        "a class is a bluprint for creating instances"
      ],
      "metadata": {
        "id": "y_2YAUpSxCr6"
      }
    },
    {
      "cell_type": "markdown",
      "source": [
        " While \"object\" is a more general term that encompasses all data structures and instances in Python, \"instance\" is often used to refer specifically to objects created from user-defined classes."
      ],
      "metadata": {
        "id": "VoEBA3t8yETQ"
      }
    },
    {
      "cell_type": "code",
      "execution_count": 16,
      "metadata": {
        "id": "cH7i-23TvGTi"
      },
      "outputs": [],
      "source": [
        "class Employee:\n",
        "\n",
        "    def __init__(self, first, last, pay):\n",
        "        self.first = first\n",
        "        self.last = last\n",
        "        self.email = first + '.' + last + '@email.com'\n",
        "        self.pay = pay\n",
        "\n",
        "    def fullname(self):\n",
        "        return '{} {}'.format(self.first, self.last)\n",
        "\n",
        "emp_1 = Employee('Corey', 'Schafer', 50000) #instance\n",
        "emp_2 = Employee('Test', 'Employee', 60000) #instance"
      ]
    },
    {
      "cell_type": "code",
      "source": [
        "print(emp_1.first)\n"
      ],
      "metadata": {
        "colab": {
          "base_uri": "https://localhost:8080/"
        },
        "id": "EzzHLOEawrve",
        "outputId": "49052c8a-ec91-41cb-9e13-17c00bea0be6"
      },
      "execution_count": 12,
      "outputs": [
        {
          "output_type": "stream",
          "name": "stdout",
          "text": [
            "Corey\n"
          ]
        }
      ]
    },
    {
      "cell_type": "code",
      "source": [
        "print(emp_1.fullname())"
      ],
      "metadata": {
        "colab": {
          "base_uri": "https://localhost:8080/"
        },
        "id": "xTgcxYNX3ose",
        "outputId": "e9083761-bdcb-4868-d09a-c16ac641dc60"
      },
      "execution_count": 9,
      "outputs": [
        {
          "output_type": "stream",
          "name": "stdout",
          "text": [
            "Corey Schafer\n"
          ]
        }
      ]
    },
    {
      "cell_type": "code",
      "source": [
        "Employee.fullname(emp_1)"
      ],
      "metadata": {
        "colab": {
          "base_uri": "https://localhost:8080/",
          "height": 35
        },
        "id": "DnJE3r8z_YnG",
        "outputId": "fbbac108-8a6f-45c9-c66c-69a4edd9b1ab"
      },
      "execution_count": 13,
      "outputs": [
        {
          "output_type": "execute_result",
          "data": {
            "text/plain": [
              "'Corey Schafer'"
            ],
            "application/vnd.google.colaboratory.intrinsic+json": {
              "type": "string"
            }
          },
          "metadata": {},
          "execution_count": 13
        }
      ]
    },
    {
      "cell_type": "code",
      "source": [
        "print(emp_2.fullname())"
      ],
      "metadata": {
        "colab": {
          "base_uri": "https://localhost:8080/"
        },
        "id": "25HIcqMKFDWu",
        "outputId": "15cb308f-dc14-4130-d44d-4f02bbf1d3b2"
      },
      "execution_count": 14,
      "outputs": [
        {
          "output_type": "stream",
          "name": "stdout",
          "text": [
            "Test Employee\n"
          ]
        }
      ]
    },
    {
      "cell_type": "markdown",
      "source": [
        "## Class Variables"
      ],
      "metadata": {
        "id": "Q50aljhJGXPg"
      }
    },
    {
      "cell_type": "code",
      "source": [],
      "metadata": {
        "id": "AJiUdQCkFMAi"
      },
      "execution_count": null,
      "outputs": []
    }
  ]
}