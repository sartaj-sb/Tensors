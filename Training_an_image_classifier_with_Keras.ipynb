{
  "nbformat": 4,
  "nbformat_minor": 0,
  "metadata": {
    "colab": {
      "provenance": [],
      "authorship_tag": "ABX9TyP2yD/l4ERhJXw19yxfvcyt",
      "include_colab_link": true
    },
    "kernelspec": {
      "name": "python3",
      "display_name": "Python 3"
    },
    "language_info": {
      "name": "python"
    }
  },
  "cells": [
    {
      "cell_type": "markdown",
      "metadata": {
        "id": "view-in-github",
        "colab_type": "text"
      },
      "source": [
        "<a href=\"https://colab.research.google.com/github/sartaj-sb/Tensors/blob/main/Training_an_image_classifier_with_Keras.ipynb\" target=\"_parent\"><img src=\"https://colab.research.google.com/assets/colab-badge.svg\" alt=\"Open In Colab\"/></a>"
      ]
    },
    {
      "cell_type": "code",
      "execution_count": 1,
      "metadata": {
        "id": "cKzFmnZN3UAm"
      },
      "outputs": [],
      "source": [
        "import numpy as np\n",
        "import matplotlib.pyplot as plt\n",
        "import random\n",
        "import os\n",
        "import PIL\n",
        "\n",
        "from keras import utils                                   # tools for creating one-hot encoding\n",
        "from keras.models import Sequential                       # Type of model we wish to use\n",
        "from keras.layers import Dense, Dropout, Activation       # Types of layers we wish to use\n",
        "\n",
        "from skimage.transform import resize                      # Used to scale/resize image arrays\n",
        "\n",
        "from sklearn.metrics import confusion_matrix              # Used to quickly make confusion matrix"
      ]
    },
    {
      "cell_type": "code",
      "source": [
        "### Settings\n",
        "\n",
        "# Location of dataset\n",
        "DATASET_PATH = \"/content/dataset\"\n",
        "\n",
        "# Desired resolution of images\n",
        "TARGET_WIDTH = 28\n",
        "TARGET_HEIGHT = 28\n",
        "\n",
        "# Invert image (dark backgrounds can sometimes improve accuracy)\n",
        "INVERT = False\n",
        "\n",
        "# Set aside 20% for validation and 20% for test\n",
        "VAL_RATIO = 0.2\n",
        "TEST_RATIO = 0.2\n",
        "\n",
        "# You are welcome to change the seed to try a different validation set split\n",
        "random.seed(42)"
      ],
      "metadata": {
        "id": "W0Pegpdj3t2f"
      },
      "execution_count": 2,
      "outputs": []
    },
    {
      "cell_type": "code",
      "source": [
        "### Load images as Numpy arrays\n",
        "\n",
        "# We want to record the labels and assign a ground truth label as a number to each sample\n",
        "labels = []\n",
        "y_all = []    # Lowercase 'y' - 1D vector of the ground labels (n)\n",
        "X_all = []    # Uppercase 'X' - 3D array of all image samples (n x width x height)\n",
        "\n",
        "# Find the directories in the dataset folder (skip the Jupyter Notebook checkpoints hidden folder)\n",
        "for label in os.listdir(DATASET_PATH):\n",
        "  class_dir = os.path.join(DATASET_PATH, label)\n",
        "  if os.path.isdir(class_dir) and label != \".ipynb_checkpoints\":\n",
        "\n",
        "    # Add the name of the folder to our labels list\n",
        "    labels.append(label)\n",
        "\n",
        "    # Go through each image in the folder\n",
        "    for i, file in enumerate(os.listdir(class_dir)):\n",
        "\n",
        "      # Skip the Jupyter Notebook checkpoints folder that sometimes gets added\n",
        "      if file != \".ipynb_checkpoints\":\n",
        "\n",
        "        # Open image and convert to grayscale\n",
        "        file_path = os.path.join(class_dir, file)\n",
        "        img = PIL.Image.open(file_path).convert('L')\n",
        "\n",
        "        # Convert the image to a Numpy array, optionally invern, and append to X\n",
        "        img_array = np.asarray(img)\n",
        "        if INVERT:\n",
        "          img_array = 255 - img_array\n",
        "        X_all.append(img_array)\n",
        "\n",
        "        # Add label to the y array\n",
        "        y_all.append(label)\n",
        "\n",
        "    # Show how many images we loaded\n",
        "    print(\"Added\", str(i + 1), \"images from\", label)\n",
        "\n",
        "# Calculate total number of samples\n",
        "num_samples = len(X_all)\n",
        "\n",
        "# Sort the labels list by alphabetical order\n",
        "labels = sorted(labels)\n",
        "\n",
        "# Print out labels and number of samples\n",
        "print(labels)\n",
        "print(\"Number of samples:\", num_samples)\n"
      ],
      "metadata": {
        "colab": {
          "base_uri": "https://localhost:8080/"
        },
        "id": "wrv3lnvM423s",
        "outputId": "08f5d9dd-e72b-485d-e2c5-c9d86fe1541d"
      },
      "execution_count": 3,
      "outputs": [
        {
          "output_type": "stream",
          "name": "stdout",
          "text": [
            "Added 50 images from pin\n",
            "Added 51 images from background\n",
            "Added 50 images from sdcard\n",
            "Added 50 images from bud\n",
            "['background', 'bud', 'pin', 'sdcard']\n",
            "Number of samples: 201\n"
          ]
        }
      ]
    },
    {
      "cell_type": "code",
      "source": [
        "### Convert labels to numbers\n",
        "\n",
        "# Show the labels before the conversion\n",
        "print(\"Before:\", y_all)\n",
        "\n",
        "# Convert each label to its index in the labels\n",
        "y_out = []\n",
        "for i, label in enumerate(y_all):\n",
        "  y_out.append(labels.index(label))\n",
        "y_all = y_out\n",
        "\n",
        "# Show the labels after the conversion\n",
        "print(\"After:\", y_all)"
      ],
      "metadata": {
        "colab": {
          "base_uri": "https://localhost:8080/"
        },
        "id": "zjY8sBB749IG",
        "outputId": "5956f4c6-e772-48fd-b202-ead715a675ea"
      },
      "execution_count": 4,
      "outputs": [
        {
          "output_type": "stream",
          "name": "stdout",
          "text": [
            "Before: ['pin', 'pin', 'pin', 'pin', 'pin', 'pin', 'pin', 'pin', 'pin', 'pin', 'pin', 'pin', 'pin', 'pin', 'pin', 'pin', 'pin', 'pin', 'pin', 'pin', 'pin', 'pin', 'pin', 'pin', 'pin', 'pin', 'pin', 'pin', 'pin', 'pin', 'pin', 'pin', 'pin', 'pin', 'pin', 'pin', 'pin', 'pin', 'pin', 'pin', 'pin', 'pin', 'pin', 'pin', 'pin', 'pin', 'pin', 'pin', 'pin', 'pin', 'background', 'background', 'background', 'background', 'background', 'background', 'background', 'background', 'background', 'background', 'background', 'background', 'background', 'background', 'background', 'background', 'background', 'background', 'background', 'background', 'background', 'background', 'background', 'background', 'background', 'background', 'background', 'background', 'background', 'background', 'background', 'background', 'background', 'background', 'background', 'background', 'background', 'background', 'background', 'background', 'background', 'background', 'background', 'background', 'background', 'background', 'background', 'background', 'background', 'background', 'background', 'sdcard', 'sdcard', 'sdcard', 'sdcard', 'sdcard', 'sdcard', 'sdcard', 'sdcard', 'sdcard', 'sdcard', 'sdcard', 'sdcard', 'sdcard', 'sdcard', 'sdcard', 'sdcard', 'sdcard', 'sdcard', 'sdcard', 'sdcard', 'sdcard', 'sdcard', 'sdcard', 'sdcard', 'sdcard', 'sdcard', 'sdcard', 'sdcard', 'sdcard', 'sdcard', 'sdcard', 'sdcard', 'sdcard', 'sdcard', 'sdcard', 'sdcard', 'sdcard', 'sdcard', 'sdcard', 'sdcard', 'sdcard', 'sdcard', 'sdcard', 'sdcard', 'sdcard', 'sdcard', 'sdcard', 'sdcard', 'sdcard', 'sdcard', 'bud', 'bud', 'bud', 'bud', 'bud', 'bud', 'bud', 'bud', 'bud', 'bud', 'bud', 'bud', 'bud', 'bud', 'bud', 'bud', 'bud', 'bud', 'bud', 'bud', 'bud', 'bud', 'bud', 'bud', 'bud', 'bud', 'bud', 'bud', 'bud', 'bud', 'bud', 'bud', 'bud', 'bud', 'bud', 'bud', 'bud', 'bud', 'bud', 'bud', 'bud', 'bud', 'bud', 'bud', 'bud', 'bud', 'bud', 'bud', 'bud', 'bud']\n",
            "After: [2, 2, 2, 2, 2, 2, 2, 2, 2, 2, 2, 2, 2, 2, 2, 2, 2, 2, 2, 2, 2, 2, 2, 2, 2, 2, 2, 2, 2, 2, 2, 2, 2, 2, 2, 2, 2, 2, 2, 2, 2, 2, 2, 2, 2, 2, 2, 2, 2, 2, 0, 0, 0, 0, 0, 0, 0, 0, 0, 0, 0, 0, 0, 0, 0, 0, 0, 0, 0, 0, 0, 0, 0, 0, 0, 0, 0, 0, 0, 0, 0, 0, 0, 0, 0, 0, 0, 0, 0, 0, 0, 0, 0, 0, 0, 0, 0, 0, 0, 0, 0, 3, 3, 3, 3, 3, 3, 3, 3, 3, 3, 3, 3, 3, 3, 3, 3, 3, 3, 3, 3, 3, 3, 3, 3, 3, 3, 3, 3, 3, 3, 3, 3, 3, 3, 3, 3, 3, 3, 3, 3, 3, 3, 3, 3, 3, 3, 3, 3, 3, 3, 1, 1, 1, 1, 1, 1, 1, 1, 1, 1, 1, 1, 1, 1, 1, 1, 1, 1, 1, 1, 1, 1, 1, 1, 1, 1, 1, 1, 1, 1, 1, 1, 1, 1, 1, 1, 1, 1, 1, 1, 1, 1, 1, 1, 1, 1, 1, 1, 1, 1]\n"
          ]
        }
      ]
    },
    {
      "cell_type": "code",
      "source": [
        "### Shuffle samples and labels together, divide into test, validation, and training sets\n",
        "\n",
        "# Shuffle samples and associated labels together\n",
        "X_y = list(zip(X_all, y_all))\n",
        "random.shuffle(X_y)\n",
        "X_all, y_all = zip(*X_y)\n",
        "\n",
        "# Calculate number of validation and test samples to put aside (round down)\n",
        "num_samples_test = int(TEST_RATIO * num_samples)\n",
        "num_samples_val = int(VAL_RATIO * num_samples)\n",
        "\n",
        "# The first `num_samples_test` samples of the shuffled list becomes the test set\n",
        "X_test = X_all[:num_samples_test]\n",
        "y_test = y_all[:num_samples_test]\n",
        "\n",
        "# The next `num_samples_val` samples of the shuffled list becomes the validation set\n",
        "X_val = X_all[num_samples_test:(num_samples_test + num_samples_val)]\n",
        "y_val = y_all[num_samples_test:(num_samples_test + num_samples_val)]\n",
        "\n",
        "# The remaining samples become the training set\n",
        "X_train = X_all[(num_samples_test + num_samples_val):]\n",
        "y_train = y_all[(num_samples_test + num_samples_val):]\n",
        "\n",
        "# Remember the number of samples in the test set\n",
        "num_samples_train = len(X_train)\n",
        "\n",
        "# Print out the number of test, validation, and training samples\n",
        "print(\"Number of test samples:\", num_samples_test)\n",
        "print(\"Number of validation samples:\", num_samples_val)\n",
        "print(\"Number of training samples:\", num_samples_train)"
      ],
      "metadata": {
        "colab": {
          "base_uri": "https://localhost:8080/"
        },
        "id": "D8eggBpN4_1d",
        "outputId": "32df5964-d037-43c5-a2dc-7c98a390f992"
      },
      "execution_count": 5,
      "outputs": [
        {
          "output_type": "stream",
          "name": "stdout",
          "text": [
            "Number of test samples: 40\n",
            "Number of validation samples: 40\n",
            "Number of training samples: 121\n"
          ]
        }
      ]
    },
    {
      "cell_type": "code",
      "source": [
        "### View one of the training samples\n",
        "\n",
        "# Chose which sample you want to view\n",
        "idx = 5\n",
        "\n",
        "# Print out label (numbe and string) and part of the array\n",
        "print(\"Label: \" + str(y_train[idx]) + \" (\" + labels[y_train[idx]] + \")\")\n",
        "print(X_train[idx])\n",
        "\n",
        "# Display image from array\n",
        "plt.imshow(X_train[idx], cmap='gray', vmin=0, vmax=255)"
      ],
      "metadata": {
        "colab": {
          "base_uri": "https://localhost:8080/",
          "height": 592
        },
        "id": "OJfA5Q3q5G0n",
        "outputId": "a723d5fc-9fdb-4014-94a2-ef1649a53493"
      },
      "execution_count": 10,
      "outputs": [
        {
          "output_type": "stream",
          "name": "stdout",
          "text": [
            "Label: 2 (pin)\n",
            "[[195 197 200 ... 183 183 183]\n",
            " [199 203 208 ... 183 183 183]\n",
            " [207 209 209 ... 184 184 184]\n",
            " ...\n",
            " [200 200 200 ... 179 179 179]\n",
            " [199 199 199 ... 179 179 179]\n",
            " [199 198 199 ... 179 179 179]]\n"
          ]
        },
        {
          "output_type": "execute_result",
          "data": {
            "text/plain": [
              "<matplotlib.image.AxesImage at 0x7c1b73c12350>"
            ]
          },
          "metadata": {},
          "execution_count": 10
        },
        {
          "output_type": "display_data",
          "data": {
            "text/plain": [
              "<Figure size 640x480 with 1 Axes>"
            ],
            "image/png": "[encoded data removed]"
          },
          "metadata": {}
        }
      ]
    },
    {
      "cell_type": "code",
      "source": [
        "### Function to resize list of images\n",
        "def resize_images(images, width, height, anti_aliasing=True):\n",
        "  \"\"\"\n",
        "  Prove a list of Numpy arrays (in images parameter) to have them all resized to desired height and\n",
        "  width. Returns the list of newly resized image arrays.\n",
        "\n",
        "  NOTE: skimage resize returns *normalized* image arrays (values between 0..1)\n",
        "  \"\"\"\n",
        "  X_out = []\n",
        "  for i, img in enumerate(images):\n",
        "    X_out.append(resize(img, (height, width), anti_aliasing=anti_aliasing))\n",
        "  return X_out"
      ],
      "metadata": {
        "id": "LKWDmbaz5Kno"
      },
      "execution_count": 14,
      "outputs": []
    },
    {
      "cell_type": "code",
      "source": [
        "\n",
        "\n",
        "### Scale/crop images\n",
        "\n",
        "# Resize (scale) all images in the training set\n",
        "X_train = resize_images(X_train, TARGET_WIDTH, TARGET_HEIGHT)\n",
        "\n",
        "# Resize (scale) all images in the validation set\n",
        "X_val = resize_images(X_val, TARGET_WIDTH, TARGET_HEIGHT)\n",
        "\n",
        "# Resize (scale) all images in the test set\n",
        "X_test = resize_images(X_test, TARGET_WIDTH, TARGET_HEIGHT)\n",
        "\n"
      ],
      "metadata": {
        "id": "uo-RLzjP5e6T"
      },
      "execution_count": 15,
      "outputs": []
    },
    {
      "cell_type": "code",
      "source": [
        "### View training sample again (after they all have been scaled)\n",
        "\n",
        "# Chose which sample you want to view\n",
        "idx = 5\n",
        "\n",
        "# Print out label (numbe and string) and part of the array\n",
        "print(\"Label: \" + str(y_train[idx]) + \" (\" + labels[y_train[idx]] + \")\")\n",
        "print(\"First row:\", X_train[idx][:1,:])\n",
        "\n",
        "# Display image from array (note that images have been normalized)\n",
        "plt.imshow(X_train[idx], cmap='gray', vmin=0, vmax=1)\n",
        ""
      ],
      "metadata": {
        "colab": {
          "base_uri": "https://localhost:8080/",
          "height": 554
        },
        "id": "08_AG9iL5o8_",
        "outputId": "a31955da-4524-406a-abf1-b587cc305a43"
      },
      "execution_count": 17,
      "outputs": [
        {
          "output_type": "stream",
          "name": "stdout",
          "text": [
            "Label: 2 (pin)\n",
            "First row: [[0.80204137 0.77742937 0.76014823 0.75755739 0.75957416 0.77301529\n",
            "  0.76575753 0.75543124 0.75266484 0.75102227 0.75437602 0.75419194\n",
            "  0.74526765 0.74122091 0.74083974 0.73944822 0.7382774  0.73696349\n",
            "  0.73617455 0.73093675 0.72726886 0.72771259 0.72620999 0.72556305\n",
            "  0.72488554 0.72296409 0.72263444 0.7196895 ]]\n"
          ]
        },
        {
          "output_type": "execute_result",
          "data": {
            "text/plain": [
              "<matplotlib.image.AxesImage at 0x7c1b73ac7d00>"
            ]
          },
          "metadata": {},
          "execution_count": 17
        },
        {
          "output_type": "display_data",
          "data": {
            "text/plain": [
              "<Figure size 640x480 with 1 Axes>"
            ],
            "image/png": "[encoded data removed]"
          },
          "metadata": {}
        }
      ]
    },
    {
      "cell_type": "code",
      "source": [
        "### Convert list of samples and labels into Numpy arrays\n",
        "\n",
        "# Training set\n",
        "X_train = np.asarray(X_train)\n",
        "y_train = np.asarray(y_train)\n",
        "\n",
        "# Validation set\n",
        "X_val = np.asarray(X_val)\n",
        "y_val = np.asarray(y_val)\n",
        "\n",
        "# Test set\n",
        "X_test = np.asarray(X_test)\n",
        "y_test = np.asarray(y_test)\n",
        "\n",
        "# Print out the new Numpy array shapes (always a good idea to check the shapes!)\n",
        "print(\"Training X:\", X_train.shape)\n",
        "print(\"Training y:\", y_train.shape)\n",
        "print(\"Validation X:\", X_val.shape)\n",
        "print(\"Validation y:\", y_val.shape)\n",
        "print(\"Test X:\", X_test.shape)\n",
        "print(\"Test y:\", y_test.shape)"
      ],
      "metadata": {
        "colab": {
          "base_uri": "https://localhost:8080/"
        },
        "id": "US4IhGoR6CHR",
        "outputId": "53c45da1-8cba-4e76-f155-59009ac55c86"
      },
      "execution_count": 18,
      "outputs": [
        {
          "output_type": "stream",
          "name": "stdout",
          "text": [
            "Training X: (121, 28, 28)\n",
            "Training y: (121,)\n",
            "Validation X: (40, 28, 28)\n",
            "Validation y: (40,)\n",
            "Test X: (40, 28, 28)\n",
            "Test y: (40,)\n"
          ]
        }
      ]
    },
    {
      "cell_type": "code",
      "source": [
        "\n",
        "\n",
        "### Flatten each image to a 1D vector (DNN requires 1D input)\n",
        "\n",
        "# Compute length of 1D array that we will flatten each image to\n",
        "len_vector = TARGET_WIDTH * TARGET_WIDTH\n",
        "\n",
        "# Flatten matricies to vectors\n",
        "X_train = X_train.reshape(num_samples_train, len_vector)\n",
        "X_val = X_val.reshape(num_samples_val, len_vector)\n",
        "X_test = X_test.reshape(num_samples_test, len_vector)\n",
        "\n",
        "# Determine the input shape for our Keras model (must be tuple)\n",
        "input_shape = (X_train.shape[1],)\n",
        "\n",
        "# Print out shapes\n",
        "print(\"X train:\", X_train.shape)\n",
        "print(\"y train:\", y_train.shape)\n",
        "print(\"X val:\", X_val.shape)\n",
        "print(\"y val:\", y_val.shape)\n",
        "print(\"X test:\", X_test.shape)\n",
        "print(\"y test:\", y_test.shape)\n",
        "print(\"Input tensor shape:\", input_shape)\n",
        "\n"
      ],
      "metadata": {
        "colab": {
          "base_uri": "https://localhost:8080/"
        },
        "id": "wqPJMvcl6RFF",
        "outputId": "39661d1b-ea1e-4419-d99b-888253ec915e"
      },
      "execution_count": 19,
      "outputs": [
        {
          "output_type": "stream",
          "name": "stdout",
          "text": [
            "X train: (121, 784)\n",
            "y train: (121,)\n",
            "X val: (40, 784)\n",
            "y val: (40,)\n",
            "X test: (40, 784)\n",
            "y test: (40,)\n",
            "Input tensor shape: (784,)\n"
          ]
        }
      ]
    },
    {
      "cell_type": "code",
      "source": [
        "### Convert labels (integers) to one-hot encoding\n",
        "\n",
        "# Get number of classes\n",
        "num_classes = len(labels)\n",
        "\n",
        "# Use Keras's np_utils to create one-hot encoding (note the capital 'Y' - 2D array)\n",
        "Y_train = utils.to_categorical(y_train, num_classes)\n",
        "Y_val = utils.to_categorical(y_val, num_classes)\n",
        "Y_test = utils.to_categorical(y_test, num_classes)\n",
        "\n",
        "# Print out shapes (capital 'Y' is our one-hot matrix!)\n",
        "print(\"Y train:\", Y_train.shape)\n",
        "print(\"Y val:\", Y_val.shape)\n",
        "print(\"Y test:\", Y_test.shape)\n",
        "\n",
        "# Print out a few examples from training set\n",
        "for i in range(10):\n",
        "  print(\"Label: \" + str(y_train[i]) + \" | One-hot:\", Y_train[i])"
      ],
      "metadata": {
        "colab": {
          "base_uri": "https://localhost:8080/"
        },
        "id": "dhHjlnZw6Us4",
        "outputId": "6bda10af-6361-4a66-f846-b16f91a67777"
      },
      "execution_count": 20,
      "outputs": [
        {
          "output_type": "stream",
          "name": "stdout",
          "text": [
            "Y train: (121, 4)\n",
            "Y val: (40, 4)\n",
            "Y test: (40, 4)\n",
            "Label: 0 | One-hot: [1. 0. 0. 0.]\n",
            "Label: 3 | One-hot: [0. 0. 0. 1.]\n",
            "Label: 3 | One-hot: [0. 0. 0. 1.]\n",
            "Label: 3 | One-hot: [0. 0. 0. 1.]\n",
            "Label: 3 | One-hot: [0. 0. 0. 1.]\n",
            "Label: 2 | One-hot: [0. 0. 1. 0.]\n",
            "Label: 2 | One-hot: [0. 0. 1. 0.]\n",
            "Label: 3 | One-hot: [0. 0. 0. 1.]\n",
            "Label: 3 | One-hot: [0. 0. 0. 1.]\n",
            "Label: 1 | One-hot: [0. 1. 0. 0.]\n"
          ]
        }
      ]
    },
    {
      "cell_type": "code",
      "source": [
        "\n",
        "### Construct Keras model\n",
        "\n",
        "# A sequential model is a linear stack of layers\n",
        "model = Sequential()\n",
        "\n",
        "# First layer: fully-connected with relu activation\n",
        "model.add(Dense(64, input_shape=input_shape))\n",
        "model.add(Activation('relu'))\n",
        "model.add(Dropout(0.25))\n",
        "\n",
        "# Second layer: fully-connected with relu activation\n",
        "model.add(Dense(64))   # Input shape is determined automatically from previous layer\n",
        "model.add(Activation('relu'))\n",
        "model.add(Dropout(0.25))\n",
        "\n",
        "# Third layer: 10 nodes, one for each class, and softmax activation\n",
        "model.add(Dense(num_classes))\n",
        "model.add(Activation('softmax'))\n",
        "\n",
        "# Configure the model's training settings\n",
        "model.compile(loss='categorical_crossentropy', optimizer='adam', metrics=['acc'])\n",
        "\n",
        "# Print out model summary\n",
        "print(model.summary())"
      ],
      "metadata": {
        "colab": {
          "base_uri": "https://localhost:8080/"
        },
        "id": "4BoLdkv86YVq",
        "outputId": "2a3065b5-03ce-45ff-b893-7d4364baf023"
      },
      "execution_count": 21,
      "outputs": [
        {
          "output_type": "stream",
          "name": "stdout",
          "text": [
            "Model: \"sequential\"\n",
            "_________________________________________________________________\n",
            " Layer (type)                Output Shape              Param #   \n",
            "=================================================================\n",
            " dense (Dense)               (None, 64)                50240     \n",
            "                                                                 \n",
            " activation (Activation)     (None, 64)                0         \n",
            "                                                                 \n",
            " dropout (Dropout)           (None, 64)                0         \n",
            "                                                                 \n",
            " dense_1 (Dense)             (None, 64)                4160      \n",
            "                                                                 \n",
            " activation_1 (Activation)   (None, 64)                0         \n",
            "                                                                 \n",
            " dropout_1 (Dropout)         (None, 64)                0         \n",
            "                                                                 \n",
            " dense_2 (Dense)             (None, 4)                 260       \n",
            "                                                                 \n",
            " activation_2 (Activation)   (None, 4)                 0         \n",
            "                                                                 \n",
            "=================================================================\n",
            "Total params: 54660 (213.52 KB)\n",
            "Trainable params: 54660 (213.52 KB)\n",
            "Non-trainable params: 0 (0.00 Byte)\n",
            "_________________________________________________________________\n",
            "None\n"
          ]
        }
      ]
    },
    {
      "cell_type": "code",
      "source": [
        "### Train the model\n",
        "history = model.fit(X_train,\n",
        "                    Y_train,\n",
        "                    batch_size=32,\n",
        "                    epochs=200,\n",
        "                    verbose=1,\n",
        "                    validation_data=(X_val, Y_val))\n",
        ""
      ],
      "metadata": {
        "colab": {
          "base_uri": "https://localhost:8080/"
        },
        "id": "U5Aj2Tzh6bL7",
        "outputId": "24f85e9b-450e-485c-acf4-addcd20bd0d2"
      },
      "execution_count": 22,
      "outputs": [
        {
          "output_type": "stream",
          "name": "stdout",
          "text": [
            "Epoch 1/200\n",
            "4/4 [==============================] - 2s 98ms/step - loss: 1.4864 - acc: 0.2810 - val_loss: 1.3790 - val_acc: 0.2500\n",
            "Epoch 2/200\n",
            "4/4 [==============================] - 0s 18ms/step - loss: 1.3967 - acc: 0.3967 - val_loss: 1.3156 - val_acc: 0.3750\n",
            "Epoch 3/200\n",
            "4/4 [==============================] - 0s 28ms/step - loss: 1.3688 - acc: 0.3388 - val_loss: 1.2690 - val_acc: 0.6250\n",
            "Epoch 4/200\n",
            "4/4 [==============================] - 0s 21ms/step - loss: 1.3307 - acc: 0.3388 - val_loss: 1.2929 - val_acc: 0.2500\n",
            "Epoch 5/200\n",
            "4/4 [==============================] - 0s 23ms/step - loss: 1.2671 - acc: 0.3802 - val_loss: 1.1947 - val_acc: 0.5500\n",
            "Epoch 6/200\n",
            "4/4 [==============================] - 0s 28ms/step - loss: 1.1962 - acc: 0.4711 - val_loss: 1.1532 - val_acc: 0.5500\n",
            "Epoch 7/200\n",
            "4/4 [==============================] - 0s 24ms/step - loss: 1.1698 - acc: 0.5041 - val_loss: 1.0914 - val_acc: 0.5750\n",
            "Epoch 8/200\n",
            "4/4 [==============================] - 0s 22ms/step - loss: 1.1403 - acc: 0.5041 - val_loss: 1.0473 - val_acc: 0.7000\n",
            "Epoch 9/200\n",
            "4/4 [==============================] - 0s 27ms/step - loss: 1.1475 - acc: 0.4628 - val_loss: 1.0153 - val_acc: 0.5750\n",
            "Epoch 10/200\n",
            "4/4 [==============================] - 0s 24ms/step - loss: 1.0646 - acc: 0.5537 - val_loss: 0.9585 - val_acc: 0.7500\n",
            "Epoch 11/200\n",
            "4/4 [==============================] - 0s 25ms/step - loss: 1.0113 - acc: 0.6281 - val_loss: 0.9293 - val_acc: 0.7250\n",
            "Epoch 12/200\n",
            "4/4 [==============================] - 0s 22ms/step - loss: 0.9500 - acc: 0.6116 - val_loss: 0.8588 - val_acc: 0.6750\n",
            "Epoch 13/200\n",
            "4/4 [==============================] - 0s 20ms/step - loss: 0.9931 - acc: 0.5372 - val_loss: 0.8227 - val_acc: 0.7000\n",
            "Epoch 14/200\n",
            "4/4 [==============================] - 0s 24ms/step - loss: 0.9264 - acc: 0.6116 - val_loss: 0.8172 - val_acc: 0.7500\n",
            "Epoch 15/200\n",
            "4/4 [==============================] - 0s 20ms/step - loss: 0.8464 - acc: 0.6942 - val_loss: 0.7836 - val_acc: 0.7000\n",
            "Epoch 16/200\n",
            "4/4 [==============================] - 0s 31ms/step - loss: 0.8962 - acc: 0.6612 - val_loss: 0.7397 - val_acc: 0.7500\n",
            "Epoch 17/200\n",
            "4/4 [==============================] - 0s 24ms/step - loss: 0.7772 - acc: 0.6942 - val_loss: 0.6738 - val_acc: 0.7500\n",
            "Epoch 18/200\n",
            "4/4 [==============================] - 0s 30ms/step - loss: 0.7804 - acc: 0.6860 - val_loss: 0.6256 - val_acc: 0.7500\n",
            "Epoch 19/200\n",
            "4/4 [==============================] - 0s 22ms/step - loss: 0.7295 - acc: 0.7438 - val_loss: 0.5851 - val_acc: 0.8750\n",
            "Epoch 20/200\n",
            "4/4 [==============================] - 0s 24ms/step - loss: 0.7437 - acc: 0.6612 - val_loss: 0.5972 - val_acc: 0.7500\n",
            "Epoch 21/200\n",
            "4/4 [==============================] - 0s 19ms/step - loss: 0.7633 - acc: 0.6281 - val_loss: 0.5877 - val_acc: 0.7500\n",
            "Epoch 22/200\n",
            "4/4 [==============================] - 0s 20ms/step - loss: 0.6937 - acc: 0.7107 - val_loss: 0.5773 - val_acc: 0.8000\n",
            "Epoch 23/200\n",
            "4/4 [==============================] - 0s 20ms/step - loss: 0.6497 - acc: 0.7603 - val_loss: 0.5245 - val_acc: 0.8250\n",
            "Epoch 24/200\n",
            "4/4 [==============================] - 0s 25ms/step - loss: 0.6505 - acc: 0.7603 - val_loss: 0.5145 - val_acc: 0.7500\n",
            "Epoch 25/200\n",
            "4/4 [==============================] - 0s 26ms/step - loss: 0.6538 - acc: 0.7025 - val_loss: 0.4905 - val_acc: 0.8750\n",
            "Epoch 26/200\n",
            "4/4 [==============================] - 0s 23ms/step - loss: 0.6040 - acc: 0.7521 - val_loss: 0.4845 - val_acc: 0.8000\n",
            "Epoch 27/200\n",
            "4/4 [==============================] - 0s 28ms/step - loss: 0.6633 - acc: 0.7190 - val_loss: 0.4558 - val_acc: 0.8250\n",
            "Epoch 28/200\n",
            "4/4 [==============================] - 0s 28ms/step - loss: 0.5845 - acc: 0.7438 - val_loss: 0.4217 - val_acc: 0.9000\n",
            "Epoch 29/200\n",
            "4/4 [==============================] - 0s 18ms/step - loss: 0.5746 - acc: 0.8017 - val_loss: 0.4079 - val_acc: 0.9000\n",
            "Epoch 30/200\n",
            "4/4 [==============================] - 0s 23ms/step - loss: 0.5444 - acc: 0.7851 - val_loss: 0.4107 - val_acc: 0.8750\n",
            "Epoch 31/200\n",
            "4/4 [==============================] - 0s 24ms/step - loss: 0.5327 - acc: 0.7934 - val_loss: 0.4145 - val_acc: 0.8000\n",
            "Epoch 32/200\n",
            "4/4 [==============================] - 0s 24ms/step - loss: 0.5628 - acc: 0.7851 - val_loss: 0.3812 - val_acc: 0.9250\n",
            "Epoch 33/200\n",
            "4/4 [==============================] - 0s 20ms/step - loss: 0.5052 - acc: 0.8099 - val_loss: 0.3745 - val_acc: 0.9000\n",
            "Epoch 34/200\n",
            "4/4 [==============================] - 0s 26ms/step - loss: 0.4746 - acc: 0.8182 - val_loss: 0.3772 - val_acc: 0.9000\n",
            "Epoch 35/200\n",
            "4/4 [==============================] - 0s 26ms/step - loss: 0.4692 - acc: 0.8264 - val_loss: 0.3394 - val_acc: 0.9000\n",
            "Epoch 36/200\n",
            "4/4 [==============================] - 0s 25ms/step - loss: 0.4776 - acc: 0.7686 - val_loss: 0.3268 - val_acc: 0.9000\n",
            "Epoch 37/200\n",
            "4/4 [==============================] - 0s 26ms/step - loss: 0.4643 - acc: 0.7851 - val_loss: 0.3404 - val_acc: 0.8750\n",
            "Epoch 38/200\n",
            "4/4 [==============================] - 0s 27ms/step - loss: 0.4882 - acc: 0.7851 - val_loss: 0.3415 - val_acc: 0.8750\n",
            "Epoch 39/200\n",
            "4/4 [==============================] - 0s 18ms/step - loss: 0.4598 - acc: 0.8264 - val_loss: 0.3194 - val_acc: 0.9250\n",
            "Epoch 40/200\n",
            "4/4 [==============================] - 0s 29ms/step - loss: 0.4287 - acc: 0.7769 - val_loss: 0.3211 - val_acc: 0.9000\n",
            "Epoch 41/200\n",
            "4/4 [==============================] - 0s 28ms/step - loss: 0.4784 - acc: 0.7851 - val_loss: 0.2897 - val_acc: 0.9000\n",
            "Epoch 42/200\n",
            "4/4 [==============================] - 0s 32ms/step - loss: 0.3946 - acc: 0.8347 - val_loss: 0.3245 - val_acc: 0.8750\n",
            "Epoch 43/200\n",
            "4/4 [==============================] - 0s 26ms/step - loss: 0.4130 - acc: 0.7934 - val_loss: 0.2979 - val_acc: 0.9250\n",
            "Epoch 44/200\n",
            "4/4 [==============================] - 0s 35ms/step - loss: 0.4864 - acc: 0.7355 - val_loss: 0.2926 - val_acc: 0.9000\n",
            "Epoch 45/200\n",
            "4/4 [==============================] - 0s 32ms/step - loss: 0.3850 - acc: 0.8264 - val_loss: 0.2819 - val_acc: 0.9000\n",
            "Epoch 46/200\n",
            "4/4 [==============================] - 0s 29ms/step - loss: 0.3779 - acc: 0.8678 - val_loss: 0.2758 - val_acc: 0.9000\n",
            "Epoch 47/200\n",
            "4/4 [==============================] - 0s 29ms/step - loss: 0.3978 - acc: 0.8678 - val_loss: 0.2607 - val_acc: 0.9500\n",
            "Epoch 48/200\n",
            "4/4 [==============================] - 0s 29ms/step - loss: 0.3960 - acc: 0.8099 - val_loss: 0.2601 - val_acc: 0.9000\n",
            "Epoch 49/200\n",
            "4/4 [==============================] - 0s 26ms/step - loss: 0.4161 - acc: 0.8099 - val_loss: 0.2919 - val_acc: 0.8750\n",
            "Epoch 50/200\n",
            "4/4 [==============================] - 0s 32ms/step - loss: 0.3555 - acc: 0.8264 - val_loss: 0.2437 - val_acc: 0.9500\n",
            "Epoch 51/200\n",
            "4/4 [==============================] - 0s 33ms/step - loss: 0.3718 - acc: 0.8347 - val_loss: 0.2628 - val_acc: 0.9000\n",
            "Epoch 52/200\n",
            "4/4 [==============================] - 0s 33ms/step - loss: 0.3539 - acc: 0.8430 - val_loss: 0.2271 - val_acc: 0.9500\n",
            "Epoch 53/200\n",
            "4/4 [==============================] - 0s 29ms/step - loss: 0.3447 - acc: 0.8760 - val_loss: 0.2354 - val_acc: 0.9250\n",
            "Epoch 54/200\n",
            "4/4 [==============================] - 0s 27ms/step - loss: 0.3645 - acc: 0.8678 - val_loss: 0.2632 - val_acc: 0.9000\n",
            "Epoch 55/200\n",
            "4/4 [==============================] - 0s 30ms/step - loss: 0.3367 - acc: 0.8595 - val_loss: 0.2248 - val_acc: 0.9500\n",
            "Epoch 56/200\n",
            "4/4 [==============================] - 0s 23ms/step - loss: 0.3495 - acc: 0.8512 - val_loss: 0.2354 - val_acc: 0.9000\n",
            "Epoch 57/200\n",
            "4/4 [==============================] - 0s 29ms/step - loss: 0.3442 - acc: 0.8760 - val_loss: 0.2064 - val_acc: 0.9500\n",
            "Epoch 58/200\n",
            "4/4 [==============================] - 0s 31ms/step - loss: 0.3349 - acc: 0.8926 - val_loss: 0.2324 - val_acc: 0.9000\n",
            "Epoch 59/200\n",
            "4/4 [==============================] - 0s 35ms/step - loss: 0.3445 - acc: 0.8347 - val_loss: 0.2393 - val_acc: 0.9000\n",
            "Epoch 60/200\n",
            "4/4 [==============================] - 0s 32ms/step - loss: 0.2915 - acc: 0.9256 - val_loss: 0.2012 - val_acc: 0.9500\n",
            "Epoch 61/200\n",
            "4/4 [==============================] - 0s 28ms/step - loss: 0.3261 - acc: 0.8430 - val_loss: 0.2062 - val_acc: 0.9250\n",
            "Epoch 62/200\n",
            "4/4 [==============================] - 0s 32ms/step - loss: 0.2895 - acc: 0.8843 - val_loss: 0.1966 - val_acc: 0.9500\n",
            "Epoch 63/200\n",
            "4/4 [==============================] - 0s 38ms/step - loss: 0.3111 - acc: 0.9008 - val_loss: 0.2083 - val_acc: 0.9250\n",
            "Epoch 64/200\n",
            "4/4 [==============================] - 0s 35ms/step - loss: 0.3525 - acc: 0.8512 - val_loss: 0.2270 - val_acc: 0.9000\n",
            "Epoch 65/200\n",
            "4/4 [==============================] - 0s 30ms/step - loss: 0.3167 - acc: 0.8595 - val_loss: 0.1935 - val_acc: 0.9500\n",
            "Epoch 66/200\n",
            "4/4 [==============================] - 0s 29ms/step - loss: 0.3452 - acc: 0.8264 - val_loss: 0.2335 - val_acc: 0.9000\n",
            "Epoch 67/200\n",
            "4/4 [==============================] - 0s 31ms/step - loss: 0.3018 - acc: 0.8926 - val_loss: 0.2064 - val_acc: 0.9500\n",
            "Epoch 68/200\n",
            "4/4 [==============================] - 0s 38ms/step - loss: 0.2820 - acc: 0.9174 - val_loss: 0.2239 - val_acc: 0.9000\n",
            "Epoch 69/200\n",
            "4/4 [==============================] - 0s 25ms/step - loss: 0.2978 - acc: 0.8678 - val_loss: 0.2131 - val_acc: 0.9000\n",
            "Epoch 70/200\n",
            "4/4 [==============================] - 0s 30ms/step - loss: 0.2350 - acc: 0.9421 - val_loss: 0.1869 - val_acc: 0.9750\n",
            "Epoch 71/200\n",
            "4/4 [==============================] - 0s 28ms/step - loss: 0.3348 - acc: 0.8347 - val_loss: 0.2127 - val_acc: 0.9250\n",
            "Epoch 72/200\n",
            "4/4 [==============================] - 0s 25ms/step - loss: 0.2932 - acc: 0.8926 - val_loss: 0.1807 - val_acc: 0.9500\n",
            "Epoch 73/200\n",
            "4/4 [==============================] - 0s 36ms/step - loss: 0.2744 - acc: 0.9339 - val_loss: 0.1656 - val_acc: 0.9500\n",
            "Epoch 74/200\n",
            "4/4 [==============================] - 0s 33ms/step - loss: 0.2218 - acc: 0.9091 - val_loss: 0.1781 - val_acc: 0.9250\n",
            "Epoch 75/200\n",
            "4/4 [==============================] - 0s 27ms/step - loss: 0.3009 - acc: 0.8512 - val_loss: 0.1660 - val_acc: 0.9500\n",
            "Epoch 76/200\n",
            "4/4 [==============================] - 0s 30ms/step - loss: 0.2734 - acc: 0.8760 - val_loss: 0.2026 - val_acc: 0.9250\n",
            "Epoch 77/200\n",
            "4/4 [==============================] - 0s 33ms/step - loss: 0.2375 - acc: 0.9256 - val_loss: 0.1563 - val_acc: 0.9500\n",
            "Epoch 78/200\n",
            "4/4 [==============================] - 0s 40ms/step - loss: 0.2650 - acc: 0.8926 - val_loss: 0.1773 - val_acc: 0.9250\n",
            "Epoch 79/200\n",
            "4/4 [==============================] - 0s 32ms/step - loss: 0.2455 - acc: 0.9091 - val_loss: 0.1470 - val_acc: 0.9500\n",
            "Epoch 80/200\n",
            "4/4 [==============================] - 0s 33ms/step - loss: 0.2505 - acc: 0.9256 - val_loss: 0.1809 - val_acc: 0.9250\n",
            "Epoch 81/200\n",
            "4/4 [==============================] - 0s 29ms/step - loss: 0.3596 - acc: 0.8512 - val_loss: 0.1579 - val_acc: 0.9500\n",
            "Epoch 82/200\n",
            "4/4 [==============================] - 0s 27ms/step - loss: 0.2681 - acc: 0.9174 - val_loss: 0.2095 - val_acc: 0.9250\n",
            "Epoch 83/200\n",
            "4/4 [==============================] - 0s 33ms/step - loss: 0.2550 - acc: 0.9091 - val_loss: 0.1773 - val_acc: 0.9500\n",
            "Epoch 84/200\n",
            "4/4 [==============================] - 0s 30ms/step - loss: 0.2847 - acc: 0.9256 - val_loss: 0.1705 - val_acc: 0.9500\n",
            "Epoch 85/200\n",
            "4/4 [==============================] - 0s 31ms/step - loss: 0.2128 - acc: 0.9091 - val_loss: 0.1495 - val_acc: 0.9500\n",
            "Epoch 86/200\n",
            "4/4 [==============================] - 0s 25ms/step - loss: 0.2480 - acc: 0.9008 - val_loss: 0.1452 - val_acc: 0.9500\n",
            "Epoch 87/200\n",
            "4/4 [==============================] - 0s 29ms/step - loss: 0.2446 - acc: 0.9174 - val_loss: 0.2098 - val_acc: 0.9250\n",
            "Epoch 88/200\n",
            "4/4 [==============================] - 0s 31ms/step - loss: 0.2437 - acc: 0.9339 - val_loss: 0.1451 - val_acc: 0.9500\n",
            "Epoch 89/200\n",
            "4/4 [==============================] - 0s 28ms/step - loss: 0.1918 - acc: 0.9421 - val_loss: 0.1729 - val_acc: 0.9500\n",
            "Epoch 90/200\n",
            "4/4 [==============================] - 0s 32ms/step - loss: 0.2693 - acc: 0.9256 - val_loss: 0.1478 - val_acc: 0.9500\n",
            "Epoch 91/200\n",
            "4/4 [==============================] - 0s 28ms/step - loss: 0.2507 - acc: 0.9008 - val_loss: 0.1413 - val_acc: 0.9500\n",
            "Epoch 92/200\n",
            "4/4 [==============================] - 0s 29ms/step - loss: 0.2546 - acc: 0.9256 - val_loss: 0.1798 - val_acc: 0.9250\n",
            "Epoch 93/200\n",
            "4/4 [==============================] - 0s 30ms/step - loss: 0.2492 - acc: 0.8760 - val_loss: 0.1287 - val_acc: 0.9750\n",
            "Epoch 94/200\n",
            "4/4 [==============================] - 0s 29ms/step - loss: 0.1760 - acc: 0.9587 - val_loss: 0.1683 - val_acc: 0.9500\n",
            "Epoch 95/200\n",
            "4/4 [==============================] - 0s 28ms/step - loss: 0.1973 - acc: 0.9174 - val_loss: 0.1211 - val_acc: 0.9500\n",
            "Epoch 96/200\n",
            "4/4 [==============================] - 0s 33ms/step - loss: 0.2245 - acc: 0.9339 - val_loss: 0.1261 - val_acc: 0.9500\n",
            "Epoch 97/200\n",
            "4/4 [==============================] - 0s 29ms/step - loss: 0.2160 - acc: 0.9091 - val_loss: 0.1319 - val_acc: 0.9500\n",
            "Epoch 98/200\n",
            "4/4 [==============================] - 0s 34ms/step - loss: 0.1909 - acc: 0.9256 - val_loss: 0.1516 - val_acc: 0.9500\n",
            "Epoch 99/200\n",
            "4/4 [==============================] - 0s 28ms/step - loss: 0.1850 - acc: 0.9256 - val_loss: 0.1149 - val_acc: 0.9500\n",
            "Epoch 100/200\n",
            "4/4 [==============================] - 0s 31ms/step - loss: 0.1971 - acc: 0.9421 - val_loss: 0.1687 - val_acc: 0.9500\n",
            "Epoch 101/200\n",
            "4/4 [==============================] - 0s 31ms/step - loss: 0.2219 - acc: 0.9256 - val_loss: 0.1382 - val_acc: 0.9500\n",
            "Epoch 102/200\n",
            "4/4 [==============================] - 0s 34ms/step - loss: 0.2233 - acc: 0.9174 - val_loss: 0.1283 - val_acc: 0.9500\n",
            "Epoch 103/200\n",
            "4/4 [==============================] - 0s 33ms/step - loss: 0.2125 - acc: 0.9174 - val_loss: 0.1641 - val_acc: 0.9500\n",
            "Epoch 104/200\n",
            "4/4 [==============================] - 0s 34ms/step - loss: 0.2632 - acc: 0.8926 - val_loss: 0.1149 - val_acc: 0.9750\n",
            "Epoch 105/200\n",
            "4/4 [==============================] - 0s 31ms/step - loss: 0.1919 - acc: 0.9256 - val_loss: 0.2206 - val_acc: 0.9250\n",
            "Epoch 106/200\n",
            "4/4 [==============================] - 0s 27ms/step - loss: 0.2740 - acc: 0.8760 - val_loss: 0.1483 - val_acc: 1.0000\n",
            "Epoch 107/200\n",
            "4/4 [==============================] - 0s 29ms/step - loss: 0.3026 - acc: 0.8843 - val_loss: 0.2545 - val_acc: 0.9000\n",
            "Epoch 108/200\n",
            "4/4 [==============================] - 0s 28ms/step - loss: 0.2446 - acc: 0.8843 - val_loss: 0.1188 - val_acc: 0.9750\n",
            "Epoch 109/200\n",
            "4/4 [==============================] - 0s 36ms/step - loss: 0.2254 - acc: 0.9339 - val_loss: 0.1250 - val_acc: 0.9500\n",
            "Epoch 110/200\n",
            "4/4 [==============================] - 0s 24ms/step - loss: 0.1947 - acc: 0.9421 - val_loss: 0.1671 - val_acc: 0.9500\n",
            "Epoch 111/200\n",
            "4/4 [==============================] - 0s 28ms/step - loss: 0.1720 - acc: 0.9669 - val_loss: 0.0952 - val_acc: 0.9750\n",
            "Epoch 112/200\n",
            "4/4 [==============================] - 0s 21ms/step - loss: 0.1407 - acc: 0.9587 - val_loss: 0.1381 - val_acc: 0.9500\n",
            "Epoch 113/200\n",
            "4/4 [==============================] - 0s 21ms/step - loss: 0.2191 - acc: 0.9339 - val_loss: 0.0921 - val_acc: 0.9750\n",
            "Epoch 114/200\n",
            "4/4 [==============================] - 0s 21ms/step - loss: 0.1619 - acc: 0.9504 - val_loss: 0.1430 - val_acc: 0.9500\n",
            "Epoch 115/200\n",
            "4/4 [==============================] - 0s 24ms/step - loss: 0.1886 - acc: 0.9256 - val_loss: 0.0972 - val_acc: 0.9500\n",
            "Epoch 116/200\n",
            "4/4 [==============================] - 0s 24ms/step - loss: 0.1601 - acc: 0.9504 - val_loss: 0.0919 - val_acc: 0.9750\n",
            "Epoch 117/200\n",
            "4/4 [==============================] - 0s 24ms/step - loss: 0.2077 - acc: 0.9339 - val_loss: 0.1756 - val_acc: 0.9250\n",
            "Epoch 118/200\n",
            "4/4 [==============================] - 0s 19ms/step - loss: 0.1201 - acc: 0.9669 - val_loss: 0.0955 - val_acc: 0.9500\n",
            "Epoch 119/200\n",
            "4/4 [==============================] - 0s 25ms/step - loss: 0.1459 - acc: 0.9504 - val_loss: 0.1069 - val_acc: 0.9500\n",
            "Epoch 120/200\n",
            "4/4 [==============================] - 0s 27ms/step - loss: 0.1101 - acc: 0.9669 - val_loss: 0.0865 - val_acc: 0.9500\n",
            "Epoch 121/200\n",
            "4/4 [==============================] - 0s 24ms/step - loss: 0.1437 - acc: 0.9587 - val_loss: 0.1141 - val_acc: 0.9500\n",
            "Epoch 122/200\n",
            "4/4 [==============================] - 0s 26ms/step - loss: 0.1263 - acc: 0.9752 - val_loss: 0.1039 - val_acc: 0.9500\n",
            "Epoch 123/200\n",
            "4/4 [==============================] - 0s 23ms/step - loss: 0.1748 - acc: 0.9421 - val_loss: 0.0982 - val_acc: 0.9500\n",
            "Epoch 124/200\n",
            "4/4 [==============================] - 0s 21ms/step - loss: 0.1583 - acc: 0.9421 - val_loss: 0.0962 - val_acc: 0.9500\n",
            "Epoch 125/200\n",
            "4/4 [==============================] - 0s 24ms/step - loss: 0.1530 - acc: 0.9587 - val_loss: 0.0954 - val_acc: 0.9750\n",
            "Epoch 126/200\n",
            "4/4 [==============================] - 0s 20ms/step - loss: 0.1571 - acc: 0.9421 - val_loss: 0.1144 - val_acc: 0.9500\n",
            "Epoch 127/200\n",
            "4/4 [==============================] - 0s 26ms/step - loss: 0.1436 - acc: 0.9587 - val_loss: 0.0835 - val_acc: 0.9750\n",
            "Epoch 128/200\n",
            "4/4 [==============================] - 0s 21ms/step - loss: 0.1826 - acc: 0.9421 - val_loss: 0.1115 - val_acc: 0.9500\n",
            "Epoch 129/200\n",
            "4/4 [==============================] - 0s 22ms/step - loss: 0.1571 - acc: 0.9256 - val_loss: 0.0923 - val_acc: 0.9500\n",
            "Epoch 130/200\n",
            "4/4 [==============================] - 0s 21ms/step - loss: 0.1254 - acc: 0.9669 - val_loss: 0.0886 - val_acc: 0.9500\n",
            "Epoch 131/200\n",
            "4/4 [==============================] - 0s 24ms/step - loss: 0.1709 - acc: 0.9504 - val_loss: 0.0951 - val_acc: 0.9500\n",
            "Epoch 132/200\n",
            "4/4 [==============================] - 0s 24ms/step - loss: 0.1667 - acc: 0.9339 - val_loss: 0.0850 - val_acc: 0.9500\n",
            "Epoch 133/200\n",
            "4/4 [==============================] - 0s 21ms/step - loss: 0.1104 - acc: 0.9752 - val_loss: 0.0943 - val_acc: 0.9500\n",
            "Epoch 134/200\n",
            "4/4 [==============================] - 0s 26ms/step - loss: 0.1569 - acc: 0.9421 - val_loss: 0.1013 - val_acc: 0.9500\n",
            "Epoch 135/200\n",
            "4/4 [==============================] - 0s 27ms/step - loss: 0.2153 - acc: 0.8926 - val_loss: 0.0762 - val_acc: 0.9500\n",
            "Epoch 136/200\n",
            "4/4 [==============================] - 0s 22ms/step - loss: 0.1047 - acc: 0.9669 - val_loss: 0.1020 - val_acc: 0.9500\n",
            "Epoch 137/200\n",
            "4/4 [==============================] - 0s 24ms/step - loss: 0.1364 - acc: 0.9587 - val_loss: 0.0952 - val_acc: 0.9500\n",
            "Epoch 138/200\n",
            "4/4 [==============================] - 0s 24ms/step - loss: 0.1198 - acc: 0.9587 - val_loss: 0.0709 - val_acc: 0.9750\n",
            "Epoch 139/200\n",
            "4/4 [==============================] - 0s 24ms/step - loss: 0.1013 - acc: 0.9669 - val_loss: 0.0926 - val_acc: 0.9500\n",
            "Epoch 140/200\n",
            "4/4 [==============================] - 0s 19ms/step - loss: 0.1449 - acc: 0.9421 - val_loss: 0.0821 - val_acc: 0.9500\n",
            "Epoch 141/200\n",
            "4/4 [==============================] - 0s 19ms/step - loss: 0.1319 - acc: 0.9339 - val_loss: 0.0828 - val_acc: 0.9500\n",
            "Epoch 142/200\n",
            "4/4 [==============================] - 0s 20ms/step - loss: 0.1532 - acc: 0.9256 - val_loss: 0.0607 - val_acc: 0.9750\n",
            "Epoch 143/200\n",
            "4/4 [==============================] - 0s 24ms/step - loss: 0.1088 - acc: 0.9587 - val_loss: 0.0869 - val_acc: 0.9500\n",
            "Epoch 144/200\n",
            "4/4 [==============================] - 0s 19ms/step - loss: 0.1090 - acc: 0.9587 - val_loss: 0.0706 - val_acc: 0.9750\n",
            "Epoch 145/200\n",
            "4/4 [==============================] - 0s 25ms/step - loss: 0.0921 - acc: 0.9504 - val_loss: 0.0916 - val_acc: 0.9500\n",
            "Epoch 146/200\n",
            "4/4 [==============================] - 0s 26ms/step - loss: 0.1061 - acc: 0.9669 - val_loss: 0.0562 - val_acc: 0.9750\n",
            "Epoch 147/200\n",
            "4/4 [==============================] - 0s 24ms/step - loss: 0.1303 - acc: 0.9504 - val_loss: 0.0826 - val_acc: 0.9500\n",
            "Epoch 148/200\n",
            "4/4 [==============================] - 0s 22ms/step - loss: 0.1060 - acc: 0.9669 - val_loss: 0.0603 - val_acc: 0.9750\n",
            "Epoch 149/200\n",
            "4/4 [==============================] - 0s 24ms/step - loss: 0.1366 - acc: 0.9587 - val_loss: 0.0712 - val_acc: 0.9750\n",
            "Epoch 150/200\n",
            "4/4 [==============================] - 0s 25ms/step - loss: 0.1271 - acc: 0.9421 - val_loss: 0.0840 - val_acc: 0.9500\n",
            "Epoch 151/200\n",
            "4/4 [==============================] - 0s 27ms/step - loss: 0.1473 - acc: 0.9752 - val_loss: 0.0673 - val_acc: 0.9750\n",
            "Epoch 152/200\n",
            "4/4 [==============================] - 0s 19ms/step - loss: 0.0728 - acc: 0.9835 - val_loss: 0.0908 - val_acc: 0.9500\n",
            "Epoch 153/200\n",
            "4/4 [==============================] - 0s 25ms/step - loss: 0.1113 - acc: 0.9752 - val_loss: 0.0635 - val_acc: 0.9750\n",
            "Epoch 154/200\n",
            "4/4 [==============================] - 0s 27ms/step - loss: 0.1248 - acc: 0.9504 - val_loss: 0.0711 - val_acc: 0.9750\n",
            "Epoch 155/200\n",
            "4/4 [==============================] - 0s 20ms/step - loss: 0.1365 - acc: 0.9339 - val_loss: 0.0741 - val_acc: 0.9750\n",
            "Epoch 156/200\n",
            "4/4 [==============================] - 0s 21ms/step - loss: 0.1273 - acc: 0.9669 - val_loss: 0.1712 - val_acc: 0.9500\n",
            "Epoch 157/200\n",
            "4/4 [==============================] - 0s 23ms/step - loss: 0.1496 - acc: 0.9421 - val_loss: 0.0703 - val_acc: 0.9750\n",
            "Epoch 158/200\n",
            "4/4 [==============================] - 0s 31ms/step - loss: 0.1402 - acc: 0.9587 - val_loss: 0.1017 - val_acc: 0.9500\n",
            "Epoch 159/200\n",
            "4/4 [==============================] - 0s 25ms/step - loss: 0.1586 - acc: 0.9256 - val_loss: 0.0609 - val_acc: 0.9750\n",
            "Epoch 160/200\n",
            "4/4 [==============================] - 0s 21ms/step - loss: 0.1501 - acc: 0.9174 - val_loss: 0.0978 - val_acc: 0.9500\n",
            "Epoch 161/200\n",
            "4/4 [==============================] - 0s 24ms/step - loss: 0.1753 - acc: 0.9421 - val_loss: 0.0894 - val_acc: 0.9750\n",
            "Epoch 162/200\n",
            "4/4 [==============================] - 0s 25ms/step - loss: 0.1735 - acc: 0.9421 - val_loss: 0.1179 - val_acc: 0.9500\n",
            "Epoch 163/200\n",
            "4/4 [==============================] - 0s 25ms/step - loss: 0.1739 - acc: 0.9174 - val_loss: 0.1070 - val_acc: 0.9500\n",
            "Epoch 164/200\n",
            "4/4 [==============================] - 0s 21ms/step - loss: 0.2516 - acc: 0.9091 - val_loss: 0.0927 - val_acc: 0.9750\n",
            "Epoch 165/200\n",
            "4/4 [==============================] - 0s 21ms/step - loss: 0.1744 - acc: 0.9339 - val_loss: 0.1168 - val_acc: 0.9500\n",
            "Epoch 166/200\n",
            "4/4 [==============================] - 0s 22ms/step - loss: 0.1054 - acc: 0.9835 - val_loss: 0.0802 - val_acc: 0.9750\n",
            "Epoch 167/200\n",
            "4/4 [==============================] - 0s 23ms/step - loss: 0.1058 - acc: 0.9587 - val_loss: 0.1083 - val_acc: 0.9500\n",
            "Epoch 168/200\n",
            "4/4 [==============================] - 0s 19ms/step - loss: 0.1769 - acc: 0.9091 - val_loss: 0.0401 - val_acc: 1.0000\n",
            "Epoch 169/200\n",
            "4/4 [==============================] - 0s 28ms/step - loss: 0.1052 - acc: 0.9669 - val_loss: 0.1059 - val_acc: 0.9500\n",
            "Epoch 170/200\n",
            "4/4 [==============================] - 0s 24ms/step - loss: 0.1065 - acc: 0.9669 - val_loss: 0.0634 - val_acc: 0.9750\n",
            "Epoch 171/200\n",
            "4/4 [==============================] - 0s 21ms/step - loss: 0.1635 - acc: 0.9504 - val_loss: 0.0651 - val_acc: 0.9750\n",
            "Epoch 172/200\n",
            "4/4 [==============================] - 0s 25ms/step - loss: 0.1100 - acc: 0.9752 - val_loss: 0.0660 - val_acc: 0.9750\n",
            "Epoch 173/200\n",
            "4/4 [==============================] - 0s 27ms/step - loss: 0.1031 - acc: 0.9752 - val_loss: 0.0479 - val_acc: 0.9750\n",
            "Epoch 174/200\n",
            "4/4 [==============================] - 0s 28ms/step - loss: 0.0909 - acc: 0.9835 - val_loss: 0.0717 - val_acc: 0.9750\n",
            "Epoch 175/200\n",
            "4/4 [==============================] - 0s 25ms/step - loss: 0.0835 - acc: 0.9752 - val_loss: 0.0913 - val_acc: 0.9500\n",
            "Epoch 176/200\n",
            "4/4 [==============================] - 0s 22ms/step - loss: 0.0802 - acc: 0.9669 - val_loss: 0.0400 - val_acc: 0.9750\n",
            "Epoch 177/200\n",
            "4/4 [==============================] - 0s 25ms/step - loss: 0.1249 - acc: 0.9504 - val_loss: 0.0874 - val_acc: 0.9500\n",
            "Epoch 178/200\n",
            "4/4 [==============================] - 0s 20ms/step - loss: 0.0743 - acc: 0.9835 - val_loss: 0.0376 - val_acc: 0.9750\n",
            "Epoch 179/200\n",
            "4/4 [==============================] - 0s 25ms/step - loss: 0.0938 - acc: 0.9669 - val_loss: 0.0664 - val_acc: 0.9750\n",
            "Epoch 180/200\n",
            "4/4 [==============================] - 0s 31ms/step - loss: 0.1374 - acc: 0.9669 - val_loss: 0.0505 - val_acc: 0.9750\n",
            "Epoch 181/200\n",
            "4/4 [==============================] - 0s 23ms/step - loss: 0.0972 - acc: 0.9835 - val_loss: 0.0682 - val_acc: 0.9750\n",
            "Epoch 182/200\n",
            "4/4 [==============================] - 0s 24ms/step - loss: 0.0731 - acc: 0.9835 - val_loss: 0.0453 - val_acc: 0.9750\n",
            "Epoch 183/200\n",
            "4/4 [==============================] - 0s 25ms/step - loss: 0.1041 - acc: 0.9669 - val_loss: 0.0599 - val_acc: 0.9750\n",
            "Epoch 184/200\n",
            "4/4 [==============================] - 0s 24ms/step - loss: 0.0678 - acc: 0.9835 - val_loss: 0.0361 - val_acc: 0.9750\n",
            "Epoch 185/200\n",
            "4/4 [==============================] - 0s 32ms/step - loss: 0.1067 - acc: 0.9669 - val_loss: 0.1037 - val_acc: 0.9500\n",
            "Epoch 186/200\n",
            "4/4 [==============================] - 0s 25ms/step - loss: 0.0504 - acc: 0.9835 - val_loss: 0.0390 - val_acc: 1.0000\n",
            "Epoch 187/200\n",
            "4/4 [==============================] - 0s 25ms/step - loss: 0.0815 - acc: 0.9669 - val_loss: 0.0539 - val_acc: 0.9750\n",
            "Epoch 188/200\n",
            "4/4 [==============================] - 0s 19ms/step - loss: 0.0810 - acc: 0.9752 - val_loss: 0.0441 - val_acc: 0.9750\n",
            "Epoch 189/200\n",
            "4/4 [==============================] - 0s 21ms/step - loss: 0.0667 - acc: 0.9835 - val_loss: 0.0590 - val_acc: 0.9750\n",
            "Epoch 190/200\n",
            "4/4 [==============================] - 0s 27ms/step - loss: 0.1057 - acc: 0.9587 - val_loss: 0.0596 - val_acc: 0.9750\n",
            "Epoch 191/200\n",
            "4/4 [==============================] - 0s 23ms/step - loss: 0.0797 - acc: 0.9835 - val_loss: 0.0696 - val_acc: 0.9750\n",
            "Epoch 192/200\n",
            "4/4 [==============================] - 0s 18ms/step - loss: 0.0911 - acc: 0.9669 - val_loss: 0.0338 - val_acc: 0.9750\n",
            "Epoch 193/200\n",
            "4/4 [==============================] - 0s 22ms/step - loss: 0.0952 - acc: 0.9669 - val_loss: 0.0590 - val_acc: 0.9750\n",
            "Epoch 194/200\n",
            "4/4 [==============================] - 0s 19ms/step - loss: 0.1356 - acc: 0.9587 - val_loss: 0.0471 - val_acc: 0.9750\n",
            "Epoch 195/200\n",
            "4/4 [==============================] - 0s 25ms/step - loss: 0.0972 - acc: 0.9669 - val_loss: 0.0557 - val_acc: 0.9750\n",
            "Epoch 196/200\n",
            "4/4 [==============================] - 0s 21ms/step - loss: 0.1009 - acc: 0.9587 - val_loss: 0.0417 - val_acc: 0.9750\n",
            "Epoch 197/200\n",
            "4/4 [==============================] - 0s 31ms/step - loss: 0.0936 - acc: 0.9669 - val_loss: 0.0317 - val_acc: 1.0000\n",
            "Epoch 198/200\n",
            "4/4 [==============================] - 0s 21ms/step - loss: 0.1658 - acc: 0.9339 - val_loss: 0.1050 - val_acc: 0.9500\n",
            "Epoch 199/200\n",
            "4/4 [==============================] - 0s 26ms/step - loss: 0.0566 - acc: 0.9917 - val_loss: 0.0345 - val_acc: 1.0000\n",
            "Epoch 200/200\n",
            "4/4 [==============================] - 0s 20ms/step - loss: 0.1046 - acc: 0.9421 - val_loss: 0.0428 - val_acc: 0.9750\n"
          ]
        }
      ]
    },
    {
      "cell_type": "code",
      "source": [
        "### Plot training and validation accuracy and loss over time\n",
        "\n",
        "# Extract accuracy and loss values (in list form) from the history\n",
        "acc = history.history['acc']\n",
        "val_acc = history.history['val_acc']\n",
        "loss = history.history['loss']\n",
        "val_loss = history.history['val_loss']\n",
        "\n",
        "# Create a list of epoch numbers\n",
        "epochs = range(1, len(acc) + 1)\n",
        "\n",
        "# Plot training and validation loss values over time\n",
        "plt.figure()\n",
        "plt.plot(epochs, loss, color='blue', marker='.', label='Training loss')\n",
        "plt.plot(epochs, val_loss, color='orange', marker='.', label='Validation loss')\n",
        "plt.title('Training and validation loss')\n",
        "plt.legend()\n",
        "\n",
        "# Plot training and validation accuracies over time\n",
        "plt.figure()\n",
        "plt.plot(epochs, acc, color='blue', marker='.', label='Training acc')\n",
        "plt.plot(epochs, val_acc, color='orange', marker='.', label='Validation acc')\n",
        "plt.title('Training and validation accuracy')\n",
        "plt.legend()\n",
        "plt.show()"
      ],
      "metadata": {
        "colab": {
          "base_uri": "https://localhost:8080/",
          "height": 887
        },
        "id": "pgjsGo_-6eI5",
        "outputId": "28428c34-0055-47a8-9693-f193af147c15"
      },
      "execution_count": 23,
      "outputs": [
        {
          "output_type": "display_data",
          "data": {
            "text/plain": [
              "<Figure size 640x480 with 1 Axes>"
            ],
            "image/png": "[encoded data removed]"
          },
          "metadata": {}
        },
        {
          "output_type": "display_data",
          "data": {
            "text/plain": [
              "<Figure size 640x480 with 1 Axes>"
            ],
            "image/png": "[encoded data removed]"
          },
          "metadata": {}
        }
      ]
    },
    {
      "cell_type": "code",
      "source": [
        "\n",
        "### Try predicting label with one validation sample (inference)\n",
        "\n",
        "# Change this to try a different sample from the test set\n",
        "idx = 0\n",
        "\n",
        "# Make sample 2D array instead of 1D vector (this is what the Keras model expects as input)\n",
        "x = np.expand_dims(X_val[idx], 0)\n",
        "\n",
        "# Make prediction using trained model\n",
        "y_pred = model.predict(x)\n",
        "\n",
        "# Find index of highest score in output\n",
        "predicted_label = np.argmax(y_pred)\n",
        "actual_label = np.argmax(Y_val[idx])\n",
        "\n",
        "# Display model output, predicted label, actual label\n",
        "print(\"Model output:\", y_pred)\n",
        "print(\"Predicted label:\", predicted_label, \"-\", labels[predicted_label])\n",
        "print(\"Actual label:\", actual_label, \"-\", labels[actual_label])\n",
        ""
      ],
      "metadata": {
        "colab": {
          "base_uri": "https://localhost:8080/"
        },
        "id": "c_QNcD7B6mdb",
        "outputId": "158fd711-1180-4f47-ba06-ad32744119d6"
      },
      "execution_count": 24,
      "outputs": [
        {
          "output_type": "stream",
          "name": "stdout",
          "text": [
            "1/1 [==============================] - 0s 134ms/step\n",
            "Model output: [[2.2191817e-03 9.9075329e-01 6.6687521e-03 3.5865561e-04]]\n",
            "Predicted label: 1 - bud\n",
            "Actual label: 1 - bud\n"
          ]
        }
      ]
    },
    {
      "cell_type": "code",
      "source": [
        "### Create confusion matrix from validation set\n",
        "\n",
        "# Find predictions from all validation samples\n",
        "Y_pred = model.predict(X_val)\n",
        "print(\"Validation output shape:\", Y_pred.shape)\n",
        "\n",
        "# Convert actual and predicted validation one-hot encoding to numerical labels\n",
        "y_val = np.argmax(Y_val, axis=1)\n",
        "y_pred = np.argmax(Y_pred, axis=1)\n",
        "\n",
        "# Print some values from actual and predicted validation sets (first 50 samples)\n",
        "print(\"Actual validation labels:\\t\", y_val[:50])\n",
        "print(\"Predicted validation labels:\\t\", y_pred[:50])\n",
        "\n",
        "# Compute confusion matrix (note: we need to transpose SKLearn matrix to make it match Edge Impulse)\n",
        "cm = confusion_matrix(y_val, y_pred)\n",
        "cm = np.transpose(cm)\n",
        "\n",
        "# Print confusion matrix\n",
        "print()\n",
        "print(\" ---> Predicted labels\")\n",
        "print(\"|\")\n",
        "print(\"v Actual labels\")\n",
        "print(\"\\t\\t\\t\" + ' '.join(\"{!s:6}\".format('(' + str(i) + ')') for i in range(num_classes)))\n",
        "for row in range(num_classes):\n",
        "  print(\"{:>12} ({}):  [{}]\".format(labels[row], row, ' '.join(\"{:6}\".format(i) for i in cm[row])))\n",
        ""
      ],
      "metadata": {
        "colab": {
          "base_uri": "https://localhost:8080/"
        },
        "id": "4DdtjoZ16wBQ",
        "outputId": "298135ba-5de7-4596-c891-baab286b0f38"
      },
      "execution_count": 25,
      "outputs": [
        {
          "output_type": "stream",
          "name": "stdout",
          "text": [
            "2/2 [==============================] - 0s 5ms/step\n",
            "Validation output shape: (40, 4)\n",
            "Actual validation labels:\t [1 0 2 3 1 0 3 3 0 3 3 0 3 3 2 2 1 1 2 0 3 2 1 1 3 0 3 2 2 1 3 1 0 0 1 2 3\n",
            " 0 0 1]\n",
            "Predicted validation labels:\t [1 0 2 3 1 0 3 3 0 3 3 0 3 3 2 2 1 0 2 0 3 2 1 1 3 0 3 2 2 1 3 1 0 0 1 2 3\n",
            " 0 0 1]\n",
            "\n",
            " ---> Predicted labels\n",
            "|\n",
            "v Actual labels\n",
            "\t\t\t(0)    (1)    (2)    (3)   \n",
            "  background (0):  [    10      1      0      0]\n",
            "         bud (1):  [     0      9      0      0]\n",
            "         pin (2):  [     0      0      8      0]\n",
            "      sdcard (3):  [     0      0      0     12]\n"
          ]
        }
      ]
    },
    {
      "cell_type": "code",
      "source": [
        "### Evaluate model on validation set\n",
        "score = model.evaluate(X_val, Y_val)\n",
        "print(\"Validation loss:\", score[0])\n",
        "print(\"Validation accuracy:\", score[1])\n",
        ""
      ],
      "metadata": {
        "colab": {
          "base_uri": "https://localhost:8080/"
        },
        "id": "Nxk2A2L061qv",
        "outputId": "26b2749b-ed43-49ab-ed2f-cf553f5203b4"
      },
      "execution_count": 26,
      "outputs": [
        {
          "output_type": "stream",
          "name": "stdout",
          "text": [
            "2/2 [==============================] - 0s 9ms/step - loss: 0.0428 - acc: 0.9750\n",
            "Validation loss: 0.04277614504098892\n",
            "Validation accuracy: 0.9750000238418579\n"
          ]
        }
      ]
    },
    {
      "cell_type": "code",
      "source": [
        "\n",
        "\n",
        "### Evaluate model on entire test set\n",
        "score = model.evaluate(X_test, Y_test)\n",
        "print(\"Test loss:\", score[0])\n",
        "print(\"Test accuracy:\", score[1])\n",
        "\n"
      ],
      "metadata": {
        "colab": {
          "base_uri": "https://localhost:8080/"
        },
        "id": "eH9INVAG7DiC",
        "outputId": "b921850c-87d1-405c-a27a-cdf7816c26b1"
      },
      "execution_count": 27,
      "outputs": [
        {
          "output_type": "stream",
          "name": "stdout",
          "text": [
            "2/2 [==============================] - 0s 15ms/step - loss: 0.0067 - acc: 1.0000\n",
            "Test loss: 0.006672055926173925\n",
            "Test accuracy: 1.0\n"
          ]
        }
      ]
    },
    {
      "cell_type": "code",
      "source": [],
      "metadata": {
        "id": "Dl92fuRW7Gv5"
      },
      "execution_count": null,
      "outputs": []
    }
  ]
}