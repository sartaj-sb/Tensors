{
  "nbformat": 4,
  "nbformat_minor": 0,
  "metadata": {
    "colab": {
      "provenance": [],
      "authorship_tag": "ABX9TyN1lN+9fv+UqdzLTbfqDPkv",
      "include_colab_link": true
    },
    "kernelspec": {
      "name": "python3",
      "display_name": "Python 3"
    },
    "language_info": {
      "name": "python"
    }
  },
  "cells": [
    {
      "cell_type": "markdown",
      "metadata": {
        "id": "view-in-github",
        "colab_type": "text"
      },
      "source": [
        "<a href=\"https://colab.research.google.com/github/sartaj-sb/Tensors/blob/main/Tensor_3_mnist_convolutions.ipynb\" target=\"_parent\"><img src=\"https://colab.research.google.com/assets/colab-badge.svg\" alt=\"Open In Colab\"/></a>"
      ]
    },
    {
      "cell_type": "code",
      "execution_count": 1,
      "metadata": {
        "id": "KIMlbhTCPajU"
      },
      "outputs": [],
      "source": [
        "# prompt: load the mnist dataset containing 60,000 images of 28,28 greyscale .\n",
        "\n",
        "import tensorflow as tf\n",
        "\n",
        "mnist = tf.keras.datasets.mnist\n",
        "(x_train, y_train), (x_test, y_test) = mnist.load_data()\n",
        "x_train, x_test = x_train / 255.0, x_test / 255.0\n"
      ]
    },
    {
      "cell_type": "code",
      "source": [
        "x_train.shape"
      ],
      "metadata": {
        "colab": {
          "base_uri": "https://localhost:8080/"
        },
        "id": "hUEI2KzlPklL",
        "outputId": "5314a3e4-bb61-4ba9-e1ac-18ff422f62e1"
      },
      "execution_count": 2,
      "outputs": [
        {
          "output_type": "execute_result",
          "data": {
            "text/plain": [
              "(60000, 28, 28)"
            ]
          },
          "metadata": {},
          "execution_count": 2
        }
      ]
    },
    {
      "cell_type": "markdown",
      "source": [
        "#### Dense neural networks"
      ],
      "metadata": {
        "id": "mOdo0FGor3dw"
      }
    },
    {
      "cell_type": "code",
      "source": [
        "model  =  tf.keras.Sequential([\n",
        "    tf.keras.layers.Flatten(input_shape=(28,28)),\n",
        "    tf.keras.layers.Dense(128,activation = tf.nn.relu),\n",
        "    tf.keras.layers.Dense(10,activation = tf.nn.softmax)\n",
        "    ])"
      ],
      "metadata": {
        "id": "kUuRVtPhPtPP"
      },
      "execution_count": 4,
      "outputs": []
    },
    {
      "cell_type": "code",
      "source": [
        "model2 = tf.keras.Sequential([\n",
        "    tf.keras.layers.Conv2D(64,(3,3),activation ='relu', input_shape = (28,28,1)),\n",
        "    tf.keras.layers.MaxPooling2D(2,2),\n",
        "    tf.keras.layers.Conv2D(64,(3,3),activation ='relu'),\n",
        "    tf.keras.layers.MaxPooling2D(2,2),\n",
        "    tf.keras.layers.Flatten(),\n",
        "    tf.keras.layers.Dense(128,activation = 'relu'),\n",
        "    tf.keras.layers.Dense(10,activation = 'softmax')\n",
        "])"
      ],
      "metadata": {
        "id": "-qf9v9RIr7rK"
      },
      "execution_count": 14,
      "outputs": []
    },
    {
      "cell_type": "code",
      "source": [
        "\n",
        "# class myCallback (tf.keras.callbacks.Callback): ##callback class\n",
        "#   def on_epoch_end(self, epoch, logs = {}):\n",
        "#     if(logs.get('loss')<0.4):\n",
        "#       print(\"\\n Loss is low so cancelling training !\")\n",
        "#       self.model.stop_training = True"
      ],
      "metadata": {
        "id": "lPgBLgTPQOqq"
      },
      "execution_count": 5,
      "outputs": []
    },
    {
      "cell_type": "code",
      "source": [
        "# prompt: create a callback class with the name mycallback class to stop training when the accuracy value is higher than 0.95\n",
        "\n",
        "class myCallback(tf.keras.callbacks.Callback):\n",
        "  def on_epoch_end(self, epoch, logs={}):\n",
        "    if(logs.get('accuracy') > 0.98):\n",
        "      print(\"\\nReached 98% accuracy so cancelling training!\")\n",
        "      self.model.stop_training = True\n"
      ],
      "metadata": {
        "id": "TBbrVQquSfG7"
      },
      "execution_count": 6,
      "outputs": []
    },
    {
      "cell_type": "code",
      "source": [
        "callbacks = myCallback()\n"
      ],
      "metadata": {
        "id": "FqIcgiNVQ8Se"
      },
      "execution_count": 7,
      "outputs": []
    },
    {
      "cell_type": "code",
      "source": [
        "model.compile(optimizer = 'adam',loss = 'sparse_categorical_crossentropy', metrics =['accuracy'])"
      ],
      "metadata": {
        "id": "D8zq2NBaRf81"
      },
      "execution_count": 8,
      "outputs": []
    },
    {
      "cell_type": "code",
      "source": [
        "model.fit(x_train,y_train,epochs = 1000, callbacks=[callbacks])"
      ],
      "metadata": {
        "colab": {
          "base_uri": "https://localhost:8080/"
        },
        "id": "bGtp5wzvRL-a",
        "outputId": "15933365-9111-4218-d683-a92693b7f9db"
      },
      "execution_count": 9,
      "outputs": [
        {
          "output_type": "stream",
          "name": "stdout",
          "text": [
            "Epoch 1/1000\n",
            "1875/1875 [==============================] - 8s 4ms/step - loss: 0.2601 - accuracy: 0.9251\n",
            "Epoch 2/1000\n",
            "1875/1875 [==============================] - 8s 4ms/step - loss: 0.1145 - accuracy: 0.9665\n",
            "Epoch 3/1000\n",
            "1875/1875 [==============================] - 8s 4ms/step - loss: 0.0783 - accuracy: 0.9764\n",
            "Epoch 4/1000\n",
            "1865/1875 [============================>.] - ETA: 0s - loss: 0.0596 - accuracy: 0.9816\n",
            "Reached 98% accuracy so cancelling training!\n",
            "1875/1875 [==============================] - 7s 4ms/step - loss: 0.0596 - accuracy: 0.9816\n"
          ]
        },
        {
          "output_type": "execute_result",
          "data": {
            "text/plain": [
              "<keras.src.callbacks.History at 0x7896c600d6c0>"
            ]
          },
          "metadata": {},
          "execution_count": 9
        }
      ]
    },
    {
      "cell_type": "code",
      "source": [
        "test_loss = model.evaluate(x_test,y_test)"
      ],
      "metadata": {
        "colab": {
          "base_uri": "https://localhost:8080/"
        },
        "id": "XmGkTyloReEF",
        "outputId": "09d70efd-c5d4-49fb-a5cf-fe1106391be2"
      },
      "execution_count": 10,
      "outputs": [
        {
          "output_type": "stream",
          "name": "stdout",
          "text": [
            "313/313 [==============================] - 1s 2ms/step - loss: 0.0741 - accuracy: 0.9783\n"
          ]
        }
      ]
    },
    {
      "cell_type": "code",
      "source": [
        "model2.compile(optimizer='adam',loss='sparse_categorical_crossentropy',metrics=['accuracy'])"
      ],
      "metadata": {
        "id": "wDC7SV6GtKd2"
      },
      "execution_count": 15,
      "outputs": []
    },
    {
      "cell_type": "code",
      "source": [
        "model2.fit(x_train,y_train,epochs=100,callbacks=[callbacks])"
      ],
      "metadata": {
        "colab": {
          "base_uri": "https://localhost:8080/"
        },
        "id": "8b4ZtXrgqT2h",
        "outputId": "fcbc6f31-8939-4283-dbe7-1f7ef7d67e50"
      },
      "execution_count": 16,
      "outputs": [
        {
          "output_type": "stream",
          "name": "stdout",
          "text": [
            "Epoch 1/100\n",
            "1875/1875 [==============================] - 85s 45ms/step - loss: 0.1257 - accuracy: 0.9607\n",
            "Epoch 2/100\n",
            "1874/1875 [============================>.] - ETA: 0s - loss: 0.0423 - accuracy: 0.9866\n",
            "Reached 98% accuracy so cancelling training!\n",
            "1875/1875 [==============================] - 86s 46ms/step - loss: 0.0423 - accuracy: 0.9866\n"
          ]
        },
        {
          "output_type": "execute_result",
          "data": {
            "text/plain": [
              "<keras.src.callbacks.History at 0x7896b6764ac0>"
            ]
          },
          "metadata": {},
          "execution_count": 16
        }
      ]
    },
    {
      "cell_type": "code",
      "source": [],
      "metadata": {
        "id": "S55RlaK1tkNO"
      },
      "execution_count": null,
      "outputs": []
    }
  ]
}