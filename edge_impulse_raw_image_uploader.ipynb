{
  "nbformat": 4,
  "nbformat_minor": 0,
  "metadata": {
    "colab": {
      "provenance": [],
      "authorship_tag": "ABX9TyOR3B08G8xbZoIKwlEOCMXW",
      "include_colab_link": true
    },
    "kernelspec": {
      "name": "python3",
      "display_name": "Python 3"
    },
    "language_info": {
      "name": "python"
    }
  },
  "cells": [
    {
      "cell_type": "markdown",
      "metadata": {
        "id": "view-in-github",
        "colab_type": "text"
      },
      "source": [
        "<a href=\"https://colab.research.google.com/github/sartaj-sb/Tensors/blob/main/edge_impulse_raw_image_uploader.ipynb\" target=\"_parent\"><img src=\"https://colab.research.google.com/assets/colab-badge.svg\" alt=\"Open In Colab\"/></a>"
      ]
    },
    {
      "cell_type": "code",
      "execution_count": null,
      "metadata": {
        "id": "v_Xbr0vlAgiX"
      },
      "outputs": [],
      "source": [
        "import numpy as np\n",
        "import matplotlib.pyplot as plt\n",
        "\n",
        "import random, os, PIL, json, time, hmac, hashlib, requests, threading, queue\n",
        "\n",
        "from skimage.transform import resize                      # Used to scale/resize image arrays\n"
      ]
    },
    {
      "cell_type": "code",
      "source": [
        "### Settings\n",
        "\n",
        "# Edge Impulse > your_project > Dashboard > Keys\n",
        "EI_API_KEY = \"ei_8f1797e02427648310d08ce2eb6bc98935e50fdf1fdb96e3d27dc970163ab1e4\"\n",
        "EI_HMAC_KEY = \"1b42941aa5c0303d00d5088abaf636ec\"\n",
        "\n",
        "# Number of threads to run to upload data to Edge Impulse\n",
        "NUM_THREADS = 20\n",
        "\n",
        "# Location of dataset\n",
        "DATASET_PATH = \"/content/dataset\"\n",
        "\n",
        "# Desired resolution of images\n",
        "TARGET_WIDTH = 28\n",
        "TARGET_HEIGHT = 28\n",
        "\n",
        "# Invert image (dark backgrounds can sometimes improve accuracy)\n",
        "INVERT = False\n",
        "\n",
        "# Set aside 20% for test set (Edge Impulse automatically extracts validation set during training)\n",
        "TEST_RATIO = 0.2\n",
        "\n",
        "# You are welcome to change the seed to try a different validation set split\n",
        "random.seed(42)"
      ],
      "metadata": {
        "id": "DcdxaPdxCXjr"
      },
      "execution_count": null,
      "outputs": []
    },
    {
      "cell_type": "markdown",
      "source": [
        "\n",
        "Curate Image Dataset\n",
        "\n",
        "The following cells perform the following:\n",
        "\n",
        "    Load images from filesystem as grayscale values\n",
        "    Set aside some portion of the dataset as test data\n",
        "    Resize images\n",
        "    Normalize pixel value from [0, 255] to [0.0, 1.0]\n",
        "    Flatten images to 1D array\n",
        "\n"
      ],
      "metadata": {
        "id": "xAPyyqx8CnBU"
      }
    },
    {
      "cell_type": "code",
      "source": [
        "### Load images as Numpy arrays\n",
        "\n",
        "# We want to record the labels and assign a ground truth label as a number to each sample\n",
        "labels = []\n",
        "y_all = []    # Lowercase 'y' - 1D vector of the ground truth labels (n)\n",
        "X_all = []    # Uppercase 'X' - 3D array of all image samples (n x width x height)\n",
        "\n",
        "# Find the directories in the dataset folder (skip the Jupyter Notebook checkpoints hidden folder)\n",
        "for label in os.listdir(DATASET_PATH):\n",
        "  class_dir = os.path.join(DATASET_PATH, label)\n",
        "  if os.path.isdir(class_dir) and label != \".ipynb_checkpoints\":\n",
        "\n",
        "    # Add the name of the folder to our labels list\n",
        "    labels.append(label)\n",
        "\n",
        "    # Go through each image in the folder\n",
        "    for i, file in enumerate(os.listdir(class_dir)):\n",
        "\n",
        "      # Skip the Jupyter Notebook checkpoints folder that sometimes gets added\n",
        "      if file != \".ipynb_checkpoints\":\n",
        "\n",
        "        # Open image and convert to grayscale\n",
        "        file_path = os.path.join(class_dir, file)\n",
        "        img = PIL.Image.open(file_path).convert('L')\n",
        "\n",
        "        # Convert the image to a Numpy array, optionally invern, and append to X\n",
        "        img_array = np.asarray(img)\n",
        "        if INVERT:\n",
        "          img_array = 255 - img_array\n",
        "        X_all.append(img_array)\n",
        "\n",
        "        # Add label to the y array\n",
        "        y_all.append(label)\n",
        "\n",
        "    # Show how many images we loaded\n",
        "    print(\"Added\", str(i + 1), \"images from\", label)\n",
        "\n",
        "# Calculate total number of samples\n",
        "num_samples = len(X_all)\n",
        "\n",
        "# Sort the labels list by alphabetical order\n",
        "labels = sorted(labels)\n",
        "\n",
        "# Print out labels and number of samples\n",
        "print(labels)\n",
        "print(\"Number of samples:\", num_samples)"
      ],
      "metadata": {
        "colab": {
          "base_uri": "https://localhost:8080/"
        },
        "id": "3LurG6AeCiCN",
        "outputId": "1ea94f5a-c9b7-4559-d7dd-6b45defc1476"
      },
      "execution_count": null,
      "outputs": [
        {
          "output_type": "stream",
          "name": "stdout",
          "text": [
            "Added 50 images from pin\n",
            "Added 51 images from background\n",
            "Added 50 images from sdcard\n",
            "Added 50 images from bud\n",
            "['background', 'bud', 'pin', 'sdcard']\n",
            "Number of samples: 201\n"
          ]
        }
      ]
    },
    {
      "cell_type": "code",
      "source": [
        "### Shuffle samples and labels together, divide into test and training sets\n",
        "\n",
        "# Shuffle samples and associated labels together\n",
        "X_y = list(zip(X_all, y_all))\n",
        "random.shuffle(X_y)\n",
        "X_all, y_all = zip(*X_y)\n",
        "\n",
        "# Calculate number of validation and test samples to put aside (round down)\n",
        "num_samples_test = int(TEST_RATIO * num_samples)\n",
        "\n",
        "# The first `num_samples_test` samples of the shuffled list becomes the test set\n",
        "X_test = X_all[:num_samples_test]\n",
        "y_test = y_all[:num_samples_test]\n",
        "\n",
        "# The remaining samples become the training set\n",
        "X_train = X_all[num_samples_test:]\n",
        "y_train = y_all[num_samples_test:]\n",
        "\n",
        "# Remember the number of samples in the test set\n",
        "num_samples_train = len(X_train)\n",
        "\n",
        "# Print out the number of test and training samples\n",
        "print(\"Number of test samples:\", num_samples_test)\n",
        "print(\"Number of training samples:\", num_samples_train)"
      ],
      "metadata": {
        "colab": {
          "base_uri": "https://localhost:8080/"
        },
        "id": "-EKnRAtJCtNJ",
        "outputId": "8df3734b-995e-4af0-e201-d11c18ab04ee"
      },
      "execution_count": null,
      "outputs": [
        {
          "output_type": "stream",
          "name": "stdout",
          "text": [
            "Number of test samples: 40\n",
            "Number of training samples: 161\n"
          ]
        }
      ]
    },
    {
      "cell_type": "code",
      "source": [
        "### View one of the training samples\n",
        "\n",
        "# Chose which sample you want to view\n",
        "idx = 0\n",
        "\n",
        "# Print out label (numbe and string) and part of the array\n",
        "print(\"Label: \" + y_train[idx])\n",
        "print(X_train[idx])\n",
        "\n",
        "# Display image from array\n",
        "plt.imshow(X_train[idx], cmap='gray', vmin=0, vmax=255)"
      ],
      "metadata": {
        "colab": {
          "base_uri": "https://localhost:8080/",
          "height": 592
        },
        "id": "AirIDgxpDtVI",
        "outputId": "378b1192-9799-4c65-e959-4ae939bd7a23"
      },
      "execution_count": null,
      "outputs": [
        {
          "output_type": "stream",
          "name": "stdout",
          "text": [
            "Label: bud\n",
            "[[200 199 196 ... 183 183 183]\n",
            " [200 198 197 ... 183 183 183]\n",
            " [198 198 198 ... 184 183 184]\n",
            " ...\n",
            " [201 200 201 ... 178 178 178]\n",
            " [200 200 200 ... 178 178 178]\n",
            " [199 199 199 ... 179 178 178]]\n"
          ]
        },
        {
          "output_type": "execute_result",
          "data": {
            "text/plain": [
              "<matplotlib.image.AxesImage at 0x7fcf87caf400>"
            ]
          },
          "metadata": {},
          "execution_count": 7
        },
        {
          "output_type": "display_data",
          "data": {
            "text/plain": [
              "<Figure size 640x480 with 1 Axes>"
            ],
            "image/png": "[encoded data removed]"
          },
          "metadata": {}
        }
      ]
    },
    {
      "cell_type": "code",
      "source": [
        "### Function to resize list of images\n",
        "def resize_images(images, width, height, anti_aliasing=True):\n",
        "  \"\"\"\n",
        "  Prove a list of Numpy arrays (in images parameter) to have them all resized to desired height and\n",
        "  width. Returns the list of newly resized image arrays.\n",
        "\n",
        "  NOTE: skimage resize returns *normalized* image arrays (values between 0..1)\n",
        "  \"\"\"\n",
        "  X_out = []\n",
        "  for i, img in enumerate(images):\n",
        "    X_out.append(resize(img, (height, width), anti_aliasing=anti_aliasing))\n",
        "  return X_out"
      ],
      "metadata": {
        "id": "4jYkVJvVDxeK"
      },
      "execution_count": null,
      "outputs": []
    },
    {
      "cell_type": "code",
      "source": [
        "\n",
        "\n",
        "### Scale/crop images (Note: also normalizes data to 0..1)\n",
        "\n",
        "# Resize (scale) all images in the training set\n",
        "X_train = resize_images(X_train, TARGET_WIDTH, TARGET_HEIGHT)\n",
        "\n",
        "# Resize (scale) all images in the test set\n",
        "X_test = resize_images(X_test, TARGET_WIDTH, TARGET_HEIGHT)\n",
        "\n"
      ],
      "metadata": {
        "id": "tA-1b5JbD0p2"
      },
      "execution_count": null,
      "outputs": []
    },
    {
      "cell_type": "code",
      "source": [
        "\n",
        "\n",
        "### View training sample again (after they all have been scaled)\n",
        "\n",
        "# Chose which sample you want to view\n",
        "idx = 0\n",
        "\n",
        "# Print out label (numbe and string) and part of the array\n",
        "print(\"Label: \" + y_train[idx])\n",
        "print(\"First row:\", X_train[idx][:1,:])\n",
        "\n",
        "# Display image from array (note that images have been normalized)\n",
        "plt.imshow(X_train[idx], cmap='gray', vmin=0, vmax=1)\n",
        "\n"
      ],
      "metadata": {
        "colab": {
          "base_uri": "https://localhost:8080/",
          "height": 554
        },
        "id": "7WdZbqczD2z8",
        "outputId": "fefa8b90-b815-4abb-cf9c-27c2ba94a267"
      },
      "execution_count": null,
      "outputs": [
        {
          "output_type": "stream",
          "name": "stdout",
          "text": [
            "Label: bud\n",
            "First row: [[0.77622963 0.77474772 0.77151724 0.77667791 0.78550851 0.78596771\n",
            "  0.78272886 0.77679404 0.76732517 0.75579464 0.74877817 0.7486584\n",
            "  0.74758604 0.74416956 0.7405392  0.73810008 0.73690296 0.73445115\n",
            "  0.73146802 0.72933106 0.72601907 0.72596668 0.72418255 0.7236934\n",
            "  0.72271025 0.72205054 0.72112349 0.71894495]]\n"
          ]
        },
        {
          "output_type": "execute_result",
          "data": {
            "text/plain": [
              "<matplotlib.image.AxesImage at 0x7fcf878253c0>"
            ]
          },
          "metadata": {},
          "execution_count": 10
        },
        {
          "output_type": "display_data",
          "data": {
            "text/plain": [
              "<Figure size 640x480 with 1 Axes>"
            ],
            "image/png": "[encoded data removed]"
          },
          "metadata": {}
        }
      ]
    },
    {
      "cell_type": "code",
      "source": [
        "\n",
        "\n",
        "### Convert list of samples into Numpy arrays\n",
        "\n",
        "# Convert sets\n",
        "X_train = np.asarray(X_train)\n",
        "X_test = np.asarray(X_test)\n",
        "\n",
        "# Print out the new Numpy array shapes (always a good idea to check the shapes!)\n",
        "print(\"Training X:\", X_train.shape)\n",
        "print(\"Test X:\", X_test.shape)\n",
        "\n"
      ],
      "metadata": {
        "colab": {
          "base_uri": "https://localhost:8080/"
        },
        "id": "SX7NWzlHD47y",
        "outputId": "b3fad5b2-18cb-4e36-cf3e-1da3a80336fd"
      },
      "execution_count": null,
      "outputs": [
        {
          "output_type": "stream",
          "name": "stdout",
          "text": [
            "Training X: (161, 28, 28)\n",
            "Test X: (40, 28, 28)\n"
          ]
        }
      ]
    },
    {
      "cell_type": "code",
      "source": [
        "### Flatten each image to a 1D vector (DNN requires 1D input)\n",
        "\n",
        "# Compute length of 1D array that we will flatten each image to\n",
        "len_vector = TARGET_WIDTH * TARGET_WIDTH\n",
        "\n",
        "# Flatten matricies to vectors\n",
        "X_train = X_train.reshape(num_samples_train, len_vector)\n",
        "X_test = X_test.reshape(num_samples_test, len_vector)\n",
        "\n",
        "# Print out the new Numpy array shapes (always a good idea to check the shapes!)\n",
        "print(\"Training X:\", X_train.shape)\n",
        "print(\"Test X:\", X_test.shape)"
      ],
      "metadata": {
        "colab": {
          "base_uri": "https://localhost:8080/"
        },
        "id": "q8DEtc_tD-DH",
        "outputId": "c3ed55d6-c246-4217-e3f2-1d2412526cb7"
      },
      "execution_count": null,
      "outputs": [
        {
          "output_type": "stream",
          "name": "stdout",
          "text": [
            "Training X: (161, 784)\n",
            "Test X: (40, 784)\n"
          ]
        }
      ]
    },
    {
      "cell_type": "code",
      "source": [
        "\n",
        "\n",
        "def create_json_wrapper():\n",
        "  \"\"\"\n",
        "  Construct initial JSON wrapper as a template\n",
        "  \"\"\"\n",
        "\n",
        "  # Start with all zeros. Hs256 gives 32 bytes and we encode in hex. So, we need 64 characters here.\n",
        "  empty_signature = ''.join(['0'] * 64)\n",
        "\n",
        "  # Create JSON wrapper for data\n",
        "  data = {\n",
        "      \"protected\": {\n",
        "          \"ver\": \"v1\",\n",
        "          \"alg\": \"HS256\",\n",
        "          \"iat\": time.time()                  # Epoch time, seconds since 1970\n",
        "      },\n",
        "      \"signature\": empty_signature,\n",
        "      \"payload\": {\n",
        "          \"device_type\": \"pre-made\",          # Pre-made dataset (not collected)\n",
        "          \"interval_ms\": 1,                   # Pretend it's interval of 1 ms\n",
        "          \"sensors\": [\n",
        "              { \"name\": \"img\", \"units\": \"B\" } # Unitless (\"Byte\" data)\n",
        "          ],\n",
        "          \"values\": []\n",
        "      }\n",
        "  }\n",
        "\n",
        "  return data\n",
        "\n"
      ],
      "metadata": {
        "id": "bwoa9KxEEAPD"
      },
      "execution_count": null,
      "outputs": []
    },
    {
      "cell_type": "code",
      "source": [
        "def send_sample(data, label, test_set=False):\n",
        "  \"\"\"\n",
        "  Send raw data sample to Edge Impulse project, return HTTP status code\n",
        "  \"\"\"\n",
        "\n",
        "  # Encode message in JSON format\n",
        "  encoded = json.dumps(data)\n",
        "\n",
        "  # Sign message\n",
        "  signature = hmac.new(bytes(EI_HMAC_KEY, 'utf-8'),\n",
        "                      msg = encoded.encode('utf-8'),\n",
        "                      digestmod = hashlib.sha256).hexdigest()\n",
        "\n",
        "  # Set the signature in the message and encode data again to JSON format\n",
        "  data['signature'] = signature\n",
        "  encoded = json.dumps(data)\n",
        "\n",
        "  # Construct URL based on dataset being sent\n",
        "  if test_set:\n",
        "    url = 'https://ingestion.edgeimpulse.com/api/testing/data'\n",
        "  else:\n",
        "    url = 'https://ingestion.edgeimpulse.com/api/training/data'\n",
        "\n",
        "  # Upload the data to project\n",
        "  res = requests.post(url=url,\n",
        "                      data=encoded,\n",
        "                      headers={\n",
        "                          'Content-Type': 'application/json',\n",
        "                          'x-file-name': str(label),\n",
        "                          'x-api-key': EI_API_KEY\n",
        "                      })\n",
        "\n",
        "  return res\n"
      ],
      "metadata": {
        "id": "kYd89vW9EChd"
      },
      "execution_count": null,
      "outputs": []
    },
    {
      "cell_type": "code",
      "source": [
        "def upload_sample(len_vector, is_test_set):\n",
        "  \"\"\"\n",
        "  Pull sample and label from queue and send to Edge Impulse server. To be called within a thread.\n",
        "  \"\"\"\n",
        "\n",
        "  global q\n",
        "\n",
        "  while not q.empty():\n",
        "\n",
        "    # Start with empty JSON wrapper\n",
        "    data = create_json_wrapper()\n",
        "\n",
        "    # Fill up values field (we need to convert to float to avoid JSON error)\n",
        "    sample, label = q.get()\n",
        "    for j in range(len_vector):\n",
        "      data['payload']['values'].append(float(sample[j]))\n",
        "\n",
        "    # Send sample\n",
        "    res = send_sample(data, label, test_set=is_test_set)\n",
        "\n",
        "    # Check response code\n",
        "    if (res.status_code != 200):\n",
        "      print(\"Failed to upload file to Edge Impulse\", res.status_code, res.content)\n"
      ],
      "metadata": {
        "id": "vxEQ8pwsEGGp"
      },
      "execution_count": null,
      "outputs": []
    },
    {
      "cell_type": "code",
      "source": [
        "### Use many threads to send training data and labels to Edge Impulse project\n",
        "\n",
        "# Fill queue with training data and labels\n",
        "q = queue.Queue()\n",
        "for i in range(num_samples_train):\n",
        "  q.put((X_train[i], y_train[i]))\n",
        "\n",
        "# Create and start threads\n",
        "threads = []\n",
        "for i in range(NUM_THREADS):\n",
        "  threads.append(threading.Thread(target=upload_sample, args=(len_vector, False)))\n",
        "  threads[i].start()\n",
        "\n",
        "# Wait for threads to be done\n",
        "for thread in threads:\n",
        "  thread.join()"
      ],
      "metadata": {
        "id": "4lzbtcLXEJ01"
      },
      "execution_count": null,
      "outputs": []
    },
    {
      "cell_type": "code",
      "source": [
        "\n",
        "\n",
        "### Use many threads to send test data and labels to Edge Impulse project\n",
        "\n",
        "# Fill queue with test data and labels\n",
        "q = queue.Queue()\n",
        "for i in range(num_samples_test):\n",
        "  q.put((X_test[i], y_test[i]))\n",
        "\n",
        "# Create and start threads\n",
        "threads = []\n",
        "for i in range(NUM_THREADS):\n",
        "  threads.append(threading.Thread(target=upload_sample, args=(len_vector, True)))\n",
        "  threads[i].start()\n",
        "\n",
        "# Wait for threads to be done\n",
        "for thread in threads:\n",
        "  thread.join()\n",
        "\n"
      ],
      "metadata": {
        "id": "5fUyjRFwSq5x"
      },
      "execution_count": null,
      "outputs": []
    },
    {
      "cell_type": "code",
      "source": [],
      "metadata": {
        "id": "eKLF5JqTS_lr"
      },
      "execution_count": null,
      "outputs": []
    }
  ]
}