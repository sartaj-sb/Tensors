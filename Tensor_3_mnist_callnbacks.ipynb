{
  "nbformat": 4,
  "nbformat_minor": 0,
  "metadata": {
    "colab": {
      "provenance": [],
      "authorship_tag": "ABX9TyOI9JSUIA7lmEZlbHw88dHL",
      "include_colab_link": true
    },
    "kernelspec": {
      "name": "python3",
      "display_name": "Python 3"
    },
    "language_info": {
      "name": "python"
    }
  },
  "cells": [
    {
      "cell_type": "markdown",
      "metadata": {
        "id": "view-in-github",
        "colab_type": "text"
      },
      "source": [
        "<a href=\"https://colab.research.google.com/github/sartaj-sb/Tensors/blob/main/Tensor_3_mnist_callnbacks.ipynb\" target=\"_parent\"><img src=\"https://colab.research.google.com/assets/colab-badge.svg\" alt=\"Open In Colab\"/></a>"
      ]
    },
    {
      "cell_type": "code",
      "execution_count": 23,
      "metadata": {
        "id": "KIMlbhTCPajU"
      },
      "outputs": [],
      "source": [
        "# prompt: load the mnist dataset containing 60,000 images of 28,28 greyscale .\n",
        "\n",
        "import tensorflow as tf\n",
        "\n",
        "mnist = tf.keras.datasets.mnist\n",
        "(x_train, y_train), (x_test, y_test) = mnist.load_data()\n",
        "x_train, x_test = x_train / 255.0, x_test / 255.0\n"
      ]
    },
    {
      "cell_type": "code",
      "source": [
        "x_train.shape"
      ],
      "metadata": {
        "colab": {
          "base_uri": "https://localhost:8080/"
        },
        "id": "hUEI2KzlPklL",
        "outputId": "8a6856b4-d1f8-40b2-9999-ebdd700c7891"
      },
      "execution_count": 24,
      "outputs": [
        {
          "output_type": "execute_result",
          "data": {
            "text/plain": [
              "(60000, 28, 28)"
            ]
          },
          "metadata": {},
          "execution_count": 24
        }
      ]
    },
    {
      "cell_type": "code",
      "source": [
        "model  =  tf.keras.Sequential([\n",
        "    tf.keras.layers.Flatten(input_shape = (28,28)),\n",
        "    tf.keras.layers.Dense(128,activation = tf.nn.relu),\n",
        "    tf.keras.layers.Dense(10,activation = tf.nn.softmax)\n",
        "    ])"
      ],
      "metadata": {
        "id": "kUuRVtPhPtPP"
      },
      "execution_count": 25,
      "outputs": []
    },
    {
      "cell_type": "code",
      "source": [
        "\n",
        "# class myCallback (tf.keras.callbacks.Callback): ##callback class\n",
        "#   def on_epoch_end(self, epoch, logs = {}):\n",
        "#     if(logs.get('loss')<0.4):\n",
        "#       print(\"\\n Loss is low so cancelling training !\")\n",
        "#       self.model.stop_training = True"
      ],
      "metadata": {
        "id": "lPgBLgTPQOqq"
      },
      "execution_count": 14,
      "outputs": []
    },
    {
      "cell_type": "code",
      "source": [
        "# prompt: create a callback class with the name mycallback class to stop training when the accuracy value is higher than 0.95\n",
        "\n",
        "class myCallback(tf.keras.callbacks.Callback):\n",
        "  def on_epoch_end(self, epoch, logs={}):\n",
        "    if(logs.get('accuracy') > 0.1):\n",
        "      print(\"\\nReached 10% accuracy so cancelling training!\")\n",
        "      self.model.stop_training = True\n"
      ],
      "metadata": {
        "id": "TBbrVQquSfG7"
      },
      "execution_count": 27,
      "outputs": []
    },
    {
      "cell_type": "code",
      "source": [
        "callbacks = myCallback()\n"
      ],
      "metadata": {
        "id": "FqIcgiNVQ8Se"
      },
      "execution_count": 28,
      "outputs": []
    },
    {
      "cell_type": "code",
      "source": [
        "model.compile(optimizer = 'sgd',loss = 'mean_squared_error', metrics =['accuracy'])"
      ],
      "metadata": {
        "id": "D8zq2NBaRf81"
      },
      "execution_count": 29,
      "outputs": []
    },
    {
      "cell_type": "code",
      "source": [
        "model.fit(x_train,y_train,epochs = 1000, callbacks=[callbacks])"
      ],
      "metadata": {
        "colab": {
          "base_uri": "https://localhost:8080/"
        },
        "id": "bGtp5wzvRL-a",
        "outputId": "a4eaa938-9022-422c-9895-d3961fdae473"
      },
      "execution_count": 30,
      "outputs": [
        {
          "output_type": "stream",
          "name": "stdout",
          "text": [
            "Epoch 1/1000\n",
            "1875/1875 [==============================] - 5s 3ms/step - loss: 27.3055 - accuracy: 0.0897\n",
            "Epoch 2/1000\n",
            "1875/1875 [==============================] - 6s 3ms/step - loss: 27.3052 - accuracy: 0.0954\n",
            "Epoch 3/1000\n",
            "1872/1875 [============================>.] - ETA: 0s - loss: 27.3061 - accuracy: 0.1003\n",
            "Reached 10% accuracy so cancelling training!\n",
            "1875/1875 [==============================] - 5s 3ms/step - loss: 27.3050 - accuracy: 0.1003\n"
          ]
        },
        {
          "output_type": "execute_result",
          "data": {
            "text/plain": [
              "<keras.src.callbacks.History at 0x796c0b9862c0>"
            ]
          },
          "metadata": {},
          "execution_count": 30
        }
      ]
    },
    {
      "cell_type": "code",
      "source": [],
      "metadata": {
        "id": "XmGkTyloReEF"
      },
      "execution_count": null,
      "outputs": []
    }
  ]
}