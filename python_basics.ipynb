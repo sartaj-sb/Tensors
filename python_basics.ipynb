{
  "nbformat": 4,
  "nbformat_minor": 0,
  "metadata": {
    "colab": {
      "provenance": [],
      "authorship_tag": "ABX9TyP6uUPCZQ3WKxmV8KCgrsXc",
      "include_colab_link": true
    },
    "kernelspec": {
      "name": "python3",
      "display_name": "Python 3"
    },
    "language_info": {
      "name": "python"
    }
  },
  "cells": [
    {
      "cell_type": "markdown",
      "metadata": {
        "id": "view-in-github",
        "colab_type": "text"
      },
      "source": [
        "<a href=\"https://colab.research.google.com/github/sartaj-sb/Tensors/blob/main/python_basics.ipynb\" target=\"_parent\"><img src=\"https://colab.research.google.com/assets/colab-badge.svg\" alt=\"Open In Colab\"/></a>"
      ]
    },
    {
      "cell_type": "code",
      "execution_count": null,
      "metadata": {
        "id": "fAeRZkNBzP-A"
      },
      "outputs": [],
      "source": [
        "def sum_product(int_1,int_2=3):\n",
        "    sum_of_num = int_1+int_2\n",
        "    product = int_1 * int_2\n",
        "    return sum_of_num,product"
      ]
    },
    {
      "cell_type": "code",
      "source": [
        "z=sum_product(5,3)\n",
        "print(z)\n"
      ],
      "metadata": {
        "colab": {
          "base_uri": "https://localhost:8080/"
        },
        "id": "jT4PcrcszZFs",
        "outputId": "2fd92be0-e9a2-4c36-9461-3e1508eb2d64"
      },
      "execution_count": null,
      "outputs": [
        {
          "output_type": "stream",
          "name": "stdout",
          "text": [
            "(8, 15)\n"
          ]
        }
      ]
    },
    {
      "cell_type": "code",
      "source": [
        "e = sum_product(3)\n",
        "print(e)"
      ],
      "metadata": {
        "colab": {
          "base_uri": "https://localhost:8080/"
        },
        "id": "SuGjQK-Aztwr",
        "outputId": "98bbb11e-9a25-4f20-8654-7dab867f1098"
      },
      "execution_count": null,
      "outputs": [
        {
          "output_type": "stream",
          "name": "stdout",
          "text": [
            "(6, 9)\n"
          ]
        }
      ]
    },
    {
      "cell_type": "code",
      "source": [
        "def print_name(name,age=\"70\"):\n",
        "  return None"
      ],
      "metadata": {
        "id": "x1M8BDck24zR"
      },
      "execution_count": null,
      "outputs": []
    },
    {
      "cell_type": "code",
      "source": [
        "print(print_name(\"joseph\",23))"
      ],
      "metadata": {
        "colab": {
          "base_uri": "https://localhost:8080/"
        },
        "id": "d_WxY_6y3Qp-",
        "outputId": "b4935c61-1a96-465a-d9da-e00156cac56e"
      },
      "execution_count": null,
      "outputs": [
        {
          "output_type": "stream",
          "name": "stdout",
          "text": [
            "None\n"
          ]
        }
      ]
    },
    {
      "cell_type": "code",
      "source": [
        "class Dog:\n",
        "    def __init__(self, name, breed):\n",
        "        self.name = name\n",
        "        self.breed = breed\n",
        "\n",
        "    def bark(self):\n",
        "        return \"Woof!\"\n",
        "\n",
        "# Creating instances (objects) of the Dog class\n",
        "dog1 = Dog(\"Buddy\", \"Golden Retriever\")\n",
        "dog2 = Dog(\"Daisy\", \"Labrador\")\n",
        "\n",
        "# Accessing attributes and calling methods on objects\n",
        "print(f\"{dog1.name} is a {dog1.breed} and says {dog1.bark()}.\")\n",
        "print(f\"{dog2.name} is a {dog2.breed} and says {dog2.bark()}.\")\n"
      ],
      "metadata": {
        "id": "QtVokOi33VNR",
        "colab": {
          "base_uri": "https://localhost:8080/"
        },
        "outputId": "e6537ebb-69e2-42d0-ae26-f39852c63656"
      },
      "execution_count": 1,
      "outputs": [
        {
          "output_type": "stream",
          "name": "stdout",
          "text": [
            "Buddy is a Golden Retriever and says Woof!.\n",
            "Daisy is a Labrador and says Woof!.\n"
          ]
        }
      ]
    },
    {
      "cell_type": "code",
      "source": [
        "# attributes--variables\n",
        "# properties--methods"
      ],
      "metadata": {
        "id": "ssZ2kUaAIObB"
      },
      "execution_count": null,
      "outputs": []
    },
    {
      "cell_type": "code",
      "source": [
        "class Smile():\n",
        "  is_smile = True\n",
        "  face_color = 'white'\n",
        "  eye_color=\"white\"\n",
        "\n",
        "  def set_smile():\n",
        "    return None\n",
        "  def set_face_color():\n",
        "    return None\n",
        "  def set_eye_color(): #\n",
        "    return None"
      ],
      "metadata": {
        "id": "85ksUqBWIZfT"
      },
      "execution_count": 3,
      "outputs": []
    },
    {
      "cell_type": "code",
      "source": [
        "Smile()"
      ],
      "metadata": {
        "colab": {
          "base_uri": "https://localhost:8080/"
        },
        "id": "jYvbx9aEMEhU",
        "outputId": "41eabd64-cf32-484e-d9dc-19b7e85c95b0"
      },
      "execution_count": 4,
      "outputs": [
        {
          "output_type": "execute_result",
          "data": {
            "text/plain": [
              "<__main__.Smile at 0x7cfa54c00040>"
            ]
          },
          "metadata": {},
          "execution_count": 4
        }
      ]
    },
    {
      "cell_type": "code",
      "source": [
        "class Employee:\n",
        "  def __init__(self,first,last,pay):\n",
        "    self.first = first\n",
        "    self.last = last\n",
        "    self.pay = pay\n",
        "    self.email = first +'.'+ last + '@company.com'\n",
        "\n",
        "   def fullname(self):\n",
        "    return '{} {}'.format(self.fisrt,self.last)\n",
        "\n",
        "emp_1 = Employee('corey','ram',500)\n",
        "emp_2 = Employee('fogy','jim',700)\n",
        "print(emp_1)\n",
        "print(emp_2)"
      ],
      "metadata": {
        "colab": {
          "base_uri": "https://localhost:8080/"
        },
        "id": "ORLtL-bsMHm5",
        "outputId": "01cd4d58-54f3-42ea-a63b-faadd6e8be17"
      },
      "execution_count": 9,
      "outputs": [
        {
          "output_type": "stream",
          "name": "stdout",
          "text": [
            "<__main__.Employee object at 0x7cfa54c00dc0>\n",
            "<__main__.Employee object at 0x7cfa54c039a0>\n"
          ]
        }
      ]
    },
    {
      "cell_type": "code",
      "source": [],
      "metadata": {
        "colab": {
          "base_uri": "https://localhost:8080/"
        },
        "id": "Q-kFX3Fqkiom",
        "outputId": "145308f5-2376-447f-ead9-bf93bb8a2eb3"
      },
      "execution_count": 11,
      "outputs": [
        {
          "output_type": "stream",
          "name": "stdout",
          "text": [
            "corey.ram@company.com\n",
            "<__main__.Employee object at 0x7cfa54c039a0>\n"
          ]
        }
      ]
    },
    {
      "cell_type": "code",
      "source": [
        "print(emp_1.email)\n",
        "print(emp_2.email)"
      ],
      "metadata": {
        "colab": {
          "base_uri": "https://localhost:8080/"
        },
        "id": "a_Fc-kM1lLpH",
        "outputId": "8677b681-deb9-46d6-c5b2-46cafcafe210"
      },
      "execution_count": 12,
      "outputs": [
        {
          "output_type": "stream",
          "name": "stdout",
          "text": [
            "corey.ram@company.com\n",
            "fogy.jim@company.com\n"
          ]
        }
      ]
    },
    {
      "cell_type": "code",
      "source": [
        "print('{} {}'.format(emp_1.first, emp_1.last))\n"
      ],
      "metadata": {
        "colab": {
          "base_uri": "https://localhost:8080/"
        },
        "id": "P4FoqBhOlTNL",
        "outputId": "9cf41d9b-ea8d-466f-f892-4cb8f6f8433f"
      },
      "execution_count": 13,
      "outputs": [
        {
          "output_type": "stream",
          "name": "stdout",
          "text": [
            "corey ram\n"
          ]
        }
      ]
    },
    {
      "cell_type": "code",
      "source": [],
      "metadata": {
        "id": "oTIwtKKpsZdq"
      },
      "execution_count": null,
      "outputs": []
    }
  ]
}