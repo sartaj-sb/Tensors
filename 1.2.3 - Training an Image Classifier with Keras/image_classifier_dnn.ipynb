{
  "nbformat": 4,
  "nbformat_minor": 0,
  "metadata": {
    "colab": {
      "name": "image-classifier-dnn.ipynb",
      "provenance": []
    },
    "kernelspec": {
      "name": "python3",
      "display_name": "Python 3"
    },
    "language_info": {
      "name": "python"
    }
  },
  "cells": [
    {
      "cell_type": "markdown",
      "metadata": {
        "id": "PC2XM9ueyLhu"
      },
      "source": [
        "# Image Classification: Dense Neural Network\n",
        "\n",
        "[![Open In Colab <](https://colab.research.google.com/assets/colab-badge.svg)](https://colab.research.google.com/github/ShawnHymel/computer-vision-with-embedded-machine-learning/blob/master/1.2.3%20-%20Training%20an%20Image%20Classifier%20with%20Keras/image_classifier_dnn.ipynb)\n",
        "\n",
        "Run this notebook to train a dense neural network (DNN) on your own image dataset.\n",
        "\n",
        "Based on: https://colab.research.google.com/github/AviatorMoser/keras-mnist-tutorial/blob/master/MNIST%20in%20Keras.ipynb#scrollTo=rFFriuVPwhAm\n",
        "\n",
        "(I recommend working through the example above, as it has a lot of good descriptions on doing classification with images)\n",
        "\n",
        "Create a folder named \"dataset\" in the /content directory and upload your images there. The images should be divided into their respective classes, where each class has its own folder with the name of the class. For example:\n",
        "\n",
        "<pre>\n",
        "/content\n",
        "    |- dataset\n",
        "        |- background\n",
        "        |- capacitor\n",
        "        |- diode\n",
        "        |- led\n",
        "        |- resistor\n",
        "</pre>\n",
        "\n",
        "Author: EdgeImpulse, Inc.<br>\n",
        "Date: June 5, 2021<br>\n",
        "License: [Apache-2.0](apache.org/licenses/LICENSE-2.0)<br>"
      ]
    },
    {
      "cell_type": "code",
      "metadata": {
        "id": "jhHG2__GyJjs"
      },
      "source": [
        "import numpy as np\n",
        "import matplotlib.pyplot as plt\n",
        "import random\n",
        "import os\n",
        "import PIL\n",
        "\n",
        "from keras import utils                                   # tools for creating one-hot encoding\n",
        "from keras.models import Sequential                       # Type of model we wish to use\n",
        "from keras.layers import Dense, Dropout, Activation       # Types of layers we wish to use\n",
        "\n",
        "from skimage.transform import resize                      # Used to scale/resize image arrays\n",
        "\n",
        "from sklearn.metrics import confusion_matrix              # Used to quickly make confusion matrix"
      ],
      "execution_count": 1,
      "outputs": []
    },
    {
      "cell_type": "code",
      "metadata": {
        "id": "wu2l_Lm0yhtJ"
      },
      "source": [
        "### Settings\n",
        "\n",
        "# Location of dataset\n",
        "DATASET_PATH = \"/content/dataset\"\n",
        "\n",
        "# Desired resolution of images\n",
        "TARGET_WIDTH = 28\n",
        "TARGET_HEIGHT = 28\n",
        "\n",
        "# Invert image (dark backgrounds can sometimes improve accuracy)\n",
        "INVERT = False\n",
        "\n",
        "# Set aside 20% for validation and 20% for test\n",
        "VAL_RATIO = 0.2\n",
        "TEST_RATIO = 0.2\n",
        "\n",
        "# You are welcome to change the seed to try a different validation set split\n",
        "random.seed(42)"
      ],
      "execution_count": 2,
      "outputs": []
    },
    {
      "cell_type": "code",
      "metadata": {
        "colab": {
          "base_uri": "https://localhost:8080/"
        },
        "id": "FXcJLxcv0yOT",
        "outputId": "a6f25bc7-5b8d-4bdc-c6be-d8bc6c4a90e5"
      },
      "source": [
        "### Load images as Numpy arrays\n",
        "\n",
        "# We want to record the labels and assign a ground truth label as a number to each sample\n",
        "labels = []\n",
        "y_all = []    # Lowercase 'y' - 1D vector of the ground labels (n)\n",
        "X_all = []    # Uppercase 'X' - 3D array of all image samples (n x width x height)\n",
        "\n",
        "# Find the directories in the dataset folder (skip the Jupyter Notebook checkpoints hidden folder)\n",
        "for label in os.listdir(DATASET_PATH):\n",
        "  class_dir = os.path.join(DATASET_PATH, label)\n",
        "  if os.path.isdir(class_dir) and label != \".ipynb_checkpoints\":\n",
        "\n",
        "    # Add the name of the folder to our labels list\n",
        "    labels.append(label)\n",
        "\n",
        "    # Go through each image in the folder\n",
        "    for i, file in enumerate(os.listdir(class_dir)):\n",
        "\n",
        "      # Skip the Jupyter Notebook checkpoints folder that sometimes gets added\n",
        "      if file != \".ipynb_checkpoints\":\n",
        "\n",
        "        # Open image and convert to grayscale\n",
        "        file_path = os.path.join(class_dir, file)\n",
        "        img = PIL.Image.open(file_path).convert('L')\n",
        "\n",
        "        # Convert the image to a Numpy array, optionally invern, and append to X\n",
        "        img_array = np.asarray(img)\n",
        "        if INVERT:\n",
        "          img_array = 255 - img_array\n",
        "        X_all.append(img_array)\n",
        "\n",
        "        # Add label to the y array\n",
        "        y_all.append(label)\n",
        "\n",
        "    # Show how many images we loaded\n",
        "    print(\"Added\", str(i + 1), \"images from\", label)\n",
        "\n",
        "# Calculate total number of samples\n",
        "num_samples = len(X_all)\n",
        "\n",
        "# Sort the labels list by alphabetical order\n",
        "labels = sorted(labels)\n",
        "\n",
        "# Print out labels and number of samples\n",
        "print(labels)\n",
        "print(\"Number of samples:\", num_samples)"
      ],
      "execution_count": 3,
      "outputs": [
        {
          "output_type": "stream",
          "name": "stdout",
          "text": [
            "Added 50 images from led\n",
            "Added 50 images from resistor\n",
            "Added 50 images from background\n",
            "Added 50 images from capacitor\n",
            "Added 50 images from diode\n",
            "['background', 'capacitor', 'diode', 'led', 'resistor']\n",
            "Number of samples: 250\n"
          ]
        }
      ]
    },
    {
      "cell_type": "code",
      "metadata": {
        "colab": {
          "base_uri": "https://localhost:8080/"
        },
        "id": "_ux1q5Z_nFq0",
        "outputId": "5a78f343-0607-4cef-fd07-e0bc2a2b8241"
      },
      "source": [
        "### Convert labels to numbers\n",
        "\n",
        "# Show the labels before the conversion\n",
        "print(\"Before:\", y_all)\n",
        "\n",
        "# Convert each label to its index in the labels\n",
        "y_out = []\n",
        "for i, label in enumerate(y_all):\n",
        "  y_out.append(labels.index(label))\n",
        "y_all = y_out\n",
        "\n",
        "# Show the labels after the conversion\n",
        "print(\"After:\", y_all)"
      ],
      "execution_count": 4,
      "outputs": [
        {
          "output_type": "stream",
          "name": "stdout",
          "text": [
            "Before: ['led', 'led', 'led', 'led', 'led', 'led', 'led', 'led', 'led', 'led', 'led', 'led', 'led', 'led', 'led', 'led', 'led', 'led', 'led', 'led', 'led', 'led', 'led', 'led', 'led', 'led', 'led', 'led', 'led', 'led', 'led', 'led', 'led', 'led', 'led', 'led', 'led', 'led', 'led', 'led', 'led', 'led', 'led', 'led', 'led', 'led', 'led', 'led', 'led', 'led', 'resistor', 'resistor', 'resistor', 'resistor', 'resistor', 'resistor', 'resistor', 'resistor', 'resistor', 'resistor', 'resistor', 'resistor', 'resistor', 'resistor', 'resistor', 'resistor', 'resistor', 'resistor', 'resistor', 'resistor', 'resistor', 'resistor', 'resistor', 'resistor', 'resistor', 'resistor', 'resistor', 'resistor', 'resistor', 'resistor', 'resistor', 'resistor', 'resistor', 'resistor', 'resistor', 'resistor', 'resistor', 'resistor', 'resistor', 'resistor', 'resistor', 'resistor', 'resistor', 'resistor', 'resistor', 'resistor', 'resistor', 'resistor', 'resistor', 'resistor', 'background', 'background', 'background', 'background', 'background', 'background', 'background', 'background', 'background', 'background', 'background', 'background', 'background', 'background', 'background', 'background', 'background', 'background', 'background', 'background', 'background', 'background', 'background', 'background', 'background', 'background', 'background', 'background', 'background', 'background', 'background', 'background', 'background', 'background', 'background', 'background', 'background', 'background', 'background', 'background', 'background', 'background', 'background', 'background', 'background', 'background', 'background', 'background', 'background', 'background', 'capacitor', 'capacitor', 'capacitor', 'capacitor', 'capacitor', 'capacitor', 'capacitor', 'capacitor', 'capacitor', 'capacitor', 'capacitor', 'capacitor', 'capacitor', 'capacitor', 'capacitor', 'capacitor', 'capacitor', 'capacitor', 'capacitor', 'capacitor', 'capacitor', 'capacitor', 'capacitor', 'capacitor', 'capacitor', 'capacitor', 'capacitor', 'capacitor', 'capacitor', 'capacitor', 'capacitor', 'capacitor', 'capacitor', 'capacitor', 'capacitor', 'capacitor', 'capacitor', 'capacitor', 'capacitor', 'capacitor', 'capacitor', 'capacitor', 'capacitor', 'capacitor', 'capacitor', 'capacitor', 'capacitor', 'capacitor', 'capacitor', 'capacitor', 'diode', 'diode', 'diode', 'diode', 'diode', 'diode', 'diode', 'diode', 'diode', 'diode', 'diode', 'diode', 'diode', 'diode', 'diode', 'diode', 'diode', 'diode', 'diode', 'diode', 'diode', 'diode', 'diode', 'diode', 'diode', 'diode', 'diode', 'diode', 'diode', 'diode', 'diode', 'diode', 'diode', 'diode', 'diode', 'diode', 'diode', 'diode', 'diode', 'diode', 'diode', 'diode', 'diode', 'diode', 'diode', 'diode', 'diode', 'diode', 'diode', 'diode']\n",
            "After: [3, 3, 3, 3, 3, 3, 3, 3, 3, 3, 3, 3, 3, 3, 3, 3, 3, 3, 3, 3, 3, 3, 3, 3, 3, 3, 3, 3, 3, 3, 3, 3, 3, 3, 3, 3, 3, 3, 3, 3, 3, 3, 3, 3, 3, 3, 3, 3, 3, 3, 4, 4, 4, 4, 4, 4, 4, 4, 4, 4, 4, 4, 4, 4, 4, 4, 4, 4, 4, 4, 4, 4, 4, 4, 4, 4, 4, 4, 4, 4, 4, 4, 4, 4, 4, 4, 4, 4, 4, 4, 4, 4, 4, 4, 4, 4, 4, 4, 4, 4, 0, 0, 0, 0, 0, 0, 0, 0, 0, 0, 0, 0, 0, 0, 0, 0, 0, 0, 0, 0, 0, 0, 0, 0, 0, 0, 0, 0, 0, 0, 0, 0, 0, 0, 0, 0, 0, 0, 0, 0, 0, 0, 0, 0, 0, 0, 0, 0, 0, 0, 1, 1, 1, 1, 1, 1, 1, 1, 1, 1, 1, 1, 1, 1, 1, 1, 1, 1, 1, 1, 1, 1, 1, 1, 1, 1, 1, 1, 1, 1, 1, 1, 1, 1, 1, 1, 1, 1, 1, 1, 1, 1, 1, 1, 1, 1, 1, 1, 1, 1, 2, 2, 2, 2, 2, 2, 2, 2, 2, 2, 2, 2, 2, 2, 2, 2, 2, 2, 2, 2, 2, 2, 2, 2, 2, 2, 2, 2, 2, 2, 2, 2, 2, 2, 2, 2, 2, 2, 2, 2, 2, 2, 2, 2, 2, 2, 2, 2, 2, 2]\n"
          ]
        }
      ]
    },
    {
      "cell_type": "code",
      "metadata": {
        "colab": {
          "base_uri": "https://localhost:8080/"
        },
        "id": "oJrS0Oz31NkI",
        "outputId": "5d01ccea-deec-4c9a-8ff4-50067f536942"
      },
      "source": [
        "### Shuffle samples and labels together, divide into test, validation, and training sets\n",
        "\n",
        "# Shuffle samples and associated labels together\n",
        "X_y = list(zip(X_all, y_all))\n",
        "random.shuffle(X_y)\n",
        "X_all, y_all = zip(*X_y)\n",
        "\n",
        "# Calculate number of validation and test samples to put aside (round down)\n",
        "num_samples_test = int(TEST_RATIO * num_samples)\n",
        "num_samples_val = int(VAL_RATIO * num_samples)\n",
        "\n",
        "# The first `num_samples_test` samples of the shuffled list becomes the test set\n",
        "X_test = X_all[:num_samples_test]\n",
        "y_test = y_all[:num_samples_test]\n",
        "\n",
        "# The next `num_samples_val` samples of the shuffled list becomes the validation set\n",
        "X_val = X_all[num_samples_test:(num_samples_test + num_samples_val)]\n",
        "y_val = y_all[num_samples_test:(num_samples_test + num_samples_val)]\n",
        "\n",
        "# The remaining samples become the training set\n",
        "X_train = X_all[(num_samples_test + num_samples_val):]\n",
        "y_train = y_all[(num_samples_test + num_samples_val):]\n",
        "\n",
        "# Remember the number of samples in the test set\n",
        "num_samples_train = len(X_train)\n",
        "\n",
        "# Print out the number of test, validation, and training samples\n",
        "print(\"Number of test samples:\", num_samples_test)\n",
        "print(\"Number of validation samples:\", num_samples_val)\n",
        "print(\"Number of training samples:\", num_samples_train)"
      ],
      "execution_count": 5,
      "outputs": [
        {
          "output_type": "stream",
          "name": "stdout",
          "text": [
            "Number of test samples: 50\n",
            "Number of validation samples: 50\n",
            "Number of training samples: 150\n"
          ]
        }
      ]
    },
    {
      "cell_type": "code",
      "metadata": {
        "colab": {
          "base_uri": "https://localhost:8080/",
          "height": 592
        },
        "id": "6FwDtw_DazYG",
        "outputId": "1b89e244-5f8c-4290-cfad-c8a153c10dbc"
      },
      "source": [
        "### View one of the training samples\n",
        "\n",
        "# Chose which sample you want to view\n",
        "idx = 126\n",
        "# Print out label (numbe and string) and part of the array\n",
        "print(\"Label: \" + str(y_train[idx]) + \" (\" + labels[y_train[idx]] + \")\")\n",
        "print(X_train[idx])\n",
        "\n",
        "# Display image from array\n",
        "plt.imshow(X_train[idx], cmap='gray', vmin=0, vmax=255)"
      ],
      "execution_count": 9,
      "outputs": [
        {
          "output_type": "stream",
          "name": "stdout",
          "text": [
            "Label: 1 (capacitor)\n",
            "[[158 158 158 ... 163 163 163]\n",
            " [158 158 158 ... 163 163 163]\n",
            " [158 158 157 ... 163 164 163]\n",
            " ...\n",
            " [141 141 141 ... 127 125 127]\n",
            " [141 141 141 ... 125 125 125]\n",
            " [141 141 141 ... 122 125 125]]\n"
          ]
        },
        {
          "output_type": "execute_result",
          "data": {
            "text/plain": [
              "<matplotlib.image.AxesImage at 0x794f7a6abd90>"
            ]
          },
          "metadata": {},
          "execution_count": 9
        },
        {
          "output_type": "display_data",
          "data": {
            "text/plain": [
              "<Figure size 640x480 with 1 Axes>"
            ],
            "image/png": "[encoded data removed]"
          },
          "metadata": {}
        }
      ]
    },
    {
      "cell_type": "code",
      "metadata": {
        "id": "7eVgRZnHc6_y"
      },
      "source": [
        "### Function to resize list of images\n",
        "def resize_images(images, width, height, anti_aliasing=True):\n",
        "  \"\"\"\n",
        "  Prove a list of Numpy arrays (in images parameter) to have them all resized to desired height and\n",
        "  width. Returns the list of newly resized image arrays.\n",
        "\n",
        "  NOTE: skimage resize returns *normalized* image arrays (values between 0..1)\n",
        "  \"\"\"\n",
        "  X_out = []\n",
        "  for i, img in enumerate(images):\n",
        "    X_out.append(resize(img, (height, width), anti_aliasing=anti_aliasing))\n",
        "  return X_out"
      ],
      "execution_count": 10,
      "outputs": []
    },
    {
      "cell_type": "code",
      "metadata": {
        "id": "YNpuq5Lxa9Ck"
      },
      "source": [
        "### Scale/crop images\n",
        "\n",
        "# Resize (scale) all images in the training set\n",
        "X_train = resize_images(X_train, TARGET_WIDTH, TARGET_HEIGHT)\n",
        "\n",
        "# Resize (scale) all images in the validation set\n",
        "X_val = resize_images(X_val, TARGET_WIDTH, TARGET_HEIGHT)\n",
        "\n",
        "# Resize (scale) all images in the test set\n",
        "X_test = resize_images(X_test, TARGET_WIDTH, TARGET_HEIGHT)"
      ],
      "execution_count": 11,
      "outputs": []
    },
    {
      "cell_type": "code",
      "metadata": {
        "colab": {
          "base_uri": "https://localhost:8080/",
          "height": 554
        },
        "id": "tL9W4Pw1cVon",
        "outputId": "d54b6940-a0f8-4a68-9885-9ee0a2862f98"
      },
      "source": [
        "### View training sample again (after they all have been scaled)\n",
        "\n",
        "# Chose which sample you want to view\n",
        "idx = 126\n",
        "\n",
        "# Print out label (numbe and string) and part of the array\n",
        "print(\"Label: \" + str(y_train[idx]) + \" (\" + labels[y_train[idx]] + \")\")\n",
        "print(\"First row:\", X_train[idx][:1,:])\n",
        "\n",
        "# Display image from array (note that images have been normalized)\n",
        "plt.imshow(X_train[idx], cmap='gray', vmin=0, vmax=1)"
      ],
      "execution_count": 13,
      "outputs": [
        {
          "output_type": "stream",
          "name": "stdout",
          "text": [
            "Label: 1 (capacitor)\n",
            "First row: [[0.61862823 0.61923225 0.61959399 0.61792674 0.61938898 0.62103013\n",
            "  0.61896471 0.62685502 0.63789654 0.63893144 0.63890209 0.63626684\n",
            "  0.63846656 0.63921597 0.63970105 0.64052488 0.6395589  0.63961204\n",
            "  0.63975363 0.63922602 0.63921574 0.63925255 0.6400998  0.63942957\n",
            "  0.63845489 0.63921153 0.6392225  0.63961138]]\n"
          ]
        },
        {
          "output_type": "execute_result",
          "data": {
            "text/plain": [
              "<matplotlib.image.AxesImage at 0x794f7a5b07c0>"
            ]
          },
          "metadata": {},
          "execution_count": 13
        },
        {
          "output_type": "display_data",
          "data": {
            "text/plain": [
              "<Figure size 640x480 with 1 Axes>"
            ],
            "image/png": "[encoded data removed]"
          },
          "metadata": {}
        }
      ]
    },
    {
      "cell_type": "code",
      "metadata": {
        "colab": {
          "base_uri": "https://localhost:8080/"
        },
        "id": "E13XUha044fM",
        "outputId": "64634f23-459d-4546-c717-abc87d115024"
      },
      "source": [
        "### Convert list of samples and labels into Numpy arrays\n",
        "\n",
        "# Training set\n",
        "X_train = np.asarray(X_train)\n",
        "y_train = np.asarray(y_train)\n",
        "\n",
        "# Validation set\n",
        "X_val = np.asarray(X_val)\n",
        "y_val = np.asarray(y_val)\n",
        "\n",
        "# Test set\n",
        "X_test = np.asarray(X_test)\n",
        "y_test = np.asarray(y_test)\n",
        "\n",
        "# Print out the new Numpy array shapes (always a good idea to check the shapes!)\n",
        "print(\"Training X:\", X_train.shape)\n",
        "print(\"Training y:\", y_train.shape)\n",
        "print(\"Validation X:\", X_val.shape)\n",
        "print(\"Validation y:\", y_val.shape)\n",
        "print(\"Test X:\", X_test.shape)\n",
        "print(\"Test y:\", y_test.shape)"
      ],
      "execution_count": 14,
      "outputs": [
        {
          "output_type": "stream",
          "name": "stdout",
          "text": [
            "Training X: (150, 28, 28)\n",
            "Training y: (150,)\n",
            "Validation X: (50, 28, 28)\n",
            "Validation y: (50,)\n",
            "Test X: (50, 28, 28)\n",
            "Test y: (50,)\n"
          ]
        }
      ]
    },
    {
      "cell_type": "code",
      "metadata": {
        "id": "Bf-p0MnJ9csm",
        "colab": {
          "base_uri": "https://localhost:8080/"
        },
        "outputId": "7d9daee2-6eff-451a-a078-bc1e7ebf4134"
      },
      "source": [
        "### Flatten each image to a 1D vector (DNN requires 1D input)\n",
        "\n",
        "# Compute length of 1D array that we will flatten each image to\n",
        "len_vector = TARGET_WIDTH * TARGET_WIDTH\n",
        "\n",
        "# Flatten matricies to vectors\n",
        "X_train = X_train.reshape(num_samples_train, len_vector)\n",
        "X_val = X_val.reshape(num_samples_val, len_vector)\n",
        "X_test = X_test.reshape(num_samples_test, len_vector)\n",
        "\n",
        "# Determine the input shape for our Keras model (must be tuple)\n",
        "input_shape = (X_train.shape[1],)\n",
        "\n",
        "# Print out shapes\n",
        "print(\"X train:\", X_train.shape)\n",
        "print(\"y train:\", y_train.shape)\n",
        "print(\"X val:\", X_val.shape)\n",
        "print(\"y val:\", y_val.shape)\n",
        "print(\"X test:\", X_test.shape)\n",
        "print(\"y test:\", y_test.shape)\n",
        "print(\"Input tensor shape:\", input_shape)"
      ],
      "execution_count": 15,
      "outputs": [
        {
          "output_type": "stream",
          "name": "stdout",
          "text": [
            "X train: (150, 784)\n",
            "y train: (150,)\n",
            "X val: (50, 784)\n",
            "y val: (50,)\n",
            "X test: (50, 784)\n",
            "y test: (50,)\n",
            "Input tensor shape: (784,)\n"
          ]
        }
      ]
    },
    {
      "cell_type": "code",
      "metadata": {
        "id": "m2D1xsis98pW",
        "colab": {
          "base_uri": "https://localhost:8080/"
        },
        "outputId": "cbedc5b5-5e04-426b-d861-3e2bc86f56e2"
      },
      "source": [
        "### Convert labels (integers) to one-hot encoding\n",
        "\n",
        "# Get number of classes\n",
        "num_classes = len(labels)\n",
        "\n",
        "# Use Keras's np_utils to create one-hot encoding (note the capital 'Y' - 2D array)\n",
        "Y_train = utils.to_categorical(y_train, num_classes)\n",
        "Y_val = utils.to_categorical(y_val, num_classes)\n",
        "Y_test = utils.to_categorical(y_test, num_classes)\n",
        "\n",
        "# Print out shapes (capital 'Y' is our one-hot matrix!)\n",
        "print(\"Y train:\", Y_train.shape)\n",
        "print(\"Y val:\", Y_val.shape)\n",
        "print(\"Y test:\", Y_test.shape)\n",
        "\n",
        "# Print out a few examples from training set\n",
        "for i in range(10):\n",
        "  print(\"Label: \" + str(y_train[i]) + \" | One-hot:\", Y_train[i])"
      ],
      "execution_count": 16,
      "outputs": [
        {
          "output_type": "stream",
          "name": "stdout",
          "text": [
            "Y train: (150, 5)\n",
            "Y val: (50, 5)\n",
            "Y test: (50, 5)\n",
            "Label: 0 | One-hot: [1. 0. 0. 0. 0.]\n",
            "Label: 0 | One-hot: [1. 0. 0. 0. 0.]\n",
            "Label: 2 | One-hot: [0. 0. 1. 0. 0.]\n",
            "Label: 2 | One-hot: [0. 0. 1. 0. 0.]\n",
            "Label: 2 | One-hot: [0. 0. 1. 0. 0.]\n",
            "Label: 3 | One-hot: [0. 0. 0. 1. 0.]\n",
            "Label: 0 | One-hot: [1. 0. 0. 0. 0.]\n",
            "Label: 1 | One-hot: [0. 1. 0. 0. 0.]\n",
            "Label: 0 | One-hot: [1. 0. 0. 0. 0.]\n",
            "Label: 3 | One-hot: [0. 0. 0. 1. 0.]\n"
          ]
        }
      ]
    },
    {
      "cell_type": "code",
      "metadata": {
        "id": "uJK-b2ds94w4",
        "colab": {
          "base_uri": "https://localhost:8080/"
        },
        "outputId": "e4f5ea97-0a46-4ed6-aa6b-7923a8553bad"
      },
      "source": [
        "### Construct Keras model\n",
        "\n",
        "# A sequential model is a linear stack of layers\n",
        "model = Sequential()\n",
        "\n",
        "# First layer: fully-connected with relu activation\n",
        "model.add(Dense(64, input_shape=input_shape))\n",
        "model.add(Activation('relu'))\n",
        "model.add(Dropout(0.25))\n",
        "\n",
        "# Second layer: fully-connected with relu activation\n",
        "model.add(Dense(64))   # Input shape is determined automatically from previous layer\n",
        "model.add(Activation('relu'))\n",
        "model.add(Dropout(0.25))\n",
        "\n",
        "# Third layer: 5 nodes, one for each class, and softmax activation\n",
        "model.add(Dense(num_classes))\n",
        "model.add(Activation('softmax'))\n",
        "\n",
        "# Configure the model's training settings\n",
        "model.compile(loss='categorical_crossentropy', optimizer='adam', metrics=['acc'])\n",
        "\n",
        "# Print out model summary\n",
        "print(model.summary())"
      ],
      "execution_count": 18,
      "outputs": [
        {
          "output_type": "stream",
          "name": "stdout",
          "text": [
            "Model: \"sequential_1\"\n",
            "_________________________________________________________________\n",
            " Layer (type)                Output Shape              Param #   \n",
            "=================================================================\n",
            " dense_3 (Dense)             (None, 64)                50240     \n",
            "                                                                 \n",
            " activation_3 (Activation)   (None, 64)                0         \n",
            "                                                                 \n",
            " dropout_2 (Dropout)         (None, 64)                0         \n",
            "                                                                 \n",
            " dense_4 (Dense)             (None, 64)                4160      \n",
            "                                                                 \n",
            " activation_4 (Activation)   (None, 64)                0         \n",
            "                                                                 \n",
            " dropout_3 (Dropout)         (None, 64)                0         \n",
            "                                                                 \n",
            " dense_5 (Dense)             (None, 5)                 325       \n",
            "                                                                 \n",
            " activation_5 (Activation)   (None, 5)                 0         \n",
            "                                                                 \n",
            "=================================================================\n",
            "Total params: 54725 (213.77 KB)\n",
            "Trainable params: 54725 (213.77 KB)\n",
            "Non-trainable params: 0 (0.00 Byte)\n",
            "_________________________________________________________________\n",
            "None\n"
          ]
        }
      ]
    },
    {
      "cell_type": "code",
      "metadata": {
        "colab": {
          "base_uri": "https://localhost:8080/"
        },
        "id": "4Rc0O_86pmwb",
        "outputId": "05b39b33-fd16-47e4-d03e-8b2454360f47"
      },
      "source": [
        "### Train the model\n",
        "history = model.fit(X_train,\n",
        "                    Y_train,\n",
        "                    batch_size=32,\n",
        "                    epochs=200,\n",
        "                    verbose=1,\n",
        "                    validation_data=(X_val, Y_val))"
      ],
      "execution_count": 19,
      "outputs": [
        {
          "output_type": "stream",
          "name": "stdout",
          "text": [
            "Epoch 1/200\n",
            "5/5 [==============================] - 1s 38ms/step - loss: 1.6498 - acc: 0.2267 - val_loss: 1.5830 - val_acc: 0.2400\n",
            "Epoch 2/200\n",
            "5/5 [==============================] - 0s 6ms/step - loss: 1.6261 - acc: 0.1533 - val_loss: 1.5438 - val_acc: 0.2600\n",
            "Epoch 3/200\n",
            "5/5 [==============================] - 0s 8ms/step - loss: 1.5749 - acc: 0.2867 - val_loss: 1.5459 - val_acc: 0.3400\n",
            "Epoch 4/200\n",
            "5/5 [==============================] - 0s 7ms/step - loss: 1.5326 - acc: 0.2933 - val_loss: 1.4531 - val_acc: 0.6000\n",
            "Epoch 5/200\n",
            "5/5 [==============================] - 0s 7ms/step - loss: 1.4807 - acc: 0.3267 - val_loss: 1.3870 - val_acc: 0.7600\n",
            "Epoch 6/200\n",
            "5/5 [==============================] - 0s 14ms/step - loss: 1.4006 - acc: 0.4667 - val_loss: 1.3406 - val_acc: 0.9000\n",
            "Epoch 7/200\n",
            "5/5 [==============================] - 0s 11ms/step - loss: 1.3940 - acc: 0.4400 - val_loss: 1.3000 - val_acc: 0.6800\n",
            "Epoch 8/200\n",
            "5/5 [==============================] - 0s 15ms/step - loss: 1.2651 - acc: 0.5533 - val_loss: 1.1986 - val_acc: 0.6800\n",
            "Epoch 9/200\n",
            "5/5 [==============================] - 0s 14ms/step - loss: 1.2393 - acc: 0.5667 - val_loss: 1.1448 - val_acc: 0.7600\n",
            "Epoch 10/200\n",
            "5/5 [==============================] - 0s 8ms/step - loss: 1.1834 - acc: 0.5600 - val_loss: 1.1120 - val_acc: 0.7800\n",
            "Epoch 11/200\n",
            "5/5 [==============================] - 0s 10ms/step - loss: 1.1170 - acc: 0.6533 - val_loss: 1.0279 - val_acc: 0.8400\n",
            "Epoch 12/200\n",
            "5/5 [==============================] - 0s 8ms/step - loss: 1.0532 - acc: 0.6333 - val_loss: 0.9506 - val_acc: 0.8800\n",
            "Epoch 13/200\n",
            "5/5 [==============================] - 0s 8ms/step - loss: 1.0619 - acc: 0.6133 - val_loss: 0.9273 - val_acc: 0.9000\n",
            "Epoch 14/200\n",
            "5/5 [==============================] - 0s 8ms/step - loss: 0.9962 - acc: 0.7000 - val_loss: 0.8951 - val_acc: 0.8000\n",
            "Epoch 15/200\n",
            "5/5 [==============================] - 0s 10ms/step - loss: 0.9602 - acc: 0.6867 - val_loss: 0.8345 - val_acc: 0.7600\n",
            "Epoch 16/200\n",
            "5/5 [==============================] - 0s 11ms/step - loss: 0.8352 - acc: 0.7400 - val_loss: 0.7576 - val_acc: 0.9000\n",
            "Epoch 17/200\n",
            "5/5 [==============================] - 0s 17ms/step - loss: 0.7867 - acc: 0.7267 - val_loss: 0.6950 - val_acc: 0.9000\n",
            "Epoch 18/200\n",
            "5/5 [==============================] - 0s 10ms/step - loss: 0.7640 - acc: 0.7067 - val_loss: 0.6815 - val_acc: 0.9000\n",
            "Epoch 19/200\n",
            "5/5 [==============================] - 0s 10ms/step - loss: 0.7311 - acc: 0.7533 - val_loss: 0.6501 - val_acc: 0.9000\n",
            "Epoch 20/200\n",
            "5/5 [==============================] - 0s 14ms/step - loss: 0.7732 - acc: 0.7333 - val_loss: 0.6235 - val_acc: 0.8400\n",
            "Epoch 21/200\n",
            "5/5 [==============================] - 0s 9ms/step - loss: 0.7137 - acc: 0.7267 - val_loss: 0.6307 - val_acc: 0.8800\n",
            "Epoch 22/200\n",
            "5/5 [==============================] - 0s 10ms/step - loss: 0.6515 - acc: 0.7933 - val_loss: 0.5760 - val_acc: 0.8200\n",
            "Epoch 23/200\n",
            "5/5 [==============================] - 0s 11ms/step - loss: 0.6903 - acc: 0.7467 - val_loss: 0.6358 - val_acc: 0.8600\n",
            "Epoch 24/200\n",
            "5/5 [==============================] - 0s 10ms/step - loss: 0.6772 - acc: 0.7467 - val_loss: 0.5755 - val_acc: 0.8800\n",
            "Epoch 25/200\n",
            "5/5 [==============================] - 0s 10ms/step - loss: 0.6249 - acc: 0.7533 - val_loss: 0.5341 - val_acc: 0.8600\n",
            "Epoch 26/200\n",
            "5/5 [==============================] - 0s 15ms/step - loss: 0.6102 - acc: 0.8000 - val_loss: 0.5073 - val_acc: 0.8800\n",
            "Epoch 27/200\n",
            "5/5 [==============================] - 0s 8ms/step - loss: 0.5979 - acc: 0.7600 - val_loss: 0.5099 - val_acc: 0.9000\n",
            "Epoch 28/200\n",
            "5/5 [==============================] - 0s 8ms/step - loss: 0.6099 - acc: 0.7267 - val_loss: 0.4917 - val_acc: 0.9000\n",
            "Epoch 29/200\n",
            "5/5 [==============================] - 0s 8ms/step - loss: 0.5985 - acc: 0.7867 - val_loss: 0.5134 - val_acc: 0.8800\n",
            "Epoch 30/200\n",
            "5/5 [==============================] - 0s 14ms/step - loss: 0.4990 - acc: 0.8000 - val_loss: 0.4663 - val_acc: 0.9200\n",
            "Epoch 31/200\n",
            "5/5 [==============================] - 0s 9ms/step - loss: 0.5624 - acc: 0.7800 - val_loss: 0.4679 - val_acc: 0.9200\n",
            "Epoch 32/200\n",
            "5/5 [==============================] - 0s 13ms/step - loss: 0.5140 - acc: 0.8267 - val_loss: 0.4941 - val_acc: 0.9000\n",
            "Epoch 33/200\n",
            "5/5 [==============================] - 0s 10ms/step - loss: 0.4939 - acc: 0.8267 - val_loss: 0.4404 - val_acc: 0.9000\n",
            "Epoch 34/200\n",
            "5/5 [==============================] - 0s 51ms/step - loss: 0.4947 - acc: 0.7800 - val_loss: 0.4483 - val_acc: 0.9000\n",
            "Epoch 35/200\n",
            "5/5 [==============================] - 0s 40ms/step - loss: 0.5289 - acc: 0.7800 - val_loss: 0.4442 - val_acc: 0.9200\n",
            "Epoch 36/200\n",
            "5/5 [==============================] - 0s 19ms/step - loss: 0.4531 - acc: 0.8467 - val_loss: 0.4206 - val_acc: 0.9400\n",
            "Epoch 37/200\n",
            "5/5 [==============================] - 0s 9ms/step - loss: 0.4945 - acc: 0.8200 - val_loss: 0.4704 - val_acc: 0.8600\n",
            "Epoch 38/200\n",
            "5/5 [==============================] - 0s 7ms/step - loss: 0.4799 - acc: 0.8200 - val_loss: 0.4512 - val_acc: 0.9200\n",
            "Epoch 39/200\n",
            "5/5 [==============================] - 0s 7ms/step - loss: 0.4809 - acc: 0.8133 - val_loss: 0.4186 - val_acc: 0.9400\n",
            "Epoch 40/200\n",
            "5/5 [==============================] - 0s 9ms/step - loss: 0.4393 - acc: 0.8267 - val_loss: 0.4242 - val_acc: 0.9000\n",
            "Epoch 41/200\n",
            "5/5 [==============================] - 0s 8ms/step - loss: 0.4453 - acc: 0.8267 - val_loss: 0.4178 - val_acc: 0.9200\n",
            "Epoch 42/200\n",
            "5/5 [==============================] - 0s 7ms/step - loss: 0.4237 - acc: 0.8267 - val_loss: 0.4235 - val_acc: 0.9200\n",
            "Epoch 43/200\n",
            "5/5 [==============================] - 0s 7ms/step - loss: 0.4069 - acc: 0.8600 - val_loss: 0.3755 - val_acc: 0.9200\n",
            "Epoch 44/200\n",
            "5/5 [==============================] - 0s 7ms/step - loss: 0.4569 - acc: 0.8200 - val_loss: 0.3759 - val_acc: 0.9000\n",
            "Epoch 45/200\n",
            "5/5 [==============================] - 0s 9ms/step - loss: 0.4090 - acc: 0.8333 - val_loss: 0.4227 - val_acc: 0.8800\n",
            "Epoch 46/200\n",
            "5/5 [==============================] - 0s 8ms/step - loss: 0.3732 - acc: 0.8867 - val_loss: 0.3887 - val_acc: 0.9400\n",
            "Epoch 47/200\n",
            "5/5 [==============================] - 0s 12ms/step - loss: 0.4118 - acc: 0.8267 - val_loss: 0.3796 - val_acc: 0.9200\n",
            "Epoch 48/200\n",
            "5/5 [==============================] - 0s 7ms/step - loss: 0.4276 - acc: 0.8067 - val_loss: 0.3737 - val_acc: 0.9400\n",
            "Epoch 49/200\n",
            "5/5 [==============================] - 0s 7ms/step - loss: 0.3913 - acc: 0.8267 - val_loss: 0.3851 - val_acc: 0.9000\n",
            "Epoch 50/200\n",
            "5/5 [==============================] - 0s 8ms/step - loss: 0.3599 - acc: 0.8800 - val_loss: 0.3548 - val_acc: 0.9200\n",
            "Epoch 51/200\n",
            "5/5 [==============================] - 0s 7ms/step - loss: 0.3691 - acc: 0.8600 - val_loss: 0.3578 - val_acc: 0.9400\n",
            "Epoch 52/200\n",
            "5/5 [==============================] - 0s 8ms/step - loss: 0.4299 - acc: 0.8533 - val_loss: 0.3552 - val_acc: 0.9400\n",
            "Epoch 53/200\n",
            "5/5 [==============================] - 0s 8ms/step - loss: 0.3423 - acc: 0.9000 - val_loss: 0.3733 - val_acc: 0.9200\n",
            "Epoch 54/200\n",
            "5/5 [==============================] - 0s 8ms/step - loss: 0.2991 - acc: 0.9067 - val_loss: 0.3426 - val_acc: 0.9000\n",
            "Epoch 55/200\n",
            "5/5 [==============================] - 0s 7ms/step - loss: 0.3508 - acc: 0.8667 - val_loss: 0.3323 - val_acc: 0.9000\n",
            "Epoch 56/200\n",
            "5/5 [==============================] - 0s 9ms/step - loss: 0.2866 - acc: 0.9067 - val_loss: 0.3375 - val_acc: 0.9200\n",
            "Epoch 57/200\n",
            "5/5 [==============================] - 0s 8ms/step - loss: 0.3079 - acc: 0.9000 - val_loss: 0.3245 - val_acc: 0.9000\n",
            "Epoch 58/200\n",
            "5/5 [==============================] - 0s 8ms/step - loss: 0.3244 - acc: 0.8800 - val_loss: 0.3527 - val_acc: 0.9400\n",
            "Epoch 59/200\n",
            "5/5 [==============================] - 0s 12ms/step - loss: 0.3428 - acc: 0.8933 - val_loss: 0.3306 - val_acc: 0.9200\n",
            "Epoch 60/200\n",
            "5/5 [==============================] - 0s 8ms/step - loss: 0.2854 - acc: 0.8867 - val_loss: 0.3164 - val_acc: 0.9400\n",
            "Epoch 61/200\n",
            "5/5 [==============================] - 0s 9ms/step - loss: 0.4036 - acc: 0.8067 - val_loss: 0.3089 - val_acc: 0.9200\n",
            "Epoch 62/200\n",
            "5/5 [==============================] - 0s 8ms/step - loss: 0.3773 - acc: 0.8467 - val_loss: 0.3343 - val_acc: 0.9200\n",
            "Epoch 63/200\n",
            "5/5 [==============================] - 0s 7ms/step - loss: 0.3185 - acc: 0.9000 - val_loss: 0.3378 - val_acc: 0.9200\n",
            "Epoch 64/200\n",
            "5/5 [==============================] - 0s 9ms/step - loss: 0.3119 - acc: 0.8867 - val_loss: 0.3219 - val_acc: 0.9400\n",
            "Epoch 65/200\n",
            "5/5 [==============================] - 0s 9ms/step - loss: 0.3190 - acc: 0.8800 - val_loss: 0.3464 - val_acc: 0.8800\n",
            "Epoch 66/200\n",
            "5/5 [==============================] - 0s 9ms/step - loss: 0.3231 - acc: 0.8733 - val_loss: 0.3365 - val_acc: 0.9000\n",
            "Epoch 67/200\n",
            "5/5 [==============================] - 0s 9ms/step - loss: 0.3487 - acc: 0.8267 - val_loss: 0.3177 - val_acc: 0.9400\n",
            "Epoch 68/200\n",
            "5/5 [==============================] - 0s 8ms/step - loss: 0.2754 - acc: 0.9000 - val_loss: 0.3034 - val_acc: 0.9400\n",
            "Epoch 69/200\n",
            "5/5 [==============================] - 0s 9ms/step - loss: 0.3224 - acc: 0.8867 - val_loss: 0.3259 - val_acc: 0.9200\n",
            "Epoch 70/200\n",
            "5/5 [==============================] - 0s 9ms/step - loss: 0.2791 - acc: 0.9200 - val_loss: 0.3399 - val_acc: 0.9200\n",
            "Epoch 71/200\n",
            "5/5 [==============================] - 0s 12ms/step - loss: 0.2384 - acc: 0.9333 - val_loss: 0.3188 - val_acc: 0.9200\n",
            "Epoch 72/200\n",
            "5/5 [==============================] - 0s 12ms/step - loss: 0.2796 - acc: 0.9267 - val_loss: 0.3224 - val_acc: 0.9400\n",
            "Epoch 73/200\n",
            "5/5 [==============================] - 0s 7ms/step - loss: 0.2887 - acc: 0.8933 - val_loss: 0.3042 - val_acc: 0.9400\n",
            "Epoch 74/200\n",
            "5/5 [==============================] - 0s 7ms/step - loss: 0.2159 - acc: 0.9533 - val_loss: 0.3141 - val_acc: 0.8800\n",
            "Epoch 75/200\n",
            "5/5 [==============================] - 0s 12ms/step - loss: 0.2646 - acc: 0.9267 - val_loss: 0.3040 - val_acc: 0.9200\n",
            "Epoch 76/200\n",
            "5/5 [==============================] - 0s 12ms/step - loss: 0.2399 - acc: 0.9133 - val_loss: 0.2869 - val_acc: 0.9400\n",
            "Epoch 77/200\n",
            "5/5 [==============================] - 0s 7ms/step - loss: 0.2582 - acc: 0.9133 - val_loss: 0.3149 - val_acc: 0.9200\n",
            "Epoch 78/200\n",
            "5/5 [==============================] - 0s 7ms/step - loss: 0.2633 - acc: 0.8933 - val_loss: 0.3459 - val_acc: 0.9000\n",
            "Epoch 79/200\n",
            "5/5 [==============================] - 0s 7ms/step - loss: 0.2760 - acc: 0.8867 - val_loss: 0.2885 - val_acc: 0.9400\n",
            "Epoch 80/200\n",
            "5/5 [==============================] - 0s 7ms/step - loss: 0.2253 - acc: 0.9333 - val_loss: 0.3137 - val_acc: 0.9400\n",
            "Epoch 81/200\n",
            "5/5 [==============================] - 0s 7ms/step - loss: 0.2764 - acc: 0.9133 - val_loss: 0.3107 - val_acc: 0.9200\n",
            "Epoch 82/200\n",
            "5/5 [==============================] - 0s 7ms/step - loss: 0.2352 - acc: 0.9200 - val_loss: 0.3198 - val_acc: 0.9200\n",
            "Epoch 83/200\n",
            "5/5 [==============================] - 0s 8ms/step - loss: 0.3348 - acc: 0.8533 - val_loss: 0.3219 - val_acc: 0.9200\n",
            "Epoch 84/200\n",
            "5/5 [==============================] - 0s 7ms/step - loss: 0.2826 - acc: 0.9067 - val_loss: 0.2806 - val_acc: 0.9400\n",
            "Epoch 85/200\n",
            "5/5 [==============================] - 0s 7ms/step - loss: 0.2156 - acc: 0.9333 - val_loss: 0.3123 - val_acc: 0.9400\n",
            "Epoch 86/200\n",
            "5/5 [==============================] - 0s 6ms/step - loss: 0.2248 - acc: 0.9133 - val_loss: 0.2688 - val_acc: 0.9400\n",
            "Epoch 87/200\n",
            "5/5 [==============================] - 0s 7ms/step - loss: 0.2433 - acc: 0.9200 - val_loss: 0.2873 - val_acc: 0.9400\n",
            "Epoch 88/200\n",
            "5/5 [==============================] - 0s 8ms/step - loss: 0.2127 - acc: 0.9600 - val_loss: 0.2845 - val_acc: 0.9200\n",
            "Epoch 89/200\n",
            "5/5 [==============================] - 0s 7ms/step - loss: 0.2071 - acc: 0.9400 - val_loss: 0.2690 - val_acc: 0.9400\n",
            "Epoch 90/200\n",
            "5/5 [==============================] - 0s 7ms/step - loss: 0.2048 - acc: 0.9667 - val_loss: 0.2853 - val_acc: 0.9400\n",
            "Epoch 91/200\n",
            "5/5 [==============================] - 0s 7ms/step - loss: 0.1635 - acc: 0.9467 - val_loss: 0.2935 - val_acc: 0.9400\n",
            "Epoch 92/200\n",
            "5/5 [==============================] - 0s 8ms/step - loss: 0.2283 - acc: 0.9000 - val_loss: 0.2845 - val_acc: 0.9400\n",
            "Epoch 93/200\n",
            "5/5 [==============================] - 0s 7ms/step - loss: 0.2929 - acc: 0.8800 - val_loss: 0.2652 - val_acc: 0.9400\n",
            "Epoch 94/200\n",
            "5/5 [==============================] - 0s 7ms/step - loss: 0.2096 - acc: 0.9200 - val_loss: 0.2755 - val_acc: 0.9200\n",
            "Epoch 95/200\n",
            "5/5 [==============================] - 0s 7ms/step - loss: 0.2098 - acc: 0.9333 - val_loss: 0.2593 - val_acc: 0.9400\n",
            "Epoch 96/200\n",
            "5/5 [==============================] - 0s 11ms/step - loss: 0.2036 - acc: 0.9333 - val_loss: 0.2723 - val_acc: 0.9400\n",
            "Epoch 97/200\n",
            "5/5 [==============================] - 0s 7ms/step - loss: 0.1969 - acc: 0.9333 - val_loss: 0.2934 - val_acc: 0.9000\n",
            "Epoch 98/200\n",
            "5/5 [==============================] - 0s 8ms/step - loss: 0.1908 - acc: 0.9267 - val_loss: 0.2867 - val_acc: 0.9400\n",
            "Epoch 99/200\n",
            "5/5 [==============================] - 0s 7ms/step - loss: 0.1891 - acc: 0.9333 - val_loss: 0.3069 - val_acc: 0.9200\n",
            "Epoch 100/200\n",
            "5/5 [==============================] - 0s 7ms/step - loss: 0.2094 - acc: 0.9333 - val_loss: 0.2818 - val_acc: 0.8800\n",
            "Epoch 101/200\n",
            "5/5 [==============================] - 0s 7ms/step - loss: 0.1978 - acc: 0.9333 - val_loss: 0.2672 - val_acc: 0.9400\n",
            "Epoch 102/200\n",
            "5/5 [==============================] - 0s 7ms/step - loss: 0.1759 - acc: 0.9533 - val_loss: 0.2587 - val_acc: 0.9400\n",
            "Epoch 103/200\n",
            "5/5 [==============================] - 0s 7ms/step - loss: 0.2165 - acc: 0.9200 - val_loss: 0.2708 - val_acc: 0.9400\n",
            "Epoch 104/200\n",
            "5/5 [==============================] - 0s 7ms/step - loss: 0.2505 - acc: 0.9133 - val_loss: 0.2649 - val_acc: 0.9400\n",
            "Epoch 105/200\n",
            "5/5 [==============================] - 0s 7ms/step - loss: 0.2401 - acc: 0.9333 - val_loss: 0.2814 - val_acc: 0.9400\n",
            "Epoch 106/200\n",
            "5/5 [==============================] - 0s 8ms/step - loss: 0.1686 - acc: 0.9600 - val_loss: 0.2612 - val_acc: 0.9200\n",
            "Epoch 107/200\n",
            "5/5 [==============================] - 0s 8ms/step - loss: 0.1897 - acc: 0.9400 - val_loss: 0.2522 - val_acc: 0.9200\n",
            "Epoch 108/200\n",
            "5/5 [==============================] - 0s 12ms/step - loss: 0.2266 - acc: 0.9133 - val_loss: 0.2831 - val_acc: 0.9400\n",
            "Epoch 109/200\n",
            "5/5 [==============================] - 0s 7ms/step - loss: 0.2170 - acc: 0.9267 - val_loss: 0.3110 - val_acc: 0.9400\n",
            "Epoch 110/200\n",
            "5/5 [==============================] - 0s 11ms/step - loss: 0.1789 - acc: 0.9267 - val_loss: 0.2555 - val_acc: 0.9400\n",
            "Epoch 111/200\n",
            "5/5 [==============================] - 0s 7ms/step - loss: 0.2429 - acc: 0.9333 - val_loss: 0.2817 - val_acc: 0.9400\n",
            "Epoch 112/200\n",
            "5/5 [==============================] - 0s 7ms/step - loss: 0.1338 - acc: 0.9533 - val_loss: 0.2682 - val_acc: 0.9400\n",
            "Epoch 113/200\n",
            "5/5 [==============================] - 0s 12ms/step - loss: 0.2075 - acc: 0.9133 - val_loss: 0.2731 - val_acc: 0.9400\n",
            "Epoch 114/200\n",
            "5/5 [==============================] - 0s 13ms/step - loss: 0.1775 - acc: 0.9533 - val_loss: 0.2851 - val_acc: 0.9200\n",
            "Epoch 115/200\n",
            "5/5 [==============================] - 0s 8ms/step - loss: 0.1262 - acc: 0.9533 - val_loss: 0.3457 - val_acc: 0.9200\n",
            "Epoch 116/200\n",
            "5/5 [==============================] - 0s 12ms/step - loss: 0.1624 - acc: 0.9400 - val_loss: 0.2760 - val_acc: 0.9400\n",
            "Epoch 117/200\n",
            "5/5 [==============================] - 0s 7ms/step - loss: 0.1504 - acc: 0.9467 - val_loss: 0.2965 - val_acc: 0.9200\n",
            "Epoch 118/200\n",
            "5/5 [==============================] - 0s 7ms/step - loss: 0.1777 - acc: 0.9333 - val_loss: 0.2814 - val_acc: 0.9200\n",
            "Epoch 119/200\n",
            "5/5 [==============================] - 0s 7ms/step - loss: 0.1855 - acc: 0.9400 - val_loss: 0.2567 - val_acc: 0.9200\n",
            "Epoch 120/200\n",
            "5/5 [==============================] - 0s 7ms/step - loss: 0.1906 - acc: 0.9333 - val_loss: 0.2423 - val_acc: 0.9400\n",
            "Epoch 121/200\n",
            "5/5 [==============================] - 0s 7ms/step - loss: 0.1445 - acc: 0.9600 - val_loss: 0.2885 - val_acc: 0.9200\n",
            "Epoch 122/200\n",
            "5/5 [==============================] - 0s 7ms/step - loss: 0.2496 - acc: 0.9133 - val_loss: 0.2671 - val_acc: 0.9400\n",
            "Epoch 123/200\n",
            "5/5 [==============================] - 0s 7ms/step - loss: 0.1709 - acc: 0.9333 - val_loss: 0.2719 - val_acc: 0.9200\n",
            "Epoch 124/200\n",
            "5/5 [==============================] - 0s 12ms/step - loss: 0.2115 - acc: 0.9133 - val_loss: 0.2277 - val_acc: 0.9400\n",
            "Epoch 125/200\n",
            "5/5 [==============================] - 0s 7ms/step - loss: 0.1607 - acc: 0.9533 - val_loss: 0.2696 - val_acc: 0.9200\n",
            "Epoch 126/200\n",
            "5/5 [==============================] - 0s 8ms/step - loss: 0.2065 - acc: 0.9267 - val_loss: 0.2324 - val_acc: 0.9400\n",
            "Epoch 127/200\n",
            "5/5 [==============================] - 0s 12ms/step - loss: 0.1869 - acc: 0.9333 - val_loss: 0.3034 - val_acc: 0.9200\n",
            "Epoch 128/200\n",
            "5/5 [==============================] - 0s 7ms/step - loss: 0.2509 - acc: 0.9067 - val_loss: 0.3074 - val_acc: 0.9200\n",
            "Epoch 129/200\n",
            "5/5 [==============================] - 0s 12ms/step - loss: 0.1809 - acc: 0.9267 - val_loss: 0.2631 - val_acc: 0.9200\n",
            "Epoch 130/200\n",
            "5/5 [==============================] - 0s 8ms/step - loss: 0.1081 - acc: 0.9800 - val_loss: 0.2753 - val_acc: 0.9400\n",
            "Epoch 131/200\n",
            "5/5 [==============================] - 0s 9ms/step - loss: 0.2117 - acc: 0.9133 - val_loss: 0.2795 - val_acc: 0.9200\n",
            "Epoch 132/200\n",
            "5/5 [==============================] - 0s 12ms/step - loss: 0.1797 - acc: 0.9400 - val_loss: 0.3288 - val_acc: 0.9000\n",
            "Epoch 133/200\n",
            "5/5 [==============================] - 0s 8ms/step - loss: 0.1990 - acc: 0.9400 - val_loss: 0.2814 - val_acc: 0.9400\n",
            "Epoch 134/200\n",
            "5/5 [==============================] - 0s 8ms/step - loss: 0.1822 - acc: 0.9400 - val_loss: 0.2356 - val_acc: 0.9400\n",
            "Epoch 135/200\n",
            "5/5 [==============================] - 0s 8ms/step - loss: 0.1900 - acc: 0.9467 - val_loss: 0.2652 - val_acc: 0.9400\n",
            "Epoch 136/200\n",
            "5/5 [==============================] - 0s 8ms/step - loss: 0.1690 - acc: 0.9467 - val_loss: 0.2651 - val_acc: 0.9400\n",
            "Epoch 137/200\n",
            "5/5 [==============================] - 0s 8ms/step - loss: 0.1197 - acc: 0.9467 - val_loss: 0.2638 - val_acc: 0.9200\n",
            "Epoch 138/200\n",
            "5/5 [==============================] - 0s 7ms/step - loss: 0.1885 - acc: 0.9333 - val_loss: 0.2545 - val_acc: 0.9400\n",
            "Epoch 139/200\n",
            "5/5 [==============================] - 0s 13ms/step - loss: 0.1769 - acc: 0.9333 - val_loss: 0.2646 - val_acc: 0.9400\n",
            "Epoch 140/200\n",
            "5/5 [==============================] - 0s 7ms/step - loss: 0.1525 - acc: 0.9600 - val_loss: 0.2631 - val_acc: 0.9400\n",
            "Epoch 141/200\n",
            "5/5 [==============================] - 0s 8ms/step - loss: 0.1292 - acc: 0.9667 - val_loss: 0.2627 - val_acc: 0.9400\n",
            "Epoch 142/200\n",
            "5/5 [==============================] - 0s 8ms/step - loss: 0.1666 - acc: 0.9400 - val_loss: 0.2473 - val_acc: 0.9400\n",
            "Epoch 143/200\n",
            "5/5 [==============================] - 0s 12ms/step - loss: 0.1032 - acc: 0.9600 - val_loss: 0.2585 - val_acc: 0.9400\n",
            "Epoch 144/200\n",
            "5/5 [==============================] - 0s 7ms/step - loss: 0.1525 - acc: 0.9467 - val_loss: 0.2871 - val_acc: 0.9400\n",
            "Epoch 145/200\n",
            "5/5 [==============================] - 0s 8ms/step - loss: 0.1271 - acc: 0.9467 - val_loss: 0.2677 - val_acc: 0.9400\n",
            "Epoch 146/200\n",
            "5/5 [==============================] - 0s 8ms/step - loss: 0.1838 - acc: 0.9400 - val_loss: 0.2705 - val_acc: 0.9400\n",
            "Epoch 147/200\n",
            "5/5 [==============================] - 0s 8ms/step - loss: 0.1625 - acc: 0.9400 - val_loss: 0.3098 - val_acc: 0.9200\n",
            "Epoch 148/200\n",
            "5/5 [==============================] - 0s 8ms/step - loss: 0.1637 - acc: 0.9333 - val_loss: 0.2666 - val_acc: 0.9400\n",
            "Epoch 149/200\n",
            "5/5 [==============================] - 0s 12ms/step - loss: 0.1644 - acc: 0.9400 - val_loss: 0.3084 - val_acc: 0.9200\n",
            "Epoch 150/200\n",
            "5/5 [==============================] - 0s 8ms/step - loss: 0.1391 - acc: 0.9533 - val_loss: 0.2551 - val_acc: 0.9400\n",
            "Epoch 151/200\n",
            "5/5 [==============================] - 0s 8ms/step - loss: 0.1545 - acc: 0.9333 - val_loss: 0.3507 - val_acc: 0.9000\n",
            "Epoch 152/200\n",
            "5/5 [==============================] - 0s 14ms/step - loss: 0.1685 - acc: 0.9600 - val_loss: 0.2704 - val_acc: 0.9400\n",
            "Epoch 153/200\n",
            "5/5 [==============================] - 0s 7ms/step - loss: 0.1481 - acc: 0.9533 - val_loss: 0.2783 - val_acc: 0.9000\n",
            "Epoch 154/200\n",
            "5/5 [==============================] - 0s 7ms/step - loss: 0.1038 - acc: 0.9667 - val_loss: 0.2720 - val_acc: 0.9400\n",
            "Epoch 155/200\n",
            "5/5 [==============================] - 0s 7ms/step - loss: 0.1764 - acc: 0.9333 - val_loss: 0.2911 - val_acc: 0.9200\n",
            "Epoch 156/200\n",
            "5/5 [==============================] - 0s 8ms/step - loss: 0.1484 - acc: 0.9600 - val_loss: 0.2848 - val_acc: 0.9000\n",
            "Epoch 157/200\n",
            "5/5 [==============================] - 0s 9ms/step - loss: 0.1946 - acc: 0.9267 - val_loss: 0.2527 - val_acc: 0.9200\n",
            "Epoch 158/200\n",
            "5/5 [==============================] - 0s 15ms/step - loss: 0.1538 - acc: 0.9667 - val_loss: 0.2493 - val_acc: 0.9200\n",
            "Epoch 159/200\n",
            "5/5 [==============================] - 0s 8ms/step - loss: 0.0725 - acc: 0.9867 - val_loss: 0.2803 - val_acc: 0.9200\n",
            "Epoch 160/200\n",
            "5/5 [==============================] - 0s 12ms/step - loss: 0.1640 - acc: 0.9467 - val_loss: 0.2584 - val_acc: 0.9400\n",
            "Epoch 161/200\n",
            "5/5 [==============================] - 0s 7ms/step - loss: 0.1425 - acc: 0.9333 - val_loss: 0.3196 - val_acc: 0.9200\n",
            "Epoch 162/200\n",
            "5/5 [==============================] - 0s 9ms/step - loss: 0.1738 - acc: 0.9333 - val_loss: 0.2296 - val_acc: 0.9200\n",
            "Epoch 163/200\n",
            "5/5 [==============================] - 0s 13ms/step - loss: 0.1406 - acc: 0.9467 - val_loss: 0.1988 - val_acc: 0.9600\n",
            "Epoch 164/200\n",
            "5/5 [==============================] - 0s 8ms/step - loss: 0.1359 - acc: 0.9667 - val_loss: 0.2419 - val_acc: 0.9400\n",
            "Epoch 165/200\n",
            "5/5 [==============================] - 0s 13ms/step - loss: 0.1384 - acc: 0.9467 - val_loss: 0.2678 - val_acc: 0.9400\n",
            "Epoch 166/200\n",
            "5/5 [==============================] - 0s 9ms/step - loss: 0.0910 - acc: 0.9667 - val_loss: 0.2827 - val_acc: 0.9400\n",
            "Epoch 167/200\n",
            "5/5 [==============================] - 0s 9ms/step - loss: 0.1501 - acc: 0.9533 - val_loss: 0.2746 - val_acc: 0.9400\n",
            "Epoch 168/200\n",
            "5/5 [==============================] - 0s 7ms/step - loss: 0.1144 - acc: 0.9733 - val_loss: 0.2828 - val_acc: 0.9400\n",
            "Epoch 169/200\n",
            "5/5 [==============================] - 0s 12ms/step - loss: 0.1244 - acc: 0.9600 - val_loss: 0.2643 - val_acc: 0.9400\n",
            "Epoch 170/200\n",
            "5/5 [==============================] - 0s 7ms/step - loss: 0.1420 - acc: 0.9533 - val_loss: 0.2437 - val_acc: 0.9200\n",
            "Epoch 171/200\n",
            "5/5 [==============================] - 0s 8ms/step - loss: 0.1062 - acc: 0.9667 - val_loss: 0.2527 - val_acc: 0.9400\n",
            "Epoch 172/200\n",
            "5/5 [==============================] - 0s 7ms/step - loss: 0.1165 - acc: 0.9533 - val_loss: 0.2477 - val_acc: 0.9400\n",
            "Epoch 173/200\n",
            "5/5 [==============================] - 0s 7ms/step - loss: 0.0980 - acc: 0.9733 - val_loss: 0.2726 - val_acc: 0.9400\n",
            "Epoch 174/200\n",
            "5/5 [==============================] - 0s 8ms/step - loss: 0.1977 - acc: 0.9200 - val_loss: 0.2553 - val_acc: 0.9400\n",
            "Epoch 175/200\n",
            "5/5 [==============================] - 0s 12ms/step - loss: 0.0999 - acc: 0.9667 - val_loss: 0.2596 - val_acc: 0.9200\n",
            "Epoch 176/200\n",
            "5/5 [==============================] - 0s 13ms/step - loss: 0.1583 - acc: 0.9467 - val_loss: 0.2580 - val_acc: 0.9200\n",
            "Epoch 177/200\n",
            "5/5 [==============================] - 0s 7ms/step - loss: 0.1308 - acc: 0.9600 - val_loss: 0.2532 - val_acc: 0.9400\n",
            "Epoch 178/200\n",
            "5/5 [==============================] - 0s 7ms/step - loss: 0.0738 - acc: 0.9933 - val_loss: 0.2617 - val_acc: 0.9400\n",
            "Epoch 179/200\n",
            "5/5 [==============================] - 0s 7ms/step - loss: 0.1491 - acc: 0.9533 - val_loss: 0.2641 - val_acc: 0.9400\n",
            "Epoch 180/200\n",
            "5/5 [==============================] - 0s 8ms/step - loss: 0.0856 - acc: 0.9800 - val_loss: 0.2588 - val_acc: 0.9400\n",
            "Epoch 181/200\n",
            "5/5 [==============================] - 0s 7ms/step - loss: 0.0953 - acc: 0.9667 - val_loss: 0.2836 - val_acc: 0.9400\n",
            "Epoch 182/200\n",
            "5/5 [==============================] - 0s 8ms/step - loss: 0.0744 - acc: 0.9867 - val_loss: 0.2886 - val_acc: 0.9400\n",
            "Epoch 183/200\n",
            "5/5 [==============================] - 0s 12ms/step - loss: 0.1140 - acc: 0.9533 - val_loss: 0.2958 - val_acc: 0.9400\n",
            "Epoch 184/200\n",
            "5/5 [==============================] - 0s 7ms/step - loss: 0.1585 - acc: 0.9200 - val_loss: 0.3247 - val_acc: 0.9200\n",
            "Epoch 185/200\n",
            "5/5 [==============================] - 0s 11ms/step - loss: 0.1825 - acc: 0.9133 - val_loss: 0.2708 - val_acc: 0.9400\n",
            "Epoch 186/200\n",
            "5/5 [==============================] - 0s 8ms/step - loss: 0.1035 - acc: 0.9733 - val_loss: 0.2640 - val_acc: 0.9400\n",
            "Epoch 187/200\n",
            "5/5 [==============================] - 0s 8ms/step - loss: 0.0783 - acc: 0.9733 - val_loss: 0.3082 - val_acc: 0.9200\n",
            "Epoch 188/200\n",
            "5/5 [==============================] - 0s 8ms/step - loss: 0.1156 - acc: 0.9467 - val_loss: 0.2863 - val_acc: 0.9400\n",
            "Epoch 189/200\n",
            "5/5 [==============================] - 0s 9ms/step - loss: 0.0977 - acc: 0.9733 - val_loss: 0.3073 - val_acc: 0.9400\n",
            "Epoch 190/200\n",
            "5/5 [==============================] - 0s 13ms/step - loss: 0.1015 - acc: 0.9733 - val_loss: 0.2892 - val_acc: 0.9400\n",
            "Epoch 191/200\n",
            "5/5 [==============================] - 0s 8ms/step - loss: 0.0672 - acc: 0.9867 - val_loss: 0.2977 - val_acc: 0.9200\n",
            "Epoch 192/200\n",
            "5/5 [==============================] - 0s 8ms/step - loss: 0.0790 - acc: 0.9667 - val_loss: 0.2826 - val_acc: 0.9400\n",
            "Epoch 193/200\n",
            "5/5 [==============================] - 0s 8ms/step - loss: 0.1295 - acc: 0.9400 - val_loss: 0.2779 - val_acc: 0.9400\n",
            "Epoch 194/200\n",
            "5/5 [==============================] - 0s 7ms/step - loss: 0.0626 - acc: 0.9867 - val_loss: 0.2696 - val_acc: 0.9400\n",
            "Epoch 195/200\n",
            "5/5 [==============================] - 0s 7ms/step - loss: 0.1220 - acc: 0.9733 - val_loss: 0.2821 - val_acc: 0.9400\n",
            "Epoch 196/200\n",
            "5/5 [==============================] - 0s 9ms/step - loss: 0.1130 - acc: 0.9533 - val_loss: 0.2928 - val_acc: 0.9400\n",
            "Epoch 197/200\n",
            "5/5 [==============================] - 0s 9ms/step - loss: 0.0675 - acc: 0.9867 - val_loss: 0.2610 - val_acc: 0.9400\n",
            "Epoch 198/200\n",
            "5/5 [==============================] - 0s 8ms/step - loss: 0.0979 - acc: 0.9667 - val_loss: 0.2776 - val_acc: 0.9400\n",
            "Epoch 199/200\n",
            "5/5 [==============================] - 0s 7ms/step - loss: 0.0790 - acc: 0.9733 - val_loss: 0.2945 - val_acc: 0.9400\n",
            "Epoch 200/200\n",
            "5/5 [==============================] - 0s 12ms/step - loss: 0.0971 - acc: 0.9667 - val_loss: 0.3019 - val_acc: 0.9200\n"
          ]
        }
      ]
    },
    {
      "cell_type": "code",
      "metadata": {
        "colab": {
          "base_uri": "https://localhost:8080/",
          "height": 887
        },
        "id": "qJnFOLndpoN9",
        "outputId": "b9643297-667d-4336-a342-a9bca61303b0"
      },
      "source": [
        "### Plot training and validation accuracy and loss over time\n",
        "\n",
        "# Extract accuracy and loss values (in list form) from the history\n",
        "acc = history.history['acc']\n",
        "val_acc = history.history['val_acc']\n",
        "loss = history.history['loss']\n",
        "val_loss = history.history['val_loss']\n",
        "\n",
        "# Create a list of epoch numbers\n",
        "epochs = range(1, len(acc) + 1)\n",
        "\n",
        "# Plot training and validation loss values over time\n",
        "plt.figure()\n",
        "plt.plot(epochs, loss, color='blue', marker='.', label='Training loss')\n",
        "plt.plot(epochs, val_loss, color='orange', marker='.', label='Validation loss')\n",
        "plt.title('Training and validation loss')\n",
        "plt.legend()\n",
        "\n",
        "# Plot training and validation accuracies over time\n",
        "plt.figure()\n",
        "plt.plot(epochs, acc, color='blue', marker='.', label='Training acc')\n",
        "plt.plot(epochs, val_acc, color='orange', marker='.', label='Validation acc')\n",
        "plt.title('Training and validation accuracy')\n",
        "plt.legend()\n",
        "plt.show()"
      ],
      "execution_count": 20,
      "outputs": [
        {
          "output_type": "display_data",
          "data": {
            "text/plain": [
              "<Figure size 640x480 with 1 Axes>"
            ],
            "image/png": "[encoded data removed]"
          },
          "metadata": {}
        },
        {
          "output_type": "display_data",
          "data": {
            "text/plain": [
              "<Figure size 640x480 with 1 Axes>"
            ],
            "image/png": "[encoded data removed]"
          },
          "metadata": {}
        }
      ]
    },
    {
      "cell_type": "code",
      "metadata": {
        "colab": {
          "base_uri": "https://localhost:8080/"
        },
        "id": "kgmX9gfJpq-L",
        "outputId": "998eedd0-e082-4e96-875a-1e0444d844e4"
      },
      "source": [
        "### Try predicting label with one validation sample (inference)\n",
        "\n",
        "# Change this to try a different sample from the test set\n",
        "idx = 26\n",
        "\n",
        "# Make sample 2D array instead of 1D vector (this is what the Keras model expects as input)\n",
        "x = np.expand_dims(X_val[idx], 0)\n",
        "\n",
        "# Make prediction using trained model\n",
        "y_pred = model.predict(x)\n",
        "\n",
        "# Find index of highest score in output\n",
        "predicted_label = np.argmax(y_pred)\n",
        "actual_label = np.argmax(Y_val[idx])\n",
        "\n",
        "# Display model output, predicted label, actual label\n",
        "print(\"Model output:\", y_pred)\n",
        "print(\"Predicted label:\", predicted_label, \"-\", labels[predicted_label])\n",
        "print(\"Actual label:\", actual_label, \"-\", labels[actual_label])"
      ],
      "execution_count": 22,
      "outputs": [
        {
          "output_type": "stream",
          "name": "stdout",
          "text": [
            "1/1 [==============================] - 0s 13ms/step\n",
            "Model output: [[1.1306059e-06 2.6120346e-03 2.2129680e-03 9.9162370e-01 3.5500927e-03]]\n",
            "Predicted label: 3 - led\n",
            "Actual label: 3 - led\n"
          ]
        }
      ]
    },
    {
      "cell_type": "code",
      "metadata": {
        "colab": {
          "base_uri": "https://localhost:8080/"
        },
        "id": "0Lo3KWpjptJk",
        "outputId": "97bf7aa3-1415-4a8a-ed73-6b999d554088"
      },
      "source": [
        "### Create confusion matrix from validation set\n",
        "\n",
        "# Find predictions from all validation samples\n",
        "Y_pred = model.predict(X_val)\n",
        "print(\"Validation output shape:\", Y_pred.shape)\n",
        "\n",
        "# Convert actual and predicted validation one-hot encoding to numerical labels\n",
        "y_val = np.argmax(Y_val, axis=1)\n",
        "y_pred = np.argmax(Y_pred, axis=1)\n",
        "\n",
        "# Print some values from actual and predicted validation sets (first 50 samples)\n",
        "print(\"Actual validation labels:\\t\", y_val[:50])\n",
        "print(\"Predicted validation labels:\\t\", y_pred[:50])\n",
        "\n",
        "# Compute confusion matrix (note: we need to transpose SKLearn matrix to make it match Edge Impulse)\n",
        "cm = confusion_matrix(y_val, y_pred)\n",
        "cm = np.transpose(cm)\n",
        "\n",
        "# Print confusion matrix\n",
        "print()\n",
        "print(\" ---> Predicted labels\")\n",
        "print(\"|\")\n",
        "print(\"v Actual labels\")\n",
        "print(\"\\t\\t\\t\" + ' '.join(\"{!s:6}\".format('(' + str(i) + ')') for i in range(num_classes)))\n",
        "for row in range(num_classes):\n",
        "  print(\"{:>12} ({}):  [{}]\".format(labels[row], row, ' '.join(\"{:6}\".format(i) for i in cm[row])))"
      ],
      "execution_count": 23,
      "outputs": [
        {
          "output_type": "stream",
          "name": "stdout",
          "text": [
            "2/2 [==============================] - 0s 5ms/step\n",
            "Validation output shape: (50, 5)\n",
            "Actual validation labels:\t [0 0 1 0 3 4 2 4 2 3 4 0 0 0 2 3 2 3 2 3 1 1 2 0 1 2 3 2 1 4 4 3 1 3 2 2 4\n",
            " 3 3 1 1 2 3 0 1 4 3 0 2 2]\n",
            "Predicted validation labels:\t [0 0 1 0 3 4 2 1 2 3 4 0 0 0 2 3 2 3 2 3 1 1 2 0 1 2 3 4 1 4 4 3 1 3 2 2 4\n",
            " 4 3 4 1 2 3 0 1 4 3 0 2 2]\n",
            "\n",
            " ---> Predicted labels\n",
            "|\n",
            "v Actual labels\n",
            "\t\t\t(0)    (1)    (2)    (3)    (4)   \n",
            "  background (0):  [     9      0      0      0      0]\n",
            "   capacitor (1):  [     0      8      0      0      1]\n",
            "       diode (2):  [     0      0     12      0      0]\n",
            "         led (3):  [     0      0      0     11      0]\n",
            "    resistor (4):  [     0      1      1      1      6]\n"
          ]
        }
      ]
    },
    {
      "cell_type": "code",
      "metadata": {
        "colab": {
          "base_uri": "https://localhost:8080/"
        },
        "id": "hgZXa_y2qorZ",
        "outputId": "1cde2969-d38b-4b24-cdf3-a64e3b0950b3"
      },
      "source": [
        "### Evaluate model on validation set\n",
        "score = model.evaluate(X_val, Y_val)\n",
        "print(\"Validation loss:\", score[0])\n",
        "print(\"Validation accuracy:\", score[1])"
      ],
      "execution_count": 24,
      "outputs": [
        {
          "output_type": "stream",
          "name": "stdout",
          "text": [
            "2/2 [==============================] - 0s 6ms/step - loss: 0.3019 - acc: 0.9200\n",
            "Validation loss: 0.3018827438354492\n",
            "Validation accuracy: 0.9200000166893005\n"
          ]
        }
      ]
    },
    {
      "cell_type": "code",
      "metadata": {
        "colab": {
          "base_uri": "https://localhost:8080/"
        },
        "id": "m2lvFg0RVxFr",
        "outputId": "25ff931a-0468-4692-a753-a27630907718"
      },
      "source": [
        "### Evaluate model on entire test set\n",
        "score = model.evaluate(X_test, Y_test)\n",
        "print(\"Test loss:\", score[0])\n",
        "print(\"Test accuracy:\", score[1])"
      ],
      "execution_count": 25,
      "outputs": [
        {
          "output_type": "stream",
          "name": "stdout",
          "text": [
            "2/2 [==============================] - 0s 5ms/step - loss: 0.2136 - acc: 0.8800\n",
            "Test loss: 0.21360814571380615\n",
            "Test accuracy: 0.8799999952316284\n"
          ]
        }
      ]
    }
  ]
}