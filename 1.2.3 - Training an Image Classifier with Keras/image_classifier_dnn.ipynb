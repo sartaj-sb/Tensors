{
  "nbformat": 4,
  "nbformat_minor": 0,
  "metadata": {
    "colab": {
      "name": "image-classifier-dnn.ipynb",
      "provenance": []
    },
    "kernelspec": {
      "name": "python3",
      "display_name": "Python 3"
    },
    "language_info": {
      "name": "python"
    }
  },
  "cells": [
    {
      "cell_type": "markdown",
      "metadata": {
        "id": "PC2XM9ueyLhu"
      },
      "source": [
        "# Image Classification: Dense Neural Network\n",
        "\n",
        "[![Open In Colab <](https://colab.research.google.com/assets/colab-badge.svg)](https://colab.research.google.com/github/ShawnHymel/computer-vision-with-embedded-machine-learning/blob/master/1.2.3%20-%20Training%20an%20Image%20Classifier%20with%20Keras/image_classifier_dnn.ipynb)\n",
        "\n",
        "Run this notebook to train a dense neural network (DNN) on your own image dataset.\n",
        "\n",
        "Based on: https://colab.research.google.com/github/AviatorMoser/keras-mnist-tutorial/blob/master/MNIST%20in%20Keras.ipynb#scrollTo=rFFriuVPwhAm\n",
        "\n",
        "(I recommend working through the example above, as it has a lot of good descriptions on doing classification with images)\n",
        "\n",
        "Create a folder named \"dataset\" in the /content directory and upload your images there. The images should be divided into their respective classes, where each class has its own folder with the name of the class. For example:\n",
        "\n",
        "<pre>\n",
        "/content\n",
        "    |- dataset\n",
        "        |- background\n",
        "        |- capacitor\n",
        "        |- diode\n",
        "        |- led\n",
        "        |- resistor\n",
        "</pre>\n",
        "\n",
        "Author: EdgeImpulse, Inc.<br>\n",
        "Date: June 5, 2021<br>\n",
        "License: [Apache-2.0](apache.org/licenses/LICENSE-2.0)<br>"
      ]
    },
    {
      "cell_type": "code",
      "metadata": {
        "id": "jhHG2__GyJjs"
      },
      "source": [
        "import numpy as np\n",
        "import matplotlib.pyplot as plt\n",
        "import random\n",
        "import os\n",
        "import PIL\n",
        "\n",
        "from keras import utils                                   # tools for creating one-hot encoding\n",
        "from keras.models import Sequential                       # Type of model we wish to use\n",
        "from keras.layers import Dense, Dropout, Activation       # Types of layers we wish to use\n",
        "\n",
        "from skimage.transform import resize                      # Used to scale/resize image arrays\n",
        "\n",
        "from sklearn.metrics import confusion_matrix              # Used to quickly make confusion matrix"
      ],
      "execution_count": 1,
      "outputs": []
    },
    {
      "cell_type": "code",
      "metadata": {
        "id": "wu2l_Lm0yhtJ"
      },
      "source": [
        "### Settings\n",
        "\n",
        "# Location of dataset\n",
        "DATASET_PATH = \"/content/dataset\"\n",
        "\n",
        "# Desired resolution of images\n",
        "TARGET_WIDTH = 28\n",
        "TARGET_HEIGHT = 28\n",
        "\n",
        "# Invert image (dark backgrounds can sometimes improve accuracy)\n",
        "INVERT = False\n",
        "\n",
        "# Set aside 20% for validation and 20% for test\n",
        "VAL_RATIO = 0.2\n",
        "TEST_RATIO = 0.2\n",
        "\n",
        "# You are welcome to change the seed to try a different validation set split\n",
        "random.seed(42)"
      ],
      "execution_count": null,
      "outputs": []
    },
    {
      "cell_type": "code",
      "metadata": {
        "colab": {
          "base_uri": "https://localhost:8080/"
        },
        "id": "FXcJLxcv0yOT",
        "outputId": "0eb9172b-afcd-4955-80d1-9ebdad115b1c"
      },
      "source": [
        "### Load images as Numpy arrays\n",
        "\n",
        "# We want to record the labels and assign a ground truth label as a number to each sample\n",
        "labels = []\n",
        "y_all = []    # Lowercase 'y' - 1D vector of the ground labels (n)\n",
        "X_all = []    # Uppercase 'X' - 3D array of all image samples (n x width x height)\n",
        "\n",
        "# Find the directories in the dataset folder (skip the Jupyter Notebook checkpoints hidden folder)\n",
        "for label in os.listdir(DATASET_PATH):\n",
        "  class_dir = os.path.join(DATASET_PATH, label)\n",
        "  if os.path.isdir(class_dir) and label != \".ipynb_checkpoints\":\n",
        "\n",
        "    # Add the name of the folder to our labels list\n",
        "    labels.append(label)\n",
        "\n",
        "    # Go through each image in the folder\n",
        "    for i, file in enumerate(os.listdir(class_dir)):\n",
        "\n",
        "      # Skip the Jupyter Notebook checkpoints folder that sometimes gets added\n",
        "      if file != \".ipynb_checkpoints\":\n",
        "\n",
        "        # Open image and convert to grayscale\n",
        "        file_path = os.path.join(class_dir, file)\n",
        "        img = PIL.Image.open(file_path).convert('L')\n",
        "\n",
        "        # Convert the image to a Numpy array, optionally invern, and append to X\n",
        "        img_array = np.asarray(img)\n",
        "        if INVERT:\n",
        "          img_array = 255 - img_array\n",
        "        X_all.append(img_array)\n",
        "\n",
        "        # Add label to the y array\n",
        "        y_all.append(label)\n",
        "\n",
        "    # Show how many images we loaded\n",
        "    print(\"Added\", str(i + 1), \"images from\", label)\n",
        "\n",
        "# Calculate total number of samples\n",
        "num_samples = len(X_all)\n",
        "\n",
        "# Sort the labels list by alphabetical order\n",
        "labels = sorted(labels)\n",
        "\n",
        "# Print out labels and number of samples\n",
        "print(labels)\n",
        "print(\"Number of samples:\", num_samples)"
      ],
      "execution_count": null,
      "outputs": [
        {
          "output_type": "stream",
          "name": "stdout",
          "text": [
            "Added 50 images from led\n",
            "Added 50 images from diode\n",
            "Added 50 images from resistor\n",
            "Added 50 images from capacitor\n",
            "Added 50 images from background\n",
            "['background', 'capacitor', 'diode', 'led', 'resistor']\n",
            "Number of samples: 250\n"
          ]
        }
      ]
    },
    {
      "cell_type": "code",
      "metadata": {
        "colab": {
          "base_uri": "https://localhost:8080/"
        },
        "id": "_ux1q5Z_nFq0",
        "outputId": "f6bc29a2-996a-493a-eba6-045d554f6d91"
      },
      "source": [
        "### Convert labels to numbers\n",
        "\n",
        "# Show the labels before the conversion\n",
        "print(\"Before:\", y_all)\n",
        "\n",
        "# Convert each label to its index in the labels\n",
        "y_out = []\n",
        "for i, label in enumerate(y_all):\n",
        "  y_out.append(labels.index(label))\n",
        "y_all = y_out\n",
        "\n",
        "# Show the labels after the conversion\n",
        "print(\"After:\", y_all)"
      ],
      "execution_count": null,
      "outputs": [
        {
          "output_type": "stream",
          "name": "stdout",
          "text": [
            "Before: ['led', 'led', 'led', 'led', 'led', 'led', 'led', 'led', 'led', 'led', 'led', 'led', 'led', 'led', 'led', 'led', 'led', 'led', 'led', 'led', 'led', 'led', 'led', 'led', 'led', 'led', 'led', 'led', 'led', 'led', 'led', 'led', 'led', 'led', 'led', 'led', 'led', 'led', 'led', 'led', 'led', 'led', 'led', 'led', 'led', 'led', 'led', 'led', 'led', 'led', 'diode', 'diode', 'diode', 'diode', 'diode', 'diode', 'diode', 'diode', 'diode', 'diode', 'diode', 'diode', 'diode', 'diode', 'diode', 'diode', 'diode', 'diode', 'diode', 'diode', 'diode', 'diode', 'diode', 'diode', 'diode', 'diode', 'diode', 'diode', 'diode', 'diode', 'diode', 'diode', 'diode', 'diode', 'diode', 'diode', 'diode', 'diode', 'diode', 'diode', 'diode', 'diode', 'diode', 'diode', 'diode', 'diode', 'diode', 'diode', 'diode', 'diode', 'resistor', 'resistor', 'resistor', 'resistor', 'resistor', 'resistor', 'resistor', 'resistor', 'resistor', 'resistor', 'resistor', 'resistor', 'resistor', 'resistor', 'resistor', 'resistor', 'resistor', 'resistor', 'resistor', 'resistor', 'resistor', 'resistor', 'resistor', 'resistor', 'resistor', 'resistor', 'resistor', 'resistor', 'resistor', 'resistor', 'resistor', 'resistor', 'resistor', 'resistor', 'resistor', 'resistor', 'resistor', 'resistor', 'resistor', 'resistor', 'resistor', 'resistor', 'resistor', 'resistor', 'resistor', 'resistor', 'resistor', 'resistor', 'resistor', 'resistor', 'capacitor', 'capacitor', 'capacitor', 'capacitor', 'capacitor', 'capacitor', 'capacitor', 'capacitor', 'capacitor', 'capacitor', 'capacitor', 'capacitor', 'capacitor', 'capacitor', 'capacitor', 'capacitor', 'capacitor', 'capacitor', 'capacitor', 'capacitor', 'capacitor', 'capacitor', 'capacitor', 'capacitor', 'capacitor', 'capacitor', 'capacitor', 'capacitor', 'capacitor', 'capacitor', 'capacitor', 'capacitor', 'capacitor', 'capacitor', 'capacitor', 'capacitor', 'capacitor', 'capacitor', 'capacitor', 'capacitor', 'capacitor', 'capacitor', 'capacitor', 'capacitor', 'capacitor', 'capacitor', 'capacitor', 'capacitor', 'capacitor', 'capacitor', 'background', 'background', 'background', 'background', 'background', 'background', 'background', 'background', 'background', 'background', 'background', 'background', 'background', 'background', 'background', 'background', 'background', 'background', 'background', 'background', 'background', 'background', 'background', 'background', 'background', 'background', 'background', 'background', 'background', 'background', 'background', 'background', 'background', 'background', 'background', 'background', 'background', 'background', 'background', 'background', 'background', 'background', 'background', 'background', 'background', 'background', 'background', 'background', 'background', 'background']\n",
            "After: [3, 3, 3, 3, 3, 3, 3, 3, 3, 3, 3, 3, 3, 3, 3, 3, 3, 3, 3, 3, 3, 3, 3, 3, 3, 3, 3, 3, 3, 3, 3, 3, 3, 3, 3, 3, 3, 3, 3, 3, 3, 3, 3, 3, 3, 3, 3, 3, 3, 3, 2, 2, 2, 2, 2, 2, 2, 2, 2, 2, 2, 2, 2, 2, 2, 2, 2, 2, 2, 2, 2, 2, 2, 2, 2, 2, 2, 2, 2, 2, 2, 2, 2, 2, 2, 2, 2, 2, 2, 2, 2, 2, 2, 2, 2, 2, 2, 2, 2, 2, 4, 4, 4, 4, 4, 4, 4, 4, 4, 4, 4, 4, 4, 4, 4, 4, 4, 4, 4, 4, 4, 4, 4, 4, 4, 4, 4, 4, 4, 4, 4, 4, 4, 4, 4, 4, 4, 4, 4, 4, 4, 4, 4, 4, 4, 4, 4, 4, 4, 4, 1, 1, 1, 1, 1, 1, 1, 1, 1, 1, 1, 1, 1, 1, 1, 1, 1, 1, 1, 1, 1, 1, 1, 1, 1, 1, 1, 1, 1, 1, 1, 1, 1, 1, 1, 1, 1, 1, 1, 1, 1, 1, 1, 1, 1, 1, 1, 1, 1, 1, 0, 0, 0, 0, 0, 0, 0, 0, 0, 0, 0, 0, 0, 0, 0, 0, 0, 0, 0, 0, 0, 0, 0, 0, 0, 0, 0, 0, 0, 0, 0, 0, 0, 0, 0, 0, 0, 0, 0, 0, 0, 0, 0, 0, 0, 0, 0, 0, 0, 0]\n"
          ]
        }
      ]
    },
    {
      "cell_type": "code",
      "metadata": {
        "colab": {
          "base_uri": "https://localhost:8080/"
        },
        "id": "oJrS0Oz31NkI",
        "outputId": "aef3aa08-1101-4b9c-b4a1-a95d32e115d1"
      },
      "source": [
        "### Shuffle samples and labels together, divide into test, validation, and training sets\n",
        "\n",
        "# Shuffle samples and associated labels together\n",
        "X_y = list(zip(X_all, y_all))\n",
        "random.shuffle(X_y)\n",
        "X_all, y_all = zip(*X_y)\n",
        "\n",
        "# Calculate number of validation and test samples to put aside (round down)\n",
        "num_samples_test = int(TEST_RATIO * num_samples)\n",
        "num_samples_val = int(VAL_RATIO * num_samples)\n",
        "\n",
        "# The first `num_samples_test` samples of the shuffled list becomes the test set\n",
        "X_test = X_all[:num_samples_test]\n",
        "y_test = y_all[:num_samples_test]\n",
        "\n",
        "# The next `num_samples_val` samples of the shuffled list becomes the validation set\n",
        "X_val = X_all[num_samples_test:(num_samples_test + num_samples_val)]\n",
        "y_val = y_all[num_samples_test:(num_samples_test + num_samples_val)]\n",
        "\n",
        "# The remaining samples become the training set\n",
        "X_train = X_all[(num_samples_test + num_samples_val):]\n",
        "y_train = y_all[(num_samples_test + num_samples_val):]\n",
        "\n",
        "# Remember the number of samples in the test set\n",
        "num_samples_train = len(X_train)\n",
        "\n",
        "# Print out the number of test, validation, and training samples\n",
        "print(\"Number of test samples:\", num_samples_test)\n",
        "print(\"Number of validation samples:\", num_samples_val)\n",
        "print(\"Number of training samples:\", num_samples_train)"
      ],
      "execution_count": null,
      "outputs": [
        {
          "output_type": "stream",
          "name": "stdout",
          "text": [
            "Number of test samples: 50\n",
            "Number of validation samples: 50\n",
            "Number of training samples: 150\n"
          ]
        }
      ]
    },
    {
      "cell_type": "code",
      "metadata": {
        "colab": {
          "base_uri": "https://localhost:8080/",
          "height": 589
        },
        "id": "6FwDtw_DazYG",
        "outputId": "25c24bac-bb21-4789-8858-41d9c88c0087"
      },
      "source": [
        "### View one of the training samples\n",
        "\n",
        "# Chose which sample you want to view\n",
        "idx = 0\n",
        "\n",
        "# Print out label (numbe and string) and part of the array\n",
        "print(\"Label: \" + str(y_train[idx]) + \" (\" + labels[y_train[idx]] + \")\")\n",
        "print(X_train[idx])\n",
        "\n",
        "# Display image from array\n",
        "plt.imshow(X_train[idx], cmap='gray', vmin=0, vmax=255)"
      ],
      "execution_count": null,
      "outputs": [
        {
          "output_type": "stream",
          "name": "stdout",
          "text": [
            "Label: 4 (resistor)\n",
            "[[155 155 155 ... 163 163 161]\n",
            " [155 155 155 ... 163 163 163]\n",
            " [155 155 155 ... 163 163 163]\n",
            " ...\n",
            " [133 133 133 ... 157 157 157]\n",
            " [133 133 136 ... 155 155 155]\n",
            " [133 133 133 ... 155 157 157]]\n"
          ]
        },
        {
          "output_type": "execute_result",
          "data": {
            "text/plain": [
              "<matplotlib.image.AxesImage at 0x7ea33351ef20>"
            ]
          },
          "metadata": {},
          "execution_count": 6
        },
        {
          "output_type": "display_data",
          "data": {
            "text/plain": [
              "<Figure size 640x480 with 1 Axes>"
            ],
            "image/png": "[encoded data removed]"
          },
          "metadata": {}
        }
      ]
    },
    {
      "cell_type": "code",
      "metadata": {
        "id": "7eVgRZnHc6_y"
      },
      "source": [
        "### Function to resize list of images\n",
        "def resize_images(images, width, height, anti_aliasing=True):\n",
        "  \"\"\"\n",
        "  Prove a list of Numpy arrays (in images parameter) to have them all resized to desired height and\n",
        "  width. Returns the list of newly resized image arrays.\n",
        "\n",
        "  NOTE: skimage resize returns *normalized* image arrays (values between 0..1)\n",
        "  \"\"\"\n",
        "  X_out = []\n",
        "  for i, img in enumerate(images):\n",
        "    X_out.append(resize(img, (height, width), anti_aliasing=anti_aliasing))\n",
        "  return X_out"
      ],
      "execution_count": null,
      "outputs": []
    },
    {
      "cell_type": "code",
      "metadata": {
        "id": "YNpuq5Lxa9Ck"
      },
      "source": [
        "### Scale/crop images\n",
        "\n",
        "# Resize (scale) all images in the training set\n",
        "X_train = resize_images(X_train, TARGET_WIDTH, TARGET_HEIGHT)\n",
        "\n",
        "# Resize (scale) all images in the validation set\n",
        "X_val = resize_images(X_val, TARGET_WIDTH, TARGET_HEIGHT)\n",
        "\n",
        "# Resize (scale) all images in the test set\n",
        "X_test = resize_images(X_test, TARGET_WIDTH, TARGET_HEIGHT)"
      ],
      "execution_count": null,
      "outputs": []
    },
    {
      "cell_type": "code",
      "metadata": {
        "colab": {
          "base_uri": "https://localhost:8080/",
          "height": 552
        },
        "id": "tL9W4Pw1cVon",
        "outputId": "71077765-c162-4f0d-ea90-7b29d77daa2a"
      },
      "source": [
        "### View training sample again (after they all have been scaled)\n",
        "\n",
        "# Chose which sample you want to view\n",
        "idx = 0\n",
        "\n",
        "# Print out label (numbe and string) and part of the array\n",
        "print(\"Label: \" + str(y_train[idx]) + \" (\" + labels[y_train[idx]] + \")\")\n",
        "print(\"First row:\", X_train[idx][:1,:])\n",
        "\n",
        "# Display image from array (note that images have been normalized)\n",
        "plt.imshow(X_train[idx], cmap='gray', vmin=0, vmax=1)"
      ],
      "execution_count": null,
      "outputs": [
        {
          "output_type": "stream",
          "name": "stdout",
          "text": [
            "Label: 4 (resistor)\n",
            "First row: [[0.60804185 0.60892407 0.60909944 0.6125077  0.61549012 0.61451243\n",
            "  0.61570981 0.61728364 0.62504338 0.62537088 0.62816366 0.63699093\n",
            "  0.63908695 0.62877172 0.62679931 0.63881278 0.6392158  0.63921573\n",
            "  0.6392329  0.63922942 0.63921914 0.63925506 0.63882688 0.637844\n",
            "  0.63912157 0.63901708 0.63614987 0.6385497 ]]\n"
          ]
        },
        {
          "output_type": "execute_result",
          "data": {
            "text/plain": [
              "<matplotlib.image.AxesImage at 0x7ea332f35390>"
            ]
          },
          "metadata": {},
          "execution_count": 9
        },
        {
          "output_type": "display_data",
          "data": {
            "text/plain": [
              "<Figure size 640x480 with 1 Axes>"
            ],
            "image/png": "[encoded data removed]"
          },
          "metadata": {}
        }
      ]
    },
    {
      "cell_type": "code",
      "metadata": {
        "colab": {
          "base_uri": "https://localhost:8080/"
        },
        "id": "E13XUha044fM",
        "outputId": "e43c8bd7-13e6-47a5-b37a-21ec1ad7fc97"
      },
      "source": [
        "### Convert list of samples and labels into Numpy arrays\n",
        "\n",
        "# Training set\n",
        "X_train = np.asarray(X_train)\n",
        "y_train = np.asarray(y_train)\n",
        "\n",
        "# Validation set\n",
        "X_val = np.asarray(X_val)\n",
        "y_val = np.asarray(y_val)\n",
        "\n",
        "# Test set\n",
        "X_test = np.asarray(X_test)\n",
        "y_test = np.asarray(y_test)\n",
        "\n",
        "# Print out the new Numpy array shapes (always a good idea to check the shapes!)\n",
        "print(\"Training X:\", X_train.shape)\n",
        "print(\"Training y:\", y_train.shape)\n",
        "print(\"Validation X:\", X_val.shape)\n",
        "print(\"Validation y:\", y_val.shape)\n",
        "print(\"Test X:\", X_test.shape)\n",
        "print(\"Test y:\", y_test.shape)"
      ],
      "execution_count": null,
      "outputs": [
        {
          "output_type": "stream",
          "name": "stdout",
          "text": [
            "Training X: (150, 28, 28)\n",
            "Training y: (150,)\n",
            "Validation X: (50, 28, 28)\n",
            "Validation y: (50,)\n",
            "Test X: (50, 28, 28)\n",
            "Test y: (50,)\n"
          ]
        }
      ]
    },
    {
      "cell_type": "code",
      "metadata": {
        "id": "Bf-p0MnJ9csm",
        "colab": {
          "base_uri": "https://localhost:8080/"
        },
        "outputId": "2cb159ac-13d8-429c-8dff-c9b07a9b99ce"
      },
      "source": [
        "### Flatten each image to a 1D vector (DNN requires 1D input)\n",
        "\n",
        "# Compute length of 1D array that we will flatten each image to\n",
        "len_vector = TARGET_WIDTH * TARGET_WIDTH\n",
        "\n",
        "# Flatten matricies to vectors\n",
        "X_train = X_train.reshape(num_samples_train, len_vector)\n",
        "X_val = X_val.reshape(num_samples_val, len_vector)\n",
        "X_test = X_test.reshape(num_samples_test, len_vector)\n",
        "\n",
        "# Determine the input shape for our Keras model (must be tuple)\n",
        "input_shape = (X_train.shape[1],)\n",
        "\n",
        "# Print out shapes\n",
        "print(\"X train:\", X_train.shape)\n",
        "print(\"y train:\", y_train.shape)\n",
        "print(\"X val:\", X_val.shape)\n",
        "print(\"y val:\", y_val.shape)\n",
        "print(\"X test:\", X_test.shape)\n",
        "print(\"y test:\", y_test.shape)\n",
        "print(\"Input tensor shape:\", input_shape)"
      ],
      "execution_count": null,
      "outputs": [
        {
          "output_type": "stream",
          "name": "stdout",
          "text": [
            "X train: (150, 784)\n",
            "y train: (150,)\n",
            "X val: (50, 784)\n",
            "y val: (50,)\n",
            "X test: (50, 784)\n",
            "y test: (50,)\n",
            "Input tensor shape: (784,)\n"
          ]
        }
      ]
    },
    {
      "cell_type": "code",
      "metadata": {
        "id": "m2D1xsis98pW",
        "colab": {
          "base_uri": "https://localhost:8080/"
        },
        "outputId": "89088a86-5997-4b69-e8b2-35a68096cf89"
      },
      "source": [
        "### Convert labels (integers) to one-hot encoding\n",
        "\n",
        "# Get number of classes\n",
        "num_classes = len(labels)\n",
        "\n",
        "# Use Keras's np_utils to create one-hot encoding (note the capital 'Y' - 2D array)\n",
        "Y_train = utils.to_categorical(y_train, num_classes)\n",
        "Y_val = utils.to_categorical(y_val, num_classes)\n",
        "Y_test = utils.to_categorical(y_test, num_classes)\n",
        "\n",
        "# Print out shapes (capital 'Y' is our one-hot matrix!)\n",
        "print(\"Y train:\", Y_train.shape)\n",
        "print(\"Y val:\", Y_val.shape)\n",
        "print(\"Y test:\", Y_test.shape)\n",
        "\n",
        "# Print out a few examples from training set\n",
        "for i in range(10):\n",
        "  print(\"Label: \" + str(y_train[i]) + \" | One-hot:\", Y_train[i])"
      ],
      "execution_count": null,
      "outputs": [
        {
          "output_type": "stream",
          "name": "stdout",
          "text": [
            "Y train: (150, 5)\n",
            "Y val: (50, 5)\n",
            "Y test: (50, 5)\n",
            "Label: 4 | One-hot: [0. 0. 0. 0. 1.]\n",
            "Label: 4 | One-hot: [0. 0. 0. 0. 1.]\n",
            "Label: 0 | One-hot: [1. 0. 0. 0. 0.]\n",
            "Label: 0 | One-hot: [1. 0. 0. 0. 0.]\n",
            "Label: 0 | One-hot: [1. 0. 0. 0. 0.]\n",
            "Label: 3 | One-hot: [0. 0. 0. 1. 0.]\n",
            "Label: 4 | One-hot: [0. 0. 0. 0. 1.]\n",
            "Label: 1 | One-hot: [0. 1. 0. 0. 0.]\n",
            "Label: 4 | One-hot: [0. 0. 0. 0. 1.]\n",
            "Label: 3 | One-hot: [0. 0. 0. 1. 0.]\n"
          ]
        }
      ]
    },
    {
      "cell_type": "code",
      "metadata": {
        "id": "uJK-b2ds94w4",
        "colab": {
          "base_uri": "https://localhost:8080/"
        },
        "outputId": "18a7d0e9-bdde-4013-c478-cd30b9fe46f7"
      },
      "source": [
        "### Construct Keras model\n",
        "\n",
        "# A sequential model is a linear stack of layers\n",
        "model = Sequential()\n",
        "\n",
        "# First layer: fully-connected with relu activation\n",
        "model.add(Dense(64, input_shape=input_shape))\n",
        "model.add(Activation('relu'))\n",
        "model.add(Dropout(0.25))\n",
        "\n",
        "# Second layer: fully-connected with relu activation\n",
        "model.add(Dense(64))   # Input shape is determined automatically from previous layer\n",
        "model.add(Activation('relu'))\n",
        "model.add(Dropout(0.25))\n",
        "\n",
        "# Third layer: 10 nodes, one for each class, and softmax activation\n",
        "model.add(Dense(num_classes))\n",
        "model.add(Activation('softmax'))\n",
        "\n",
        "# Configure the model's training settings\n",
        "model.compile(loss='categorical_crossentropy', optimizer='adam', metrics=['acc'])\n",
        "\n",
        "# Print out model summary\n",
        "print(model.summary())"
      ],
      "execution_count": null,
      "outputs": [
        {
          "output_type": "stream",
          "name": "stdout",
          "text": [
            "Model: \"sequential\"\n",
            "_________________________________________________________________\n",
            " Layer (type)                Output Shape              Param #   \n",
            "=================================================================\n",
            " dense (Dense)               (None, 64)                50240     \n",
            "                                                                 \n",
            " activation (Activation)     (None, 64)                0         \n",
            "                                                                 \n",
            " dropout (Dropout)           (None, 64)                0         \n",
            "                                                                 \n",
            " dense_1 (Dense)             (None, 64)                4160      \n",
            "                                                                 \n",
            " activation_1 (Activation)   (None, 64)                0         \n",
            "                                                                 \n",
            " dropout_1 (Dropout)         (None, 64)                0         \n",
            "                                                                 \n",
            " dense_2 (Dense)             (None, 5)                 325       \n",
            "                                                                 \n",
            " activation_2 (Activation)   (None, 5)                 0         \n",
            "                                                                 \n",
            "=================================================================\n",
            "Total params: 54725 (213.77 KB)\n",
            "Trainable params: 54725 (213.77 KB)\n",
            "Non-trainable params: 0 (0.00 Byte)\n",
            "_________________________________________________________________\n",
            "None\n"
          ]
        }
      ]
    },
    {
      "cell_type": "code",
      "metadata": {
        "colab": {
          "base_uri": "https://localhost:8080/"
        },
        "id": "4Rc0O_86pmwb",
        "outputId": "0f7abdf0-fb5e-42fe-9999-d17791c299f1"
      },
      "source": [
        "### Train the model\n",
        "history = model.fit(X_train,\n",
        "                    Y_train,\n",
        "                    batch_size=32,\n",
        "                    epochs=200,\n",
        "                    verbose=1,\n",
        "                    validation_data=(X_val, Y_val))"
      ],
      "execution_count": null,
      "outputs": [
        {
          "output_type": "stream",
          "name": "stdout",
          "text": [
            "Epoch 1/200\n",
            "5/5 [==============================] - 1s 67ms/step - loss: 1.7258 - acc: 0.2200 - val_loss: 1.6000 - val_acc: 0.1800\n",
            "Epoch 2/200\n",
            "5/5 [==============================] - 0s 12ms/step - loss: 1.6189 - acc: 0.2200 - val_loss: 1.5295 - val_acc: 0.5200\n",
            "Epoch 3/200\n",
            "5/5 [==============================] - 0s 14ms/step - loss: 1.5554 - acc: 0.3400 - val_loss: 1.4845 - val_acc: 0.4400\n",
            "Epoch 4/200\n",
            "5/5 [==============================] - 0s 17ms/step - loss: 1.5439 - acc: 0.3400 - val_loss: 1.4491 - val_acc: 0.6800\n",
            "Epoch 5/200\n",
            "5/5 [==============================] - 0s 12ms/step - loss: 1.5086 - acc: 0.3600 - val_loss: 1.4366 - val_acc: 0.6200\n",
            "Epoch 6/200\n",
            "5/5 [==============================] - 0s 16ms/step - loss: 1.4445 - acc: 0.3733 - val_loss: 1.4175 - val_acc: 0.6800\n",
            "Epoch 7/200\n",
            "5/5 [==============================] - 0s 17ms/step - loss: 1.4510 - acc: 0.4133 - val_loss: 1.3534 - val_acc: 0.7600\n",
            "Epoch 8/200\n",
            "5/5 [==============================] - 0s 16ms/step - loss: 1.3854 - acc: 0.5333 - val_loss: 1.3230 - val_acc: 0.7400\n",
            "Epoch 9/200\n",
            "5/5 [==============================] - 0s 16ms/step - loss: 1.3314 - acc: 0.5200 - val_loss: 1.2789 - val_acc: 0.7400\n",
            "Epoch 10/200\n",
            "5/5 [==============================] - 0s 13ms/step - loss: 1.3483 - acc: 0.4467 - val_loss: 1.2022 - val_acc: 0.7400\n",
            "Epoch 11/200\n",
            "5/5 [==============================] - 0s 16ms/step - loss: 1.2585 - acc: 0.5267 - val_loss: 1.1307 - val_acc: 0.8000\n",
            "Epoch 12/200\n",
            "5/5 [==============================] - 0s 22ms/step - loss: 1.2399 - acc: 0.5267 - val_loss: 1.0847 - val_acc: 0.8000\n",
            "Epoch 13/200\n",
            "5/5 [==============================] - 0s 17ms/step - loss: 1.1872 - acc: 0.5400 - val_loss: 1.0290 - val_acc: 0.8000\n",
            "Epoch 14/200\n",
            "5/5 [==============================] - 0s 19ms/step - loss: 1.1784 - acc: 0.5600 - val_loss: 0.9942 - val_acc: 0.8200\n",
            "Epoch 15/200\n",
            "5/5 [==============================] - 0s 16ms/step - loss: 1.1280 - acc: 0.5333 - val_loss: 0.9591 - val_acc: 0.7600\n",
            "Epoch 16/200\n",
            "5/5 [==============================] - 0s 21ms/step - loss: 1.0742 - acc: 0.5533 - val_loss: 0.8785 - val_acc: 0.8200\n",
            "Epoch 17/200\n",
            "5/5 [==============================] - 0s 16ms/step - loss: 1.0541 - acc: 0.6133 - val_loss: 0.8533 - val_acc: 0.8000\n",
            "Epoch 18/200\n",
            "5/5 [==============================] - 0s 16ms/step - loss: 0.9756 - acc: 0.6333 - val_loss: 0.8303 - val_acc: 0.8200\n",
            "Epoch 19/200\n",
            "5/5 [==============================] - 0s 16ms/step - loss: 0.9627 - acc: 0.6267 - val_loss: 0.8024 - val_acc: 0.8200\n",
            "Epoch 20/200\n",
            "5/5 [==============================] - 0s 16ms/step - loss: 0.9171 - acc: 0.6333 - val_loss: 0.7674 - val_acc: 0.8400\n",
            "Epoch 21/200\n",
            "5/5 [==============================] - 0s 21ms/step - loss: 0.9404 - acc: 0.5867 - val_loss: 0.7106 - val_acc: 0.8200\n",
            "Epoch 22/200\n",
            "5/5 [==============================] - 0s 21ms/step - loss: 0.8599 - acc: 0.6067 - val_loss: 0.7119 - val_acc: 0.8200\n",
            "Epoch 23/200\n",
            "5/5 [==============================] - 0s 17ms/step - loss: 0.8633 - acc: 0.6800 - val_loss: 0.6836 - val_acc: 0.8400\n",
            "Epoch 24/200\n",
            "5/5 [==============================] - 0s 20ms/step - loss: 0.8246 - acc: 0.6867 - val_loss: 0.6410 - val_acc: 0.8400\n",
            "Epoch 25/200\n",
            "5/5 [==============================] - 0s 21ms/step - loss: 0.8684 - acc: 0.6467 - val_loss: 0.6564 - val_acc: 0.8600\n",
            "Epoch 26/200\n",
            "5/5 [==============================] - 0s 18ms/step - loss: 0.7515 - acc: 0.6933 - val_loss: 0.6234 - val_acc: 0.8000\n",
            "Epoch 27/200\n",
            "5/5 [==============================] - 0s 19ms/step - loss: 0.8362 - acc: 0.6667 - val_loss: 0.6198 - val_acc: 0.8000\n",
            "Epoch 28/200\n",
            "5/5 [==============================] - 0s 20ms/step - loss: 0.8421 - acc: 0.6333 - val_loss: 0.5943 - val_acc: 0.8600\n",
            "Epoch 29/200\n",
            "5/5 [==============================] - 0s 21ms/step - loss: 0.7805 - acc: 0.6733 - val_loss: 0.5945 - val_acc: 0.8600\n",
            "Epoch 30/200\n",
            "5/5 [==============================] - 0s 21ms/step - loss: 0.7717 - acc: 0.7000 - val_loss: 0.5589 - val_acc: 0.8800\n",
            "Epoch 31/200\n",
            "5/5 [==============================] - 0s 18ms/step - loss: 0.7285 - acc: 0.7000 - val_loss: 0.5462 - val_acc: 0.8200\n",
            "Epoch 32/200\n",
            "5/5 [==============================] - 0s 17ms/step - loss: 0.7056 - acc: 0.7067 - val_loss: 0.5102 - val_acc: 0.8400\n",
            "Epoch 33/200\n",
            "5/5 [==============================] - 0s 17ms/step - loss: 0.6856 - acc: 0.7000 - val_loss: 0.5395 - val_acc: 0.8200\n",
            "Epoch 34/200\n",
            "5/5 [==============================] - 0s 24ms/step - loss: 0.6424 - acc: 0.7400 - val_loss: 0.4958 - val_acc: 0.8400\n",
            "Epoch 35/200\n",
            "5/5 [==============================] - 0s 21ms/step - loss: 0.6224 - acc: 0.7333 - val_loss: 0.4902 - val_acc: 0.8200\n",
            "Epoch 36/200\n",
            "5/5 [==============================] - 0s 19ms/step - loss: 0.6331 - acc: 0.7133 - val_loss: 0.4781 - val_acc: 0.8400\n",
            "Epoch 37/200\n",
            "5/5 [==============================] - 0s 21ms/step - loss: 0.6240 - acc: 0.7467 - val_loss: 0.4746 - val_acc: 0.8800\n",
            "Epoch 38/200\n",
            "5/5 [==============================] - 0s 23ms/step - loss: 0.6020 - acc: 0.7533 - val_loss: 0.4942 - val_acc: 0.8800\n",
            "Epoch 39/200\n",
            "5/5 [==============================] - 0s 20ms/step - loss: 0.6140 - acc: 0.7600 - val_loss: 0.4545 - val_acc: 0.8200\n",
            "Epoch 40/200\n",
            "5/5 [==============================] - 0s 20ms/step - loss: 0.6112 - acc: 0.7600 - val_loss: 0.4484 - val_acc: 0.8600\n",
            "Epoch 41/200\n",
            "5/5 [==============================] - 0s 22ms/step - loss: 0.5495 - acc: 0.7800 - val_loss: 0.4431 - val_acc: 0.8200\n",
            "Epoch 42/200\n",
            "5/5 [==============================] - 0s 16ms/step - loss: 0.5491 - acc: 0.7467 - val_loss: 0.4379 - val_acc: 0.8400\n",
            "Epoch 43/200\n",
            "5/5 [==============================] - 0s 12ms/step - loss: 0.6576 - acc: 0.7200 - val_loss: 0.4544 - val_acc: 0.8800\n",
            "Epoch 44/200\n",
            "5/5 [==============================] - 0s 35ms/step - loss: 0.5826 - acc: 0.7333 - val_loss: 0.4467 - val_acc: 0.8400\n",
            "Epoch 45/200\n",
            "5/5 [==============================] - 0s 46ms/step - loss: 0.5618 - acc: 0.7667 - val_loss: 0.4625 - val_acc: 0.9000\n",
            "Epoch 46/200\n",
            "5/5 [==============================] - 0s 55ms/step - loss: 0.6117 - acc: 0.7667 - val_loss: 0.4401 - val_acc: 0.9000\n",
            "Epoch 47/200\n",
            "5/5 [==============================] - 0s 45ms/step - loss: 0.4900 - acc: 0.8067 - val_loss: 0.4040 - val_acc: 0.8800\n",
            "Epoch 48/200\n",
            "5/5 [==============================] - 0s 14ms/step - loss: 0.5486 - acc: 0.7533 - val_loss: 0.4077 - val_acc: 0.9000\n",
            "Epoch 49/200\n",
            "5/5 [==============================] - 0s 16ms/step - loss: 0.5260 - acc: 0.7667 - val_loss: 0.4431 - val_acc: 0.8600\n",
            "Epoch 50/200\n",
            "5/5 [==============================] - 0s 14ms/step - loss: 0.5707 - acc: 0.7800 - val_loss: 0.4674 - val_acc: 0.9000\n",
            "Epoch 51/200\n",
            "5/5 [==============================] - 0s 16ms/step - loss: 0.5376 - acc: 0.7533 - val_loss: 0.4160 - val_acc: 0.9000\n",
            "Epoch 52/200\n",
            "5/5 [==============================] - 0s 14ms/step - loss: 0.5280 - acc: 0.7867 - val_loss: 0.3954 - val_acc: 0.8800\n",
            "Epoch 53/200\n",
            "5/5 [==============================] - 0s 34ms/step - loss: 0.5154 - acc: 0.7733 - val_loss: 0.4383 - val_acc: 0.8600\n",
            "Epoch 54/200\n",
            "5/5 [==============================] - 0s 42ms/step - loss: 0.5009 - acc: 0.8067 - val_loss: 0.4039 - val_acc: 0.9000\n",
            "Epoch 55/200\n",
            "5/5 [==============================] - 0s 42ms/step - loss: 0.4726 - acc: 0.8000 - val_loss: 0.3906 - val_acc: 0.9000\n",
            "Epoch 56/200\n",
            "5/5 [==============================] - 0s 33ms/step - loss: 0.4669 - acc: 0.8200 - val_loss: 0.4185 - val_acc: 0.9000\n",
            "Epoch 57/200\n",
            "5/5 [==============================] - 0s 36ms/step - loss: 0.5274 - acc: 0.7867 - val_loss: 0.3989 - val_acc: 0.8600\n",
            "Epoch 58/200\n",
            "5/5 [==============================] - 0s 15ms/step - loss: 0.5276 - acc: 0.7867 - val_loss: 0.3746 - val_acc: 0.8600\n",
            "Epoch 59/200\n",
            "5/5 [==============================] - 0s 18ms/step - loss: 0.4605 - acc: 0.7933 - val_loss: 0.3965 - val_acc: 0.9200\n",
            "Epoch 60/200\n",
            "5/5 [==============================] - 0s 13ms/step - loss: 0.5115 - acc: 0.7600 - val_loss: 0.3976 - val_acc: 0.9000\n",
            "Epoch 61/200\n",
            "5/5 [==============================] - 0s 16ms/step - loss: 0.4785 - acc: 0.8000 - val_loss: 0.3993 - val_acc: 0.8000\n",
            "Epoch 62/200\n",
            "5/5 [==============================] - 0s 12ms/step - loss: 0.4993 - acc: 0.7867 - val_loss: 0.4106 - val_acc: 0.9400\n",
            "Epoch 63/200\n",
            "5/5 [==============================] - 0s 15ms/step - loss: 0.4894 - acc: 0.7800 - val_loss: 0.3751 - val_acc: 0.9400\n",
            "Epoch 64/200\n",
            "5/5 [==============================] - 0s 35ms/step - loss: 0.4384 - acc: 0.8067 - val_loss: 0.3625 - val_acc: 0.8800\n",
            "Epoch 65/200\n",
            "5/5 [==============================] - 0s 64ms/step - loss: 0.4512 - acc: 0.8000 - val_loss: 0.3683 - val_acc: 0.8800\n",
            "Epoch 66/200\n",
            "5/5 [==============================] - 0s 67ms/step - loss: 0.4075 - acc: 0.8533 - val_loss: 0.3746 - val_acc: 0.9400\n",
            "Epoch 67/200\n",
            "5/5 [==============================] - 0s 58ms/step - loss: 0.4885 - acc: 0.7800 - val_loss: 0.3593 - val_acc: 0.8800\n",
            "Epoch 68/200\n",
            "5/5 [==============================] - 0s 19ms/step - loss: 0.4300 - acc: 0.8533 - val_loss: 0.3498 - val_acc: 0.9200\n",
            "Epoch 69/200\n",
            "5/5 [==============================] - 0s 16ms/step - loss: 0.4690 - acc: 0.8067 - val_loss: 0.3532 - val_acc: 0.9200\n",
            "Epoch 70/200\n",
            "5/5 [==============================] - 0s 23ms/step - loss: 0.3746 - acc: 0.8600 - val_loss: 0.3379 - val_acc: 0.9600\n",
            "Epoch 71/200\n",
            "5/5 [==============================] - 0s 21ms/step - loss: 0.3523 - acc: 0.8533 - val_loss: 0.3589 - val_acc: 0.9600\n",
            "Epoch 72/200\n",
            "5/5 [==============================] - 0s 19ms/step - loss: 0.4065 - acc: 0.8400 - val_loss: 0.3497 - val_acc: 0.9400\n",
            "Epoch 73/200\n",
            "5/5 [==============================] - 0s 16ms/step - loss: 0.3939 - acc: 0.8267 - val_loss: 0.3506 - val_acc: 0.9400\n",
            "Epoch 74/200\n",
            "5/5 [==============================] - 0s 18ms/step - loss: 0.4050 - acc: 0.8267 - val_loss: 0.3357 - val_acc: 0.9600\n",
            "Epoch 75/200\n",
            "5/5 [==============================] - 0s 19ms/step - loss: 0.3888 - acc: 0.8467 - val_loss: 0.3425 - val_acc: 0.9200\n",
            "Epoch 76/200\n",
            "5/5 [==============================] - 0s 17ms/step - loss: 0.3696 - acc: 0.8467 - val_loss: 0.3316 - val_acc: 0.9400\n",
            "Epoch 77/200\n",
            "5/5 [==============================] - 0s 22ms/step - loss: 0.4022 - acc: 0.8267 - val_loss: 0.3455 - val_acc: 0.9400\n",
            "Epoch 78/200\n",
            "5/5 [==============================] - 0s 21ms/step - loss: 0.3752 - acc: 0.8667 - val_loss: 0.3335 - val_acc: 0.9400\n",
            "Epoch 79/200\n",
            "5/5 [==============================] - 0s 20ms/step - loss: 0.3591 - acc: 0.8667 - val_loss: 0.3191 - val_acc: 0.9200\n",
            "Epoch 80/200\n",
            "5/5 [==============================] - 0s 20ms/step - loss: 0.3410 - acc: 0.8600 - val_loss: 0.3419 - val_acc: 0.9600\n",
            "Epoch 81/200\n",
            "5/5 [==============================] - 0s 20ms/step - loss: 0.3546 - acc: 0.8733 - val_loss: 0.3293 - val_acc: 0.9600\n",
            "Epoch 82/200\n",
            "5/5 [==============================] - 0s 19ms/step - loss: 0.3576 - acc: 0.8267 - val_loss: 0.3479 - val_acc: 0.9400\n",
            "Epoch 83/200\n",
            "5/5 [==============================] - 0s 21ms/step - loss: 0.3210 - acc: 0.8800 - val_loss: 0.3221 - val_acc: 0.9600\n",
            "Epoch 84/200\n",
            "5/5 [==============================] - 0s 20ms/step - loss: 0.3615 - acc: 0.8667 - val_loss: 0.3115 - val_acc: 0.9600\n",
            "Epoch 85/200\n",
            "5/5 [==============================] - 0s 15ms/step - loss: 0.3638 - acc: 0.8600 - val_loss: 0.3220 - val_acc: 0.9600\n",
            "Epoch 86/200\n",
            "5/5 [==============================] - 0s 21ms/step - loss: 0.3935 - acc: 0.8467 - val_loss: 0.3542 - val_acc: 0.9400\n",
            "Epoch 87/200\n",
            "5/5 [==============================] - 0s 17ms/step - loss: 0.3311 - acc: 0.8800 - val_loss: 0.3308 - val_acc: 0.9400\n",
            "Epoch 88/200\n",
            "5/5 [==============================] - 0s 17ms/step - loss: 0.4185 - acc: 0.8200 - val_loss: 0.3226 - val_acc: 0.9400\n",
            "Epoch 89/200\n",
            "5/5 [==============================] - 0s 20ms/step - loss: 0.3302 - acc: 0.8933 - val_loss: 0.3157 - val_acc: 0.9600\n",
            "Epoch 90/200\n",
            "5/5 [==============================] - 0s 20ms/step - loss: 0.3153 - acc: 0.8467 - val_loss: 0.3154 - val_acc: 0.9600\n",
            "Epoch 91/200\n",
            "5/5 [==============================] - 0s 18ms/step - loss: 0.3823 - acc: 0.8400 - val_loss: 0.3153 - val_acc: 0.9600\n",
            "Epoch 92/200\n",
            "5/5 [==============================] - 0s 22ms/step - loss: 0.3176 - acc: 0.8800 - val_loss: 0.3358 - val_acc: 0.9400\n",
            "Epoch 93/200\n",
            "5/5 [==============================] - 0s 18ms/step - loss: 0.3293 - acc: 0.8600 - val_loss: 0.3070 - val_acc: 0.9400\n",
            "Epoch 94/200\n",
            "5/5 [==============================] - 0s 13ms/step - loss: 0.3596 - acc: 0.8467 - val_loss: 0.3130 - val_acc: 0.9600\n",
            "Epoch 95/200\n",
            "5/5 [==============================] - 0s 12ms/step - loss: 0.3886 - acc: 0.8467 - val_loss: 0.3580 - val_acc: 0.8800\n",
            "Epoch 96/200\n",
            "5/5 [==============================] - 0s 12ms/step - loss: 0.3163 - acc: 0.8867 - val_loss: 0.3318 - val_acc: 0.9200\n",
            "Epoch 97/200\n",
            "5/5 [==============================] - 0s 12ms/step - loss: 0.3271 - acc: 0.8667 - val_loss: 0.3014 - val_acc: 0.9600\n",
            "Epoch 98/200\n",
            "5/5 [==============================] - 0s 13ms/step - loss: 0.3178 - acc: 0.8733 - val_loss: 0.3189 - val_acc: 0.9400\n",
            "Epoch 99/200\n",
            "5/5 [==============================] - 0s 15ms/step - loss: 0.3193 - acc: 0.8600 - val_loss: 0.3239 - val_acc: 0.9600\n",
            "Epoch 100/200\n",
            "5/5 [==============================] - 0s 13ms/step - loss: 0.2728 - acc: 0.8867 - val_loss: 0.3372 - val_acc: 0.9400\n",
            "Epoch 101/200\n",
            "5/5 [==============================] - 0s 20ms/step - loss: 0.3088 - acc: 0.9067 - val_loss: 0.3098 - val_acc: 0.9400\n",
            "Epoch 102/200\n",
            "5/5 [==============================] - 0s 17ms/step - loss: 0.3319 - acc: 0.8533 - val_loss: 0.3100 - val_acc: 0.9600\n",
            "Epoch 103/200\n",
            "5/5 [==============================] - 0s 12ms/step - loss: 0.3976 - acc: 0.7933 - val_loss: 0.3377 - val_acc: 0.9000\n",
            "Epoch 104/200\n",
            "5/5 [==============================] - 0s 13ms/step - loss: 0.2998 - acc: 0.8933 - val_loss: 0.3086 - val_acc: 0.9400\n",
            "Epoch 105/200\n",
            "5/5 [==============================] - 0s 17ms/step - loss: 0.3614 - acc: 0.8733 - val_loss: 0.3209 - val_acc: 0.9400\n",
            "Epoch 106/200\n",
            "5/5 [==============================] - 0s 12ms/step - loss: 0.3038 - acc: 0.8867 - val_loss: 0.3209 - val_acc: 0.9400\n",
            "Epoch 107/200\n",
            "5/5 [==============================] - 0s 14ms/step - loss: 0.3734 - acc: 0.8333 - val_loss: 0.2994 - val_acc: 0.9600\n",
            "Epoch 108/200\n",
            "5/5 [==============================] - 0s 13ms/step - loss: 0.2784 - acc: 0.8800 - val_loss: 0.3236 - val_acc: 0.9400\n",
            "Epoch 109/200\n",
            "5/5 [==============================] - 0s 16ms/step - loss: 0.3215 - acc: 0.8800 - val_loss: 0.3141 - val_acc: 0.9400\n",
            "Epoch 110/200\n",
            "5/5 [==============================] - 0s 14ms/step - loss: 0.2895 - acc: 0.9000 - val_loss: 0.3015 - val_acc: 0.9600\n",
            "Epoch 111/200\n",
            "5/5 [==============================] - 0s 16ms/step - loss: 0.2993 - acc: 0.8867 - val_loss: 0.2957 - val_acc: 0.9600\n",
            "Epoch 112/200\n",
            "5/5 [==============================] - 0s 16ms/step - loss: 0.2707 - acc: 0.8800 - val_loss: 0.3053 - val_acc: 0.9600\n",
            "Epoch 113/200\n",
            "5/5 [==============================] - 0s 16ms/step - loss: 0.2523 - acc: 0.9000 - val_loss: 0.2995 - val_acc: 0.9600\n",
            "Epoch 114/200\n",
            "5/5 [==============================] - 0s 12ms/step - loss: 0.2882 - acc: 0.8933 - val_loss: 0.2861 - val_acc: 0.9600\n",
            "Epoch 115/200\n",
            "5/5 [==============================] - 0s 18ms/step - loss: 0.2525 - acc: 0.8800 - val_loss: 0.2829 - val_acc: 0.9600\n",
            "Epoch 116/200\n",
            "5/5 [==============================] - 0s 13ms/step - loss: 0.2949 - acc: 0.8933 - val_loss: 0.2908 - val_acc: 0.9600\n",
            "Epoch 117/200\n",
            "5/5 [==============================] - 0s 16ms/step - loss: 0.2488 - acc: 0.9000 - val_loss: 0.2865 - val_acc: 0.9600\n",
            "Epoch 118/200\n",
            "5/5 [==============================] - 0s 16ms/step - loss: 0.2753 - acc: 0.8867 - val_loss: 0.2984 - val_acc: 0.9600\n",
            "Epoch 119/200\n",
            "5/5 [==============================] - 0s 17ms/step - loss: 0.3098 - acc: 0.8467 - val_loss: 0.3240 - val_acc: 0.9400\n",
            "Epoch 120/200\n",
            "5/5 [==============================] - 0s 12ms/step - loss: 0.2479 - acc: 0.9067 - val_loss: 0.2980 - val_acc: 0.9600\n",
            "Epoch 121/200\n",
            "5/5 [==============================] - 0s 16ms/step - loss: 0.2089 - acc: 0.9467 - val_loss: 0.2763 - val_acc: 0.9600\n",
            "Epoch 122/200\n",
            "5/5 [==============================] - 0s 14ms/step - loss: 0.2666 - acc: 0.9200 - val_loss: 0.2861 - val_acc: 0.9600\n",
            "Epoch 123/200\n",
            "5/5 [==============================] - 0s 16ms/step - loss: 0.2955 - acc: 0.8867 - val_loss: 0.3206 - val_acc: 0.9200\n",
            "Epoch 124/200\n",
            "5/5 [==============================] - 0s 14ms/step - loss: 0.2558 - acc: 0.8933 - val_loss: 0.3011 - val_acc: 0.9600\n",
            "Epoch 125/200\n",
            "5/5 [==============================] - 0s 13ms/step - loss: 0.2628 - acc: 0.9000 - val_loss: 0.2952 - val_acc: 0.9600\n",
            "Epoch 126/200\n",
            "5/5 [==============================] - 0s 16ms/step - loss: 0.2501 - acc: 0.9133 - val_loss: 0.2891 - val_acc: 0.9600\n",
            "Epoch 127/200\n",
            "5/5 [==============================] - 0s 17ms/step - loss: 0.3195 - acc: 0.8667 - val_loss: 0.2780 - val_acc: 0.9400\n",
            "Epoch 128/200\n",
            "5/5 [==============================] - 0s 11ms/step - loss: 0.3042 - acc: 0.8533 - val_loss: 0.2765 - val_acc: 0.9600\n",
            "Epoch 129/200\n",
            "5/5 [==============================] - 0s 16ms/step - loss: 0.2531 - acc: 0.9133 - val_loss: 0.2856 - val_acc: 0.9600\n",
            "Epoch 130/200\n",
            "5/5 [==============================] - 0s 17ms/step - loss: 0.2762 - acc: 0.8867 - val_loss: 0.2969 - val_acc: 0.9400\n",
            "Epoch 131/200\n",
            "5/5 [==============================] - 0s 12ms/step - loss: 0.2557 - acc: 0.8867 - val_loss: 0.2883 - val_acc: 0.9400\n",
            "Epoch 132/200\n",
            "5/5 [==============================] - 0s 17ms/step - loss: 0.2673 - acc: 0.8933 - val_loss: 0.2905 - val_acc: 0.9400\n",
            "Epoch 133/200\n",
            "5/5 [==============================] - 0s 12ms/step - loss: 0.2686 - acc: 0.8867 - val_loss: 0.2927 - val_acc: 0.9400\n",
            "Epoch 134/200\n",
            "5/5 [==============================] - 0s 19ms/step - loss: 0.2761 - acc: 0.8800 - val_loss: 0.2891 - val_acc: 0.9600\n",
            "Epoch 135/200\n",
            "5/5 [==============================] - 0s 13ms/step - loss: 0.2513 - acc: 0.9133 - val_loss: 0.2892 - val_acc: 0.9600\n",
            "Epoch 136/200\n",
            "5/5 [==============================] - 0s 17ms/step - loss: 0.2375 - acc: 0.9067 - val_loss: 0.3010 - val_acc: 0.9600\n",
            "Epoch 137/200\n",
            "5/5 [==============================] - 0s 12ms/step - loss: 0.2232 - acc: 0.9000 - val_loss: 0.2900 - val_acc: 0.9600\n",
            "Epoch 138/200\n",
            "5/5 [==============================] - 0s 15ms/step - loss: 0.2609 - acc: 0.8933 - val_loss: 0.2850 - val_acc: 0.9600\n",
            "Epoch 139/200\n",
            "5/5 [==============================] - 0s 12ms/step - loss: 0.2161 - acc: 0.9067 - val_loss: 0.2850 - val_acc: 0.9600\n",
            "Epoch 140/200\n",
            "5/5 [==============================] - 0s 16ms/step - loss: 0.3139 - acc: 0.8533 - val_loss: 0.2920 - val_acc: 0.9600\n",
            "Epoch 141/200\n",
            "5/5 [==============================] - 0s 12ms/step - loss: 0.3002 - acc: 0.8733 - val_loss: 0.2903 - val_acc: 0.9600\n",
            "Epoch 142/200\n",
            "5/5 [==============================] - 0s 14ms/step - loss: 0.2769 - acc: 0.8933 - val_loss: 0.3073 - val_acc: 0.9600\n",
            "Epoch 143/200\n",
            "5/5 [==============================] - 0s 12ms/step - loss: 0.2274 - acc: 0.9133 - val_loss: 0.3081 - val_acc: 0.9600\n",
            "Epoch 144/200\n",
            "5/5 [==============================] - 0s 13ms/step - loss: 0.2701 - acc: 0.8600 - val_loss: 0.3013 - val_acc: 0.9600\n",
            "Epoch 145/200\n",
            "5/5 [==============================] - 0s 12ms/step - loss: 0.2798 - acc: 0.8733 - val_loss: 0.2970 - val_acc: 0.9600\n",
            "Epoch 146/200\n",
            "5/5 [==============================] - 0s 13ms/step - loss: 0.2930 - acc: 0.8800 - val_loss: 0.2930 - val_acc: 0.9600\n",
            "Epoch 147/200\n",
            "5/5 [==============================] - 0s 13ms/step - loss: 0.3082 - acc: 0.8667 - val_loss: 0.2943 - val_acc: 0.9600\n",
            "Epoch 148/200\n",
            "5/5 [==============================] - 0s 13ms/step - loss: 0.2615 - acc: 0.8800 - val_loss: 0.2843 - val_acc: 0.9600\n",
            "Epoch 149/200\n",
            "5/5 [==============================] - 0s 12ms/step - loss: 0.2798 - acc: 0.9000 - val_loss: 0.2999 - val_acc: 0.9600\n",
            "Epoch 150/200\n",
            "5/5 [==============================] - 0s 22ms/step - loss: 0.2240 - acc: 0.9200 - val_loss: 0.2939 - val_acc: 0.9600\n",
            "Epoch 151/200\n",
            "5/5 [==============================] - 0s 20ms/step - loss: 0.2340 - acc: 0.9133 - val_loss: 0.3058 - val_acc: 0.9600\n",
            "Epoch 152/200\n",
            "5/5 [==============================] - 0s 23ms/step - loss: 0.2396 - acc: 0.9000 - val_loss: 0.3181 - val_acc: 0.9400\n",
            "Epoch 153/200\n",
            "5/5 [==============================] - 0s 18ms/step - loss: 0.1966 - acc: 0.9133 - val_loss: 0.3263 - val_acc: 0.9400\n",
            "Epoch 154/200\n",
            "5/5 [==============================] - 0s 17ms/step - loss: 0.2171 - acc: 0.9400 - val_loss: 0.3067 - val_acc: 0.9600\n",
            "Epoch 155/200\n",
            "5/5 [==============================] - 0s 17ms/step - loss: 0.2237 - acc: 0.9000 - val_loss: 0.2928 - val_acc: 0.9600\n",
            "Epoch 156/200\n",
            "5/5 [==============================] - 0s 17ms/step - loss: 0.2263 - acc: 0.9200 - val_loss: 0.3015 - val_acc: 0.9600\n",
            "Epoch 157/200\n",
            "5/5 [==============================] - 0s 23ms/step - loss: 0.2173 - acc: 0.9133 - val_loss: 0.3114 - val_acc: 0.9600\n",
            "Epoch 158/200\n",
            "5/5 [==============================] - 0s 22ms/step - loss: 0.1793 - acc: 0.9200 - val_loss: 0.2865 - val_acc: 0.9600\n",
            "Epoch 159/200\n",
            "5/5 [==============================] - 0s 16ms/step - loss: 0.2481 - acc: 0.8867 - val_loss: 0.2905 - val_acc: 0.9600\n",
            "Epoch 160/200\n",
            "5/5 [==============================] - 0s 22ms/step - loss: 0.2187 - acc: 0.9200 - val_loss: 0.2866 - val_acc: 0.9600\n",
            "Epoch 161/200\n",
            "5/5 [==============================] - 0s 21ms/step - loss: 0.1911 - acc: 0.9333 - val_loss: 0.2929 - val_acc: 0.9600\n",
            "Epoch 162/200\n",
            "5/5 [==============================] - 0s 17ms/step - loss: 0.1704 - acc: 0.9400 - val_loss: 0.2938 - val_acc: 0.9600\n",
            "Epoch 163/200\n",
            "5/5 [==============================] - 0s 19ms/step - loss: 0.2477 - acc: 0.8733 - val_loss: 0.3069 - val_acc: 0.9600\n",
            "Epoch 164/200\n",
            "5/5 [==============================] - 0s 22ms/step - loss: 0.2353 - acc: 0.9333 - val_loss: 0.3019 - val_acc: 0.9600\n",
            "Epoch 165/200\n",
            "5/5 [==============================] - 0s 20ms/step - loss: 0.2082 - acc: 0.9133 - val_loss: 0.2957 - val_acc: 0.9600\n",
            "Epoch 166/200\n",
            "5/5 [==============================] - 0s 22ms/step - loss: 0.2824 - acc: 0.8733 - val_loss: 0.2824 - val_acc: 0.9600\n",
            "Epoch 167/200\n",
            "5/5 [==============================] - 0s 23ms/step - loss: 0.1887 - acc: 0.9267 - val_loss: 0.3102 - val_acc: 0.9600\n",
            "Epoch 168/200\n",
            "5/5 [==============================] - 0s 16ms/step - loss: 0.2193 - acc: 0.9067 - val_loss: 0.2991 - val_acc: 0.9600\n",
            "Epoch 169/200\n",
            "5/5 [==============================] - 0s 20ms/step - loss: 0.2073 - acc: 0.9200 - val_loss: 0.3248 - val_acc: 0.9400\n",
            "Epoch 170/200\n",
            "5/5 [==============================] - 0s 16ms/step - loss: 0.2328 - acc: 0.8800 - val_loss: 0.2984 - val_acc: 0.9600\n",
            "Epoch 171/200\n",
            "5/5 [==============================] - 0s 20ms/step - loss: 0.2454 - acc: 0.8867 - val_loss: 0.2925 - val_acc: 0.9600\n",
            "Epoch 172/200\n",
            "5/5 [==============================] - 0s 20ms/step - loss: 0.2299 - acc: 0.8933 - val_loss: 0.3144 - val_acc: 0.9400\n",
            "Epoch 173/200\n",
            "5/5 [==============================] - 0s 21ms/step - loss: 0.2344 - acc: 0.9000 - val_loss: 0.2893 - val_acc: 0.9600\n",
            "Epoch 174/200\n",
            "5/5 [==============================] - 0s 16ms/step - loss: 0.2059 - acc: 0.9067 - val_loss: 0.2895 - val_acc: 0.9600\n",
            "Epoch 175/200\n",
            "5/5 [==============================] - 0s 23ms/step - loss: 0.2459 - acc: 0.9133 - val_loss: 0.2853 - val_acc: 0.9600\n",
            "Epoch 176/200\n",
            "5/5 [==============================] - 0s 22ms/step - loss: 0.1785 - acc: 0.9467 - val_loss: 0.3052 - val_acc: 0.9600\n",
            "Epoch 177/200\n",
            "5/5 [==============================] - 0s 20ms/step - loss: 0.2022 - acc: 0.9133 - val_loss: 0.3090 - val_acc: 0.9600\n",
            "Epoch 178/200\n",
            "5/5 [==============================] - 0s 17ms/step - loss: 0.1474 - acc: 0.9400 - val_loss: 0.2977 - val_acc: 0.9600\n",
            "Epoch 179/200\n",
            "5/5 [==============================] - 0s 20ms/step - loss: 0.1842 - acc: 0.9400 - val_loss: 0.3017 - val_acc: 0.9600\n",
            "Epoch 180/200\n",
            "5/5 [==============================] - 0s 21ms/step - loss: 0.2291 - acc: 0.9200 - val_loss: 0.3061 - val_acc: 0.9600\n",
            "Epoch 181/200\n",
            "5/5 [==============================] - 0s 17ms/step - loss: 0.1797 - acc: 0.9267 - val_loss: 0.3054 - val_acc: 0.9600\n",
            "Epoch 182/200\n",
            "5/5 [==============================] - 0s 17ms/step - loss: 0.2156 - acc: 0.9200 - val_loss: 0.3043 - val_acc: 0.9600\n",
            "Epoch 183/200\n",
            "5/5 [==============================] - 0s 16ms/step - loss: 0.2080 - acc: 0.9200 - val_loss: 0.3055 - val_acc: 0.9600\n",
            "Epoch 184/200\n",
            "5/5 [==============================] - 0s 16ms/step - loss: 0.2319 - acc: 0.8933 - val_loss: 0.3145 - val_acc: 0.9400\n",
            "Epoch 185/200\n",
            "5/5 [==============================] - 0s 17ms/step - loss: 0.1849 - acc: 0.9467 - val_loss: 0.3017 - val_acc: 0.9600\n",
            "Epoch 186/200\n",
            "5/5 [==============================] - 0s 15ms/step - loss: 0.2280 - acc: 0.9133 - val_loss: 0.3017 - val_acc: 0.9600\n",
            "Epoch 187/200\n",
            "5/5 [==============================] - 0s 16ms/step - loss: 0.1702 - acc: 0.9333 - val_loss: 0.3066 - val_acc: 0.9600\n",
            "Epoch 188/200\n",
            "5/5 [==============================] - 0s 12ms/step - loss: 0.2333 - acc: 0.8800 - val_loss: 0.3299 - val_acc: 0.9600\n",
            "Epoch 189/200\n",
            "5/5 [==============================] - 0s 12ms/step - loss: 0.2083 - acc: 0.8933 - val_loss: 0.2978 - val_acc: 0.9600\n",
            "Epoch 190/200\n",
            "5/5 [==============================] - 0s 12ms/step - loss: 0.1720 - acc: 0.9400 - val_loss: 0.2976 - val_acc: 0.9600\n",
            "Epoch 191/200\n",
            "5/5 [==============================] - 0s 13ms/step - loss: 0.2596 - acc: 0.8933 - val_loss: 0.3166 - val_acc: 0.9600\n",
            "Epoch 192/200\n",
            "5/5 [==============================] - 0s 12ms/step - loss: 0.1804 - acc: 0.9600 - val_loss: 0.3205 - val_acc: 0.9400\n",
            "Epoch 193/200\n",
            "5/5 [==============================] - 0s 16ms/step - loss: 0.2386 - acc: 0.9000 - val_loss: 0.2989 - val_acc: 0.9600\n",
            "Epoch 194/200\n",
            "5/5 [==============================] - 0s 14ms/step - loss: 0.1872 - acc: 0.9133 - val_loss: 0.2897 - val_acc: 0.9600\n",
            "Epoch 195/200\n",
            "5/5 [==============================] - 0s 13ms/step - loss: 0.1649 - acc: 0.9400 - val_loss: 0.3231 - val_acc: 0.9600\n",
            "Epoch 196/200\n",
            "5/5 [==============================] - 0s 14ms/step - loss: 0.1700 - acc: 0.9333 - val_loss: 0.3201 - val_acc: 0.9600\n",
            "Epoch 197/200\n",
            "5/5 [==============================] - 0s 12ms/step - loss: 0.2216 - acc: 0.8933 - val_loss: 0.3314 - val_acc: 0.9600\n",
            "Epoch 198/200\n",
            "5/5 [==============================] - 0s 17ms/step - loss: 0.1845 - acc: 0.9333 - val_loss: 0.3278 - val_acc: 0.9600\n",
            "Epoch 199/200\n",
            "5/5 [==============================] - 0s 18ms/step - loss: 0.1954 - acc: 0.9067 - val_loss: 0.3198 - val_acc: 0.9600\n",
            "Epoch 200/200\n",
            "5/5 [==============================] - 0s 17ms/step - loss: 0.1811 - acc: 0.9133 - val_loss: 0.2937 - val_acc: 0.9600\n"
          ]
        }
      ]
    },
    {
      "cell_type": "code",
      "metadata": {
        "colab": {
          "base_uri": "https://localhost:8080/",
          "height": 887
        },
        "id": "qJnFOLndpoN9",
        "outputId": "59b965dd-aebe-42d2-f887-8454ac3be462"
      },
      "source": [
        "### Plot training and validation accuracy and loss over time\n",
        "\n",
        "# Extract accuracy and loss values (in list form) from the history\n",
        "acc = history.history['acc']\n",
        "val_acc = history.history['val_acc']\n",
        "loss = history.history['loss']\n",
        "val_loss = history.history['val_loss']\n",
        "\n",
        "# Create a list of epoch numbers\n",
        "epochs = range(1, len(acc) + 1)\n",
        "\n",
        "# Plot training and validation loss values over time\n",
        "plt.figure()\n",
        "plt.plot(epochs, loss, color='blue', marker='.', label='Training loss')\n",
        "plt.plot(epochs, val_loss, color='orange', marker='.', label='Validation loss')\n",
        "plt.title('Training and validation loss')\n",
        "plt.legend()\n",
        "\n",
        "# Plot training and validation accuracies over time\n",
        "plt.figure()\n",
        "plt.plot(epochs, acc, color='blue', marker='.', label='Training acc')\n",
        "plt.plot(epochs, val_acc, color='orange', marker='.', label='Validation acc')\n",
        "plt.title('Training and validation accuracy')\n",
        "plt.legend()\n",
        "plt.show()"
      ],
      "execution_count": null,
      "outputs": [
        {
          "output_type": "display_data",
          "data": {
            "text/plain": [
              "<Figure size 640x480 with 1 Axes>"
            ],
            "image/png": "[encoded data removed]"
          },
          "metadata": {}
        },
        {
          "output_type": "display_data",
          "data": {
            "text/plain": [
              "<Figure size 640x480 with 1 Axes>"
            ],
            "image/png": "[encoded data removed]"
          },
          "metadata": {}
        }
      ]
    },
    {
      "cell_type": "code",
      "metadata": {
        "colab": {
          "base_uri": "https://localhost:8080/"
        },
        "id": "kgmX9gfJpq-L",
        "outputId": "5f1b7ec3-5025-4638-f318-6ae917fefd38"
      },
      "source": [
        "### Try predicting label with one validation sample (inference)\n",
        "\n",
        "# Change this to try a different sample from the test set\n",
        "idx = 0\n",
        "\n",
        "# Make sample 2D array instead of 1D vector (this is what the Keras model expects as input)\n",
        "x = np.expand_dims(X_val[idx], 0)\n",
        "\n",
        "# Make prediction using trained model\n",
        "y_pred = model.predict(x)\n",
        "\n",
        "# Find index of highest score in output\n",
        "predicted_label = np.argmax(y_pred)\n",
        "actual_label = np.argmax(Y_val[idx])\n",
        "\n",
        "# Display model output, predicted label, actual label\n",
        "print(\"Model output:\", y_pred)\n",
        "print(\"Predicted label:\", predicted_label, \"-\", labels[predicted_label])\n",
        "print(\"Actual label:\", actual_label, \"-\", labels[actual_label])"
      ],
      "execution_count": null,
      "outputs": [
        {
          "output_type": "stream",
          "name": "stdout",
          "text": [
            "1/1 [==============================] - 0s 146ms/step\n",
            "Model output: [[1.1163406e-04 1.5341386e-04 6.7211695e-02 4.5201345e-03 9.2800313e-01]]\n",
            "Predicted label: 4 - resistor\n",
            "Actual label: 4 - resistor\n"
          ]
        }
      ]
    },
    {
      "cell_type": "code",
      "metadata": {
        "colab": {
          "base_uri": "https://localhost:8080/"
        },
        "id": "0Lo3KWpjptJk",
        "outputId": "88a2956c-4e6a-42b9-8233-ee52a26e9653"
      },
      "source": [
        "### Create confusion matrix from validation set\n",
        "\n",
        "# Find predictions from all validation samples\n",
        "Y_pred = model.predict(X_val)\n",
        "print(\"Validation output shape:\", Y_pred.shape)\n",
        "\n",
        "# Convert actual and predicted validation one-hot encoding to numerical labels\n",
        "y_val = np.argmax(Y_val, axis=1)\n",
        "y_pred = np.argmax(Y_pred, axis=1)\n",
        "\n",
        "# Print some values from actual and predicted validation sets (first 50 samples)\n",
        "print(\"Actual validation labels:\\t\", y_val[:50])\n",
        "print(\"Predicted validation labels:\\t\", y_pred[:50])\n",
        "\n",
        "# Compute confusion matrix (note: we need to transpose SKLearn matrix to make it match Edge Impulse)\n",
        "cm = confusion_matrix(y_val, y_pred)\n",
        "cm = np.transpose(cm)\n",
        "\n",
        "# Print confusion matrix\n",
        "print()\n",
        "print(\" ---> Predicted labels\")\n",
        "print(\"|\")\n",
        "print(\"v Actual labels\")\n",
        "print(\"\\t\\t\\t\" + ' '.join(\"{!s:6}\".format('(' + str(i) + ')') for i in range(num_classes)))\n",
        "for row in range(num_classes):\n",
        "  print(\"{:>12} ({}):  [{}]\".format(labels[row], row, ' '.join(\"{:6}\".format(i) for i in cm[row])))"
      ],
      "execution_count": null,
      "outputs": [
        {
          "output_type": "stream",
          "name": "stdout",
          "text": [
            "2/2 [==============================] - 0s 5ms/step\n",
            "Validation output shape: (50, 5)\n",
            "Actual validation labels:\t [4 4 1 4 3 2 0 2 0 3 2 4 4 4 0 3 0 3 0 3 1 1 0 4 1 0 3 0 1 2 2 3 1 3 0 0 2\n",
            " 3 3 1 1 0 3 4 1 2 3 4 0 0]\n",
            "Predicted validation labels:\t [4 4 1 4 4 2 0 2 0 3 2 4 4 4 0 3 0 3 0 3 1 1 0 4 1 0 3 0 1 2 2 3 1 3 0 0 2\n",
            " 3 3 1 1 0 3 1 1 2 3 4 0 0]\n",
            "\n",
            " ---> Predicted labels\n",
            "|\n",
            "v Actual labels\n",
            "\t\t\t(0)    (1)    (2)    (3)    (4)   \n",
            "  background (0):  [    13      0      0      0      0]\n",
            "   capacitor (1):  [     0      9      0      0      1]\n",
            "       diode (2):  [     0      0      7      0      0]\n",
            "         led (3):  [     0      0      0     11      0]\n",
            "    resistor (4):  [     0      0      0      1      8]\n"
          ]
        }
      ]
    },
    {
      "cell_type": "code",
      "metadata": {
        "colab": {
          "base_uri": "https://localhost:8080/"
        },
        "id": "hgZXa_y2qorZ",
        "outputId": "b9983196-fda7-4c88-bfc4-da9b08f76ee9"
      },
      "source": [
        "### Evaluate model on validation set\n",
        "score = model.evaluate(X_val, Y_val)\n",
        "print(\"Validation loss:\", score[0])\n",
        "print(\"Validation accuracy:\", score[1])"
      ],
      "execution_count": null,
      "outputs": [
        {
          "output_type": "stream",
          "name": "stdout",
          "text": [
            "2/2 [==============================] - 0s 10ms/step - loss: 0.2937 - acc: 0.9600\n",
            "Validation loss: 0.293684184551239\n",
            "Validation accuracy: 0.9599999785423279\n"
          ]
        }
      ]
    },
    {
      "cell_type": "code",
      "metadata": {
        "colab": {
          "base_uri": "https://localhost:8080/"
        },
        "id": "m2lvFg0RVxFr",
        "outputId": "d2bb0bc3-4c0a-4176-8070-47752c00058a"
      },
      "source": [
        "### Evaluate model on entire test set\n",
        "score = model.evaluate(X_test, Y_test)\n",
        "print(\"Test loss:\", score[0])\n",
        "print(\"Test accuracy:\", score[1])"
      ],
      "execution_count": null,
      "outputs": [
        {
          "output_type": "stream",
          "name": "stdout",
          "text": [
            "2/2 [==============================] - 0s 7ms/step - loss: 0.1726 - acc: 0.9200\n",
            "Test loss: 0.17263461649417877\n",
            "Test accuracy: 0.9200000166893005\n"
          ]
        }
      ]
    }
  ]
}